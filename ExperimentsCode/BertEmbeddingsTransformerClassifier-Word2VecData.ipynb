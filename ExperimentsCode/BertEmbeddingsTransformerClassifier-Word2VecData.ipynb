{
 "cells": [
  {
   "cell_type": "code",
   "execution_count": 1,
   "id": "340f836f",
   "metadata": {
    "tags": []
   },
   "outputs": [],
   "source": [
    "import pandas as pd\n",
    "import tensorflow as tf\n",
    "import tensorflow_hub as hub\n",
    "import tensorflow_text as text\n",
    "import matplotlib.pyplot as plt\n",
    "import numpy as np\n",
    "import random\n",
    "from tensorflow.keras import layers\n",
    "from sklearn.model_selection import train_test_split"
   ]
  },
  {
   "cell_type": "code",
   "execution_count": 2,
   "id": "ef7b446f",
   "metadata": {},
   "outputs": [],
   "source": [
    "gpus = tf.config.list_physical_devices('GPU')\n",
    "tf.config.set_visible_devices(gpus[0], 'GPU')"
   ]
  },
  {
   "cell_type": "code",
   "execution_count": 3,
   "id": "46a9ef02",
   "metadata": {},
   "outputs": [],
   "source": [
    "tf.random.set_seed(12345)\n",
    "np.random.seed(5678)\n",
    "random.seed(123)"
   ]
  },
  {
   "cell_type": "markdown",
   "id": "8748c683",
   "metadata": {},
   "source": [
    "# Get Data"
   ]
  },
  {
   "cell_type": "code",
   "execution_count": 4,
   "id": "3ffdbf9a",
   "metadata": {},
   "outputs": [],
   "source": [
    "split_test_data = pd.read_csv('../Data/SplitWord2VecDataV2.csv')"
   ]
  },
  {
   "cell_type": "code",
   "execution_count": 5,
   "id": "0afbaabe",
   "metadata": {},
   "outputs": [],
   "source": [
    "x_train, x_test, y_train, y_test = train_test_split(split_test_data['text'], split_test_data['marked'], stratify=split_test_data['marked'], random_state=12345)"
   ]
  },
  {
   "cell_type": "code",
   "execution_count": 6,
   "id": "a52649a6",
   "metadata": {
    "scrolled": true
   },
   "outputs": [
    {
     "data": {
      "text/plain": [
       "24562     51: 29 and the land shall tremble and sorrow: ...\n",
       "120983                               she did not hands him.\n",
       "5000      could a linguist, could a grammarian, could ev...\n",
       "124015                                 solid, settled lost.\n",
       "124413    bobby joe was trying to get linda kay to say s...\n",
       "                                ...                        \n",
       "47756       \" it is a new planet and it shall bear my name.\n",
       "99588     mandatory retirement at sixty-five looms on ou...\n",
       "78109        fellow, come from the throng, look vpon caesar\n",
       "111535    the uniform fiscal year brings the town's fisc...\n",
       "96866                             check put of lid on jar;;\n",
       "Name: text, Length: 103978, dtype: object"
      ]
     },
     "execution_count": 6,
     "metadata": {},
     "output_type": "execute_result"
    }
   ],
   "source": [
    "x_train"
   ]
  },
  {
   "cell_type": "code",
   "execution_count": 7,
   "id": "1857f7d5",
   "metadata": {
    "scrolled": true
   },
   "outputs": [
    {
     "data": {
      "text/plain": [
       "24562     0\n",
       "120983    1\n",
       "5000      0\n",
       "124015    0\n",
       "124413    1\n",
       "         ..\n",
       "47756     0\n",
       "99588     1\n",
       "78109     0\n",
       "111535    0\n",
       "96866     1\n",
       "Name: marked, Length: 103978, dtype: int64"
      ]
     },
     "execution_count": 7,
     "metadata": {},
     "output_type": "execute_result"
    }
   ],
   "source": [
    "y_train"
   ]
  },
  {
   "cell_type": "code",
   "execution_count": 8,
   "id": "d7ea4587-59cf-4d6e-99a3-33cee20d8bee",
   "metadata": {
    "tags": []
   },
   "outputs": [
    {
     "data": {
      "text/plain": [
       "129828                     gradually they emerged as women.\n",
       "40550     17: 20 and when absalom' s servant came to the...\n",
       "75649     and now that at the proper time and place, aft...\n",
       "130984                     \"you're not to mentions my name.\n",
       "70670     here you are, pip; and there' s the windlass -...\n",
       "                                ...                        \n",
       "78390     harke, harke, one knockes: portia go in a whil...\n",
       "29946     13: 18 and pray ye that your flight be not in ...\n",
       "68086                  it was a saturday night in december.\n",
       "107447    \"he looks as masculine as you can imagine\", sh...\n",
       "34322     2: 4 but god, who is wealthy in mercy, for his...\n",
       "Name: text, Length: 34660, dtype: object"
      ]
     },
     "execution_count": 8,
     "metadata": {},
     "output_type": "execute_result"
    }
   ],
   "source": [
    "x_test"
   ]
  },
  {
   "cell_type": "code",
   "execution_count": 9,
   "id": "a2897a75-0e86-4246-851e-c0d8ccd62bbf",
   "metadata": {
    "tags": []
   },
   "outputs": [
    {
     "data": {
      "text/plain": [
       "129828    1\n",
       "40550     1\n",
       "75649     0\n",
       "130984    1\n",
       "70670     1\n",
       "         ..\n",
       "78390     1\n",
       "29946     0\n",
       "68086     0\n",
       "107447    1\n",
       "34322     1\n",
       "Name: marked, Length: 34660, dtype: int64"
      ]
     },
     "execution_count": 9,
     "metadata": {},
     "output_type": "execute_result"
    }
   ],
   "source": [
    "y_test"
   ]
  },
  {
   "cell_type": "markdown",
   "id": "9304d81e",
   "metadata": {},
   "source": [
    "# Create Model"
   ]
  },
  {
   "cell_type": "code",
   "execution_count": 8,
   "id": "9bc552f4",
   "metadata": {
    "scrolled": true
   },
   "outputs": [],
   "source": [
    "bert_preprocess = hub.KerasLayer(\"https://tfhub.dev/tensorflow/bert_en_uncased_preprocess/3\")\n",
    "bert_encoder = hub.KerasLayer(\"https://tfhub.dev/tensorflow/bert_en_uncased_L-12_H-768_A-12/4\")"
   ]
  },
  {
   "cell_type": "code",
   "execution_count": 9,
   "id": "b9ef8b49",
   "metadata": {},
   "outputs": [],
   "source": [
    "class TransformerBlock(layers.Layer):\n",
    "    def __init__(self, embed_dim, num_heads, ff_dim, rate=0.1):\n",
    "        super().__init__()\n",
    "        self.att = layers.MultiHeadAttention(num_heads=num_heads, key_dim=embed_dim)\n",
    "        self.ffn = tf.keras.Sequential(\n",
    "            [layers.Dense(ff_dim, activation=\"relu\"), layers.Dense(embed_dim),]\n",
    "        )\n",
    "        self.layernorm1 = layers.LayerNormalization(epsilon=1e-6)\n",
    "        self.layernorm2 = layers.LayerNormalization(epsilon=1e-6)\n",
    "        self.dropout1 = layers.Dropout(rate)\n",
    "        self.dropout2 = layers.Dropout(rate)\n",
    "\n",
    "    def call(self, inputs, training):\n",
    "        attn_output = self.att(inputs, inputs)\n",
    "        attn_output = self.dropout1(attn_output, training=training)\n",
    "        out1 = self.layernorm1(inputs + attn_output)\n",
    "        ffn_output = self.ffn(out1)\n",
    "        ffn_output = self.dropout2(ffn_output, training=training)\n",
    "        return self.layernorm2(out1 + ffn_output)"
   ]
  },
  {
   "cell_type": "code",
   "execution_count": 10,
   "id": "464b9c90",
   "metadata": {},
   "outputs": [],
   "source": [
    "embed_dim = 768  # Embedding size for each token\n",
    "num_heads = 16  # Number of attention heads\n",
    "ff_dim = 768 # Hidden layer size in feed forward network inside transformer\n",
    "\n",
    "# Bert layers\n",
    "text_input = tf.keras.layers.Input(shape=(), dtype=tf.string, name='text')\n",
    "preprocessed_text = bert_preprocess(text_input)\n",
    "outputs = bert_encoder(preprocessed_text)\n",
    "\n",
    "# Neural network layers\n",
    "x = TransformerBlock(embed_dim, num_heads, ff_dim)(outputs[\"sequence_output\"])\n",
    "x = layers.GlobalAveragePooling1D()(x)\n",
    "x = layers.Dropout(0.1)(x)\n",
    "x = layers.Dense(20, activation=\"relu\")(x)\n",
    "x = layers.Dropout(0.1)(x)\n",
    "x = layers.Dense(1, activation=\"sigmoid\")(x)\n",
    "\n",
    "model = tf.keras.Model(inputs=[text_input], outputs = [x])"
   ]
  },
  {
   "cell_type": "code",
   "execution_count": 11,
   "id": "e57e230f",
   "metadata": {
    "scrolled": true
   },
   "outputs": [
    {
     "name": "stdout",
     "output_type": "stream",
     "text": [
      "Model: \"model\"\n",
      "__________________________________________________________________________________________________\n",
      "Layer (type)                    Output Shape         Param #     Connected to                     \n",
      "==================================================================================================\n",
      "text (InputLayer)               [(None,)]            0                                            \n",
      "__________________________________________________________________________________________________\n",
      "keras_layer (KerasLayer)        {'input_mask': (None 0           text[0][0]                       \n",
      "__________________________________________________________________________________________________\n",
      "keras_layer_1 (KerasLayer)      {'pooled_output': (N 109482241   keras_layer[0][0]                \n",
      "                                                                 keras_layer[0][1]                \n",
      "                                                                 keras_layer[0][2]                \n",
      "__________________________________________________________________________________________________\n",
      "transformer_block (TransformerB (None, 128, 768)     38970624    keras_layer_1[0][14]             \n",
      "__________________________________________________________________________________________________\n",
      "global_average_pooling1d (Globa (None, 768)          0           transformer_block[0][0]          \n",
      "__________________________________________________________________________________________________\n",
      "dropout_2 (Dropout)             (None, 768)          0           global_average_pooling1d[0][0]   \n",
      "__________________________________________________________________________________________________\n",
      "dense_2 (Dense)                 (None, 20)           15380       dropout_2[0][0]                  \n",
      "__________________________________________________________________________________________________\n",
      "dropout_3 (Dropout)             (None, 20)           0           dense_2[0][0]                    \n",
      "__________________________________________________________________________________________________\n",
      "dense_3 (Dense)                 (None, 1)            21          dropout_3[0][0]                  \n",
      "==================================================================================================\n",
      "Total params: 148,468,266\n",
      "Trainable params: 38,986,025\n",
      "Non-trainable params: 109,482,241\n",
      "__________________________________________________________________________________________________\n"
     ]
    }
   ],
   "source": [
    "model.summary()"
   ]
  },
  {
   "cell_type": "markdown",
   "id": "eeae1e15",
   "metadata": {},
   "source": [
    "# Training"
   ]
  },
  {
   "cell_type": "code",
   "execution_count": 12,
   "id": "d051c56b",
   "metadata": {},
   "outputs": [],
   "source": [
    "opt = tf.keras.optimizers.Adam(learning_rate=0.0001)\n",
    "model.compile(optimizer=opt, loss='binary_crossentropy', metrics=['accuracy'])"
   ]
  },
  {
   "cell_type": "code",
   "execution_count": 13,
   "id": "3b5eafea",
   "metadata": {
    "scrolled": true
   },
   "outputs": [
    {
     "name": "stdout",
     "output_type": "stream",
     "text": [
      "Epoch 1/6\n",
      "3250/3250 [==============================] - 290s 88ms/step - loss: 0.6564 - accuracy: 0.5921 - val_loss: 0.6053 - val_accuracy: 0.6563\n",
      "Epoch 2/6\n",
      "3250/3250 [==============================] - 283s 87ms/step - loss: 0.5876 - accuracy: 0.6703 - val_loss: 0.5782 - val_accuracy: 0.6811\n",
      "Epoch 3/6\n",
      "3250/3250 [==============================] - 282s 87ms/step - loss: 0.5583 - accuracy: 0.6955 - val_loss: 0.5648 - val_accuracy: 0.6921\n",
      "Epoch 4/6\n",
      "3250/3250 [==============================] - 283s 87ms/step - loss: 0.5338 - accuracy: 0.7163 - val_loss: 0.5565 - val_accuracy: 0.6974\n",
      "Epoch 5/6\n",
      "3250/3250 [==============================] - 283s 87ms/step - loss: 0.5130 - accuracy: 0.7325 - val_loss: 0.5694 - val_accuracy: 0.7026\n",
      "Epoch 6/6\n",
      "3250/3250 [==============================] - 283s 87ms/step - loss: 0.4910 - accuracy: 0.7487 - val_loss: 0.5644 - val_accuracy: 0.6949\n"
     ]
    }
   ],
   "source": [
    "callbacks = model.fit(x_train, y_train, validation_data=(x_test, y_test), epochs=6, batch_size = 32)"
   ]
  },
  {
   "cell_type": "code",
   "execution_count": 14,
   "id": "97bc9e6f",
   "metadata": {},
   "outputs": [
    {
     "data": {
      "image/png": "[encoded data removed]",
      "text/plain": [
       "<Figure size 800x600 with 1 Axes>"
      ]
     },
     "metadata": {},
     "output_type": "display_data"
    }
   ],
   "source": [
    "model_history = pd.DataFrame(callbacks.history)\n",
    "model_history['epoch'] = callbacks.epoch\n",
    "\n",
    "fig, ax = plt.subplots(1, figsize=(8,6))\n",
    "num_epochs = model_history.shape[0]\n",
    "\n",
    "ax.plot(np.arange(0, num_epochs), model_history[\"loss\"], \n",
    "        label=\"Training Loss\")\n",
    "ax.plot(np.arange(0, num_epochs), model_history[\"val_loss\"], \n",
    "        label=\"Validation Loss\")\n",
    "ax.legend()\n",
    "\n",
    "plt.tight_layout()\n",
    "plt.show()"
   ]
  },
  {
   "cell_type": "code",
   "execution_count": 15,
   "id": "dc67ee41",
   "metadata": {},
   "outputs": [
    {
     "data": {
      "image/png": "[encoded data removed]",
      "text/plain": [
       "<Figure size 800x600 with 1 Axes>"
      ]
     },
     "metadata": {},
     "output_type": "display_data"
    }
   ],
   "source": [
    "model_history = pd.DataFrame(callbacks.history)\n",
    "model_history['epoch'] = callbacks.epoch\n",
    "\n",
    "fig, ax = plt.subplots(1, figsize=(8,6))\n",
    "num_epochs = model_history.shape[0]\n",
    "\n",
    "ax.plot(np.arange(0, num_epochs), model_history[\"accuracy\"], \n",
    "        label=\"Training Accuracy\")\n",
    "ax.plot(np.arange(0, num_epochs), model_history[\"val_accuracy\"], \n",
    "        label=\"Validation Accuracy\")\n",
    "ax.legend()\n",
    "\n",
    "plt.tight_layout()\n",
    "plt.show()"
   ]
  },
  {
   "cell_type": "markdown",
   "id": "10aa7cb4",
   "metadata": {},
   "source": [
    "# Fine Tuning"
   ]
  },
  {
   "cell_type": "code",
   "execution_count": 16,
   "id": "5a03d29a",
   "metadata": {},
   "outputs": [],
   "source": [
    "# Unfreeze bert layers.\n",
    "model.trainable = True"
   ]
  },
  {
   "cell_type": "code",
   "execution_count": 17,
   "id": "b933c862",
   "metadata": {},
   "outputs": [
    {
     "name": "stdout",
     "output_type": "stream",
     "text": [
      "Model: \"model\"\n",
      "__________________________________________________________________________________________________\n",
      "Layer (type)                    Output Shape         Param #     Connected to                     \n",
      "==================================================================================================\n",
      "text (InputLayer)               [(None,)]            0                                            \n",
      "__________________________________________________________________________________________________\n",
      "keras_layer (KerasLayer)        {'input_mask': (None 0           text[0][0]                       \n",
      "__________________________________________________________________________________________________\n",
      "keras_layer_1 (KerasLayer)      {'pooled_output': (N 109482241   keras_layer[0][0]                \n",
      "                                                                 keras_layer[0][1]                \n",
      "                                                                 keras_layer[0][2]                \n",
      "__________________________________________________________________________________________________\n",
      "transformer_block (TransformerB (None, 128, 768)     38970624    keras_layer_1[0][14]             \n",
      "__________________________________________________________________________________________________\n",
      "global_average_pooling1d (Globa (None, 768)          0           transformer_block[0][0]          \n",
      "__________________________________________________________________________________________________\n",
      "dropout_2 (Dropout)             (None, 768)          0           global_average_pooling1d[0][0]   \n",
      "__________________________________________________________________________________________________\n",
      "dense_2 (Dense)                 (None, 20)           15380       dropout_2[0][0]                  \n",
      "__________________________________________________________________________________________________\n",
      "dropout_3 (Dropout)             (None, 20)           0           dense_2[0][0]                    \n",
      "__________________________________________________________________________________________________\n",
      "dense_3 (Dense)                 (None, 1)            21          dropout_3[0][0]                  \n",
      "==================================================================================================\n",
      "Total params: 148,468,266\n",
      "Trainable params: 148,468,265\n",
      "Non-trainable params: 1\n",
      "__________________________________________________________________________________________________\n"
     ]
    }
   ],
   "source": [
    "model.summary()"
   ]
  },
  {
   "cell_type": "code",
   "execution_count": 18,
   "id": "36bd4266",
   "metadata": {},
   "outputs": [],
   "source": [
    "opt = tf.keras.optimizers.Adam(learning_rate=0.000001)\n",
    "model.compile(optimizer=opt, loss='binary_crossentropy', metrics=['accuracy'])"
   ]
  },
  {
   "cell_type": "code",
   "execution_count": 19,
   "id": "122334ae",
   "metadata": {
    "scrolled": true
   },
   "outputs": [
    {
     "name": "stdout",
     "output_type": "stream",
     "text": [
      "Epoch 1/50\n",
      "WARNING:tensorflow:AutoGraph could not transform <bound method Socket.send of <zmq.Socket(zmq.PUSH) at 0x25d8bc88580>> and will run it as-is.\n",
      "Please report this to the TensorFlow team. When filing the bug, set the verbosity to 10 (on Linux, `export AUTOGRAPH_VERBOSITY=10`) and attach the full output.\n",
      "Cause: module, class, method, function, traceback, frame, or code object was expected, got cython_function_or_method\n",
      "To silence this warning, decorate the function with @tf.autograph.experimental.do_not_convert\n"
     ]
    },
    {
     "name": "stderr",
     "output_type": "stream",
     "text": [
      "ERROR:absl:hub.KerasLayer is trainable but has zero trainable weights.\n",
      "WARNING:tensorflow:AutoGraph could not transform <bound method Socket.send of <zmq.Socket(zmq.PUSH) at 0x25d8bc88580>> and will run it as-is.\n",
      "Please report this to the TensorFlow team. When filing the bug, set the verbosity to 10 (on Linux, `export AUTOGRAPH_VERBOSITY=10`) and attach the full output.\n",
      "Cause: module, class, method, function, traceback, frame, or code object was expected, got cython_function_or_method\n",
      "To silence this warning, decorate the function with @tf.autograph.experimental.do_not_convert\n"
     ]
    },
    {
     "name": "stdout",
     "output_type": "stream",
     "text": [
      "WARNING: AutoGraph could not transform <bound method Socket.send of <zmq.Socket(zmq.PUSH) at 0x25d8bc88580>> and will run it as-is.\n",
      "Please report this to the TensorFlow team. When filing the bug, set the verbosity to 10 (on Linux, `export AUTOGRAPH_VERBOSITY=10`) and attach the full output.\n",
      "Cause: module, class, method, function, traceback, frame, or code object was expected, got cython_function_or_method\n",
      "To silence this warning, decorate the function with @tf.autograph.experimental.do_not_convert\n",
      "3250/3250 [==============================] - 515s 157ms/step - loss: 0.5083 - accuracy: 0.7357 - val_loss: 0.5352 - val_accuracy: 0.7241\n",
      "Epoch 2/50\n",
      "3250/3250 [==============================] - 508s 156ms/step - loss: 0.4808 - accuracy: 0.7569 - val_loss: 0.5215 - val_accuracy: 0.7343\n",
      "Epoch 3/50\n",
      "3250/3250 [==============================] - 510s 157ms/step - loss: 0.4614 - accuracy: 0.7685 - val_loss: 0.5250 - val_accuracy: 0.7408\n",
      "Epoch 4/50\n",
      "3250/3250 [==============================] - 508s 156ms/step - loss: 0.4431 - accuracy: 0.7811 - val_loss: 0.5085 - val_accuracy: 0.7450\n",
      "Epoch 5/50\n",
      "3250/3250 [==============================] - 507s 156ms/step - loss: 0.4278 - accuracy: 0.7931 - val_loss: 0.5154 - val_accuracy: 0.7504\n",
      "Epoch 6/50\n",
      "3250/3250 [==============================] - 507s 156ms/step - loss: 0.4140 - accuracy: 0.8002 - val_loss: 0.5183 - val_accuracy: 0.7531\n",
      "Epoch 7/50\n",
      "3250/3250 [==============================] - 508s 156ms/step - loss: 0.4004 - accuracy: 0.8103 - val_loss: 0.5128 - val_accuracy: 0.7563\n",
      "Epoch 8/50\n",
      "3250/3250 [==============================] - 507s 156ms/step - loss: 0.3843 - accuracy: 0.8191 - val_loss: 0.5232 - val_accuracy: 0.7592\n",
      "Epoch 9/50\n",
      "3250/3250 [==============================] - 508s 156ms/step - loss: 0.3717 - accuracy: 0.8257 - val_loss: 0.5304 - val_accuracy: 0.7602\n",
      "Epoch 10/50\n",
      "3250/3250 [==============================] - 507s 156ms/step - loss: 0.3565 - accuracy: 0.8356 - val_loss: 0.5423 - val_accuracy: 0.7640\n",
      "Epoch 11/50\n",
      "3250/3250 [==============================] - 507s 156ms/step - loss: 0.3457 - accuracy: 0.8409 - val_loss: 0.5388 - val_accuracy: 0.7644\n",
      "Epoch 12/50\n",
      "3250/3250 [==============================] - 507s 156ms/step - loss: 0.3282 - accuracy: 0.8514 - val_loss: 0.5473 - val_accuracy: 0.7660\n",
      "Epoch 13/50\n",
      "3250/3250 [==============================] - 507s 156ms/step - loss: 0.3177 - accuracy: 0.8575 - val_loss: 0.5661 - val_accuracy: 0.7671\n",
      "Epoch 14/50\n",
      "3250/3250 [==============================] - 518s 159ms/step - loss: 0.3033 - accuracy: 0.8650 - val_loss: 0.5616 - val_accuracy: 0.7673\n",
      "Epoch 15/50\n",
      "3250/3250 [==============================] - 517s 159ms/step - loss: 0.2915 - accuracy: 0.8708 - val_loss: 0.5774 - val_accuracy: 0.7703\n",
      "Epoch 16/50\n",
      "3250/3250 [==============================] - 511s 157ms/step - loss: 0.2787 - accuracy: 0.8779 - val_loss: 0.6152 - val_accuracy: 0.7717\n",
      "Epoch 17/50\n",
      "3250/3250 [==============================] - 511s 157ms/step - loss: 0.2672 - accuracy: 0.8839 - val_loss: 0.6028 - val_accuracy: 0.7718\n",
      "Epoch 18/50\n",
      "3250/3250 [==============================] - 510s 157ms/step - loss: 0.2559 - accuracy: 0.8899 - val_loss: 0.6169 - val_accuracy: 0.7722\n",
      "Epoch 19/50\n",
      "3250/3250 [==============================] - 511s 157ms/step - loss: 0.2434 - accuracy: 0.8956 - val_loss: 0.6450 - val_accuracy: 0.7737\n",
      "Epoch 20/50\n",
      "3250/3250 [==============================] - 511s 157ms/step - loss: 0.2323 - accuracy: 0.8999 - val_loss: 0.6681 - val_accuracy: 0.7727\n",
      "Epoch 21/50\n",
      "3250/3250 [==============================] - 511s 157ms/step - loss: 0.2222 - accuracy: 0.9065 - val_loss: 0.6680 - val_accuracy: 0.7734\n",
      "Epoch 22/50\n",
      "3250/3250 [==============================] - 511s 157ms/step - loss: 0.2089 - accuracy: 0.9128 - val_loss: 0.7067 - val_accuracy: 0.7746\n",
      "Epoch 23/50\n",
      "3250/3250 [==============================] - 512s 157ms/step - loss: 0.1992 - accuracy: 0.9174 - val_loss: 0.7282 - val_accuracy: 0.7758\n",
      "Epoch 24/50\n",
      "3250/3250 [==============================] - 512s 158ms/step - loss: 0.1885 - accuracy: 0.9217 - val_loss: 0.7095 - val_accuracy: 0.7758\n",
      "Epoch 25/50\n",
      "3250/3250 [==============================] - 510s 157ms/step - loss: 0.1790 - accuracy: 0.9264 - val_loss: 0.7602 - val_accuracy: 0.7763\n",
      "Epoch 26/50\n",
      "3250/3250 [==============================] - 507s 156ms/step - loss: 0.1719 - accuracy: 0.9299 - val_loss: 0.7484 - val_accuracy: 0.7771\n",
      "Epoch 27/50\n",
      "3250/3250 [==============================] - 511s 157ms/step - loss: 0.1648 - accuracy: 0.9334 - val_loss: 0.7626 - val_accuracy: 0.7761\n",
      "Epoch 28/50\n",
      "3250/3250 [==============================] - 512s 158ms/step - loss: 0.1531 - accuracy: 0.9371 - val_loss: 0.7717 - val_accuracy: 0.7765\n",
      "Epoch 29/50\n",
      "3250/3250 [==============================] - 512s 157ms/step - loss: 0.1422 - accuracy: 0.9433 - val_loss: 0.8066 - val_accuracy: 0.7776\n",
      "Epoch 30/50\n",
      "3250/3250 [==============================] - 511s 157ms/step - loss: 0.1381 - accuracy: 0.9455 - val_loss: 0.8295 - val_accuracy: 0.7782\n",
      "Epoch 31/50\n",
      "3250/3250 [==============================] - 512s 157ms/step - loss: 0.1274 - accuracy: 0.9502 - val_loss: 0.8566 - val_accuracy: 0.7765\n",
      "Epoch 32/50\n",
      "3250/3250 [==============================] - 512s 158ms/step - loss: 0.1206 - accuracy: 0.9523 - val_loss: 0.8816 - val_accuracy: 0.7793\n",
      "Epoch 33/50\n",
      "3250/3250 [==============================] - 512s 158ms/step - loss: 0.1165 - accuracy: 0.9541 - val_loss: 0.8810 - val_accuracy: 0.7797\n",
      "Epoch 34/50\n",
      "3250/3250 [==============================] - 508s 156ms/step - loss: 0.1072 - accuracy: 0.9581 - val_loss: 0.9075 - val_accuracy: 0.7789\n",
      "Epoch 35/50\n",
      "3250/3250 [==============================] - 508s 156ms/step - loss: 0.1010 - accuracy: 0.9606 - val_loss: 0.9055 - val_accuracy: 0.7794\n",
      "Epoch 36/50\n",
      "3250/3250 [==============================] - 508s 156ms/step - loss: 0.0969 - accuracy: 0.9628 - val_loss: 0.9197 - val_accuracy: 0.7797\n",
      "Epoch 37/50\n",
      "3250/3250 [==============================] - 508s 156ms/step - loss: 0.0890 - accuracy: 0.9656 - val_loss: 0.9552 - val_accuracy: 0.7786\n",
      "Epoch 38/50\n",
      "3250/3250 [==============================] - 508s 156ms/step - loss: 0.0882 - accuracy: 0.9658 - val_loss: 0.9529 - val_accuracy: 0.7777\n",
      "Epoch 39/50\n",
      "3250/3250 [==============================] - 508s 156ms/step - loss: 0.0810 - accuracy: 0.9694 - val_loss: 1.0018 - val_accuracy: 0.7811\n",
      "Epoch 40/50\n",
      "3250/3250 [==============================] - 508s 156ms/step - loss: 0.0769 - accuracy: 0.9710 - val_loss: 0.9955 - val_accuracy: 0.7809\n",
      "Epoch 41/50\n",
      "3250/3250 [==============================] - 508s 156ms/step - loss: 0.0716 - accuracy: 0.9734 - val_loss: 0.9752 - val_accuracy: 0.7739\n",
      "Epoch 42/50\n",
      "3250/3250 [==============================] - 508s 156ms/step - loss: 0.0698 - accuracy: 0.9741 - val_loss: 1.0430 - val_accuracy: 0.7812\n",
      "Epoch 43/50\n",
      "3250/3250 [==============================] - 510s 157ms/step - loss: 0.0643 - accuracy: 0.9761 - val_loss: 1.0721 - val_accuracy: 0.7827\n",
      "Epoch 44/50\n",
      "3250/3250 [==============================] - 512s 158ms/step - loss: 0.0609 - accuracy: 0.9775 - val_loss: 1.0653 - val_accuracy: 0.7827\n",
      "Epoch 45/50\n",
      "3250/3250 [==============================] - 513s 158ms/step - loss: 0.0579 - accuracy: 0.9789 - val_loss: 1.0869 - val_accuracy: 0.7830\n",
      "Epoch 46/50\n",
      "3250/3250 [==============================] - 512s 158ms/step - loss: 0.0554 - accuracy: 0.9801 - val_loss: 1.1230 - val_accuracy: 0.7819\n",
      "Epoch 47/50\n",
      "3250/3250 [==============================] - 513s 158ms/step - loss: 0.0520 - accuracy: 0.9811 - val_loss: 1.1016 - val_accuracy: 0.7809\n",
      "Epoch 48/50\n",
      "3250/3250 [==============================] - 513s 158ms/step - loss: 0.0506 - accuracy: 0.9819 - val_loss: 1.1112 - val_accuracy: 0.7827\n",
      "Epoch 49/50\n",
      "3250/3250 [==============================] - 512s 158ms/step - loss: 0.0477 - accuracy: 0.9831 - val_loss: 1.0920 - val_accuracy: 0.7827\n",
      "Epoch 50/50\n",
      "3250/3250 [==============================] - 512s 157ms/step - loss: 0.0452 - accuracy: 0.9842 - val_loss: 1.1056 - val_accuracy: 0.7831\n"
     ]
    }
   ],
   "source": [
    "callbacks_ft = model.fit(x_train, y_train, validation_data=(x_test, y_test), epochs=50, batch_size = 32)"
   ]
  },
  {
   "cell_type": "code",
   "execution_count": 20,
   "id": "698ed39c",
   "metadata": {},
   "outputs": [
    {
     "data": {
      "image/png": "[encoded data removed]",
      "text/plain": [
       "<Figure size 800x600 with 1 Axes>"
      ]
     },
     "metadata": {},
     "output_type": "display_data"
    }
   ],
   "source": [
    "model_history = pd.DataFrame(callbacks_ft.history)\n",
    "model_history['epoch'] = callbacks_ft.epoch\n",
    "\n",
    "fig, ax = plt.subplots(1, figsize=(8,6))\n",
    "num_epochs = model_history.shape[0]\n",
    "\n",
    "ax.plot(np.arange(0, num_epochs), model_history[\"loss\"], \n",
    "        label=\"Training Loss\")\n",
    "ax.plot(np.arange(0, num_epochs), model_history[\"val_loss\"], \n",
    "        label=\"Validation Loss\")\n",
    "ax.legend()\n",
    "\n",
    "plt.tight_layout()\n",
    "plt.show()"
   ]
  },
  {
   "cell_type": "code",
   "execution_count": 21,
   "id": "72371e17",
   "metadata": {
    "collapsed": true,
    "jupyter": {
     "outputs_hidden": true
    },
    "scrolled": true,
    "tags": []
   },
   "outputs": [
    {
     "data": {
      "image/png": "[encoded data removed]",
      "text/plain": [
       "<Figure size 800x600 with 1 Axes>"
      ]
     },
     "metadata": {},
     "output_type": "display_data"
    }
   ],
   "source": [
    "model_history = pd.DataFrame(callbacks_ft.history)\n",
    "model_history['epoch'] = callbacks_ft.epoch\n",
    "\n",
    "fig, ax = plt.subplots(1, figsize=(8,6))\n",
    "num_epochs = model_history.shape[0]\n",
    "\n",
    "ax.plot(np.arange(0, num_epochs), model_history[\"accuracy\"], \n",
    "        label=\"Training Accuracy\")\n",
    "ax.plot(np.arange(0, num_epochs), model_history[\"val_accuracy\"], \n",
    "        label=\"Validation Accuracy\")\n",
    "ax.legend()\n",
    "\n",
    "plt.tight_layout()\n",
    "plt.show()"
   ]
  },
  {
   "cell_type": "code",
   "execution_count": 26,
   "id": "b7f6e30f-cf66-4f9a-8c04-fb8146960c21",
   "metadata": {
    "tags": []
   },
   "outputs": [
    {
     "name": "stdout",
     "output_type": "stream",
     "text": [
      "Epoch 1/10\n",
      "3250/3250 [==============================] - 560s 172ms/step - loss: 0.0417 - accuracy: 0.9855 - val_loss: 1.1558 - val_accuracy: 0.7832\n",
      "Epoch 2/10\n",
      "3250/3250 [==============================] - 633s 195ms/step - loss: 0.0404 - accuracy: 0.9857 - val_loss: 1.1629 - val_accuracy: 0.7832\n",
      "Epoch 3/10\n",
      "3250/3250 [==============================] - 521s 160ms/step - loss: 0.0390 - accuracy: 0.9864 - val_loss: 1.1956 - val_accuracy: 0.7864\n",
      "Epoch 4/10\n",
      "3250/3250 [==============================] - 518s 160ms/step - loss: 0.0373 - accuracy: 0.9868 - val_loss: 1.1879 - val_accuracy: 0.7847\n",
      "Epoch 5/10\n",
      "3250/3250 [==============================] - 518s 159ms/step - loss: 0.0355 - accuracy: 0.9872 - val_loss: 1.1890 - val_accuracy: 0.7818\n",
      "Epoch 6/10\n",
      "3250/3250 [==============================] - 511s 157ms/step - loss: 0.0353 - accuracy: 0.9875 - val_loss: 1.1499 - val_accuracy: 0.7824\n",
      "Epoch 7/10\n",
      "3250/3250 [==============================] - 506s 156ms/step - loss: 0.0322 - accuracy: 0.9886 - val_loss: 1.2203 - val_accuracy: 0.7849\n",
      "Epoch 8/10\n",
      "3250/3250 [==============================] - 513s 158ms/step - loss: 0.0320 - accuracy: 0.9889 - val_loss: 1.1983 - val_accuracy: 0.7859\n",
      "Epoch 9/10\n",
      "3250/3250 [==============================] - 508s 156ms/step - loss: 0.0299 - accuracy: 0.9896 - val_loss: 1.2090 - val_accuracy: 0.7845\n",
      "Epoch 10/10\n",
      "3250/3250 [==============================] - 510s 157ms/step - loss: 0.0299 - accuracy: 0.9897 - val_loss: 1.2428 - val_accuracy: 0.7876\n"
     ]
    }
   ],
   "source": [
    "callbacks_ft2 = model.fit(x_train, y_train, validation_data=(x_test, y_test), epochs=10, batch_size = 32)"
   ]
  },
  {
   "cell_type": "code",
   "execution_count": 27,
   "id": "d1db0e5d-14fc-465b-82db-a326b18d2a50",
   "metadata": {
    "tags": []
   },
   "outputs": [
    {
     "name": "stdout",
     "output_type": "stream",
     "text": [
      "Epoch 1/10\n",
      "3250/3250 [==============================] - 518s 159ms/step - loss: 0.0288 - accuracy: 0.9899 - val_loss: 1.2567 - val_accuracy: 0.7855\n",
      "Epoch 2/10\n",
      "3250/3250 [==============================] - 599s 184ms/step - loss: 0.0265 - accuracy: 0.9910 - val_loss: 1.2840 - val_accuracy: 0.7857\n",
      "Epoch 3/10\n",
      "3250/3250 [==============================] - 592s 182ms/step - loss: 0.0262 - accuracy: 0.9909 - val_loss: 1.2840 - val_accuracy: 0.7857\n",
      "Epoch 4/10\n",
      "3250/3250 [==============================] - 513s 158ms/step - loss: 0.0247 - accuracy: 0.9914 - val_loss: 1.2601 - val_accuracy: 0.7852\n",
      "Epoch 5/10\n",
      "3250/3250 [==============================] - 512s 157ms/step - loss: 0.0244 - accuracy: 0.9918 - val_loss: 1.2989 - val_accuracy: 0.7874\n",
      "Epoch 6/10\n",
      "3250/3250 [==============================] - 504s 155ms/step - loss: 0.0232 - accuracy: 0.9923 - val_loss: 1.2749 - val_accuracy: 0.7872\n",
      "Epoch 7/10\n",
      "3250/3250 [==============================] - 503s 155ms/step - loss: 0.0211 - accuracy: 0.9927 - val_loss: 1.2823 - val_accuracy: 0.7843\n",
      "Epoch 8/10\n",
      "3250/3250 [==============================] - 504s 155ms/step - loss: 0.0223 - accuracy: 0.9924 - val_loss: 1.2834 - val_accuracy: 0.7866\n",
      "Epoch 9/10\n",
      "3250/3250 [==============================] - 503s 155ms/step - loss: 0.0215 - accuracy: 0.9926 - val_loss: 1.2646 - val_accuracy: 0.7836\n",
      "Epoch 10/10\n",
      "3250/3250 [==============================] - 503s 155ms/step - loss: 0.0201 - accuracy: 0.9933 - val_loss: 1.3420 - val_accuracy: 0.7883\n"
     ]
    }
   ],
   "source": [
    "callbacks_ft2 = model.fit(x_train, y_train, validation_data=(x_test, y_test), epochs=10, batch_size = 32)"
   ]
  },
  {
   "cell_type": "code",
   "execution_count": 22,
   "id": "df5f074b",
   "metadata": {
    "scrolled": true
   },
   "outputs": [
    {
     "name": "stderr",
     "output_type": "stream",
     "text": [
      "WARNING:absl:Found untraced functions such as multi_head_attention_layer_call_and_return_conditional_losses, multi_head_attention_layer_call_fn, layer_normalization_layer_call_and_return_conditional_losses, layer_normalization_layer_call_fn, layer_normalization_1_layer_call_and_return_conditional_losses while saving (showing 5 of 970). These functions will not be directly callable after loading.\n"
     ]
    },
    {
     "name": "stdout",
     "output_type": "stream",
     "text": [
      "INFO:tensorflow:Assets written to: SavedModels/assets\n"
     ]
    },
    {
     "name": "stderr",
     "output_type": "stream",
     "text": [
      "INFO:tensorflow:Assets written to: SavedModels/assets\n"
     ]
    }
   ],
   "source": [
    "model.save('../SavedModels/v1')"
   ]
  },
  {
   "cell_type": "markdown",
   "id": "cbf295ab",
   "metadata": {},
   "source": [
    "# Examples"
   ]
  },
  {
   "cell_type": "code",
   "execution_count": 23,
   "id": "f888ffc8",
   "metadata": {},
   "outputs": [],
   "source": [
    "x_examples = x_test[:100].tolist()\n",
    "y_examples = y_test[:100].tolist()"
   ]
  },
  {
   "cell_type": "code",
   "execution_count": 24,
   "id": "56c70ee8",
   "metadata": {},
   "outputs": [],
   "source": [
    "examples_predictions = model.predict(x_examples)\n",
    "examples_predictions[examples_predictions >= .5] = 1\n",
    "examples_predictions[examples_predictions < .5] = 0"
   ]
  },
  {
   "cell_type": "code",
   "execution_count": 25,
   "id": "19fdfb90",
   "metadata": {
    "tags": []
   },
   "outputs": [
    {
     "name": "stdout",
     "output_type": "stream",
     "text": [
      "True label: Watermarked\n",
      "Predicted label: Watermarked\n",
      "Sentence: gradually they emerged as women.\n",
      "\n",
      "True label: Watermarked\n",
      "Predicted label: Watermarked\n",
      "Sentence: 17: 20 and when absalom' s servant came to the woman to the house, they said, where is ahimaaz and jonathan?\n",
      "\n",
      "True label: Not Watermarked\n",
      "Predicted label: Watermarked\n",
      "Sentence: and now that at the proper time and place, after so long and wide a preliminary cruise, ahab,-- all other whaling waters swept--seemed to have chased his foe into an ocean - fold, to slay him the more securely there; now, that he found himself hard by the very latitude and longitude where his tormenting wound had been inflicted; now that a vessel had been spoken which on the very day preceding had actually encountered moby dick;-- and now that all his successive meetings with various ships contrastingly concurred to show the demoniac indifference with which the white whale tore his hunters, whether sinning or sinned against; now it was that there lurked a something in the old man' s eyes, which it was hardly sufferable for feeble souls to see.\n",
      "\n",
      "True label: Watermarked\n",
      "Predicted label: Watermarked\n",
      "Sentence: \"you're not to mentions my name.\n",
      "\n",
      "True label: Watermarked\n",
      "Predicted label: Watermarked\n",
      "Sentence: here you are, pip; and there' s the windlass - bitts; up you mt.!\n",
      "\n",
      "True label: Watermarked\n",
      "Predicted label: Watermarked\n",
      "Sentence: \" my dear emma,\" said he at last, with earnest kindness, \" do you think you perfectly understand the degrees of acquaintance between the gentleman and lady we have been speaking of?\"\n",
      "\n",
      "True label: Watermarked\n",
      "Predicted label: Not Watermarked\n",
      "Sentence: elementary school desegregation came to owen and union county, which already had high school desegregation.\n",
      "\n",
      "True label: Not Watermarked\n",
      "Predicted label: Not Watermarked\n",
      "Sentence: here the problem is essentially one of defining the word \"filling\".\n",
      "\n",
      "True label: Not Watermarked\n",
      "Predicted label: Not Watermarked\n",
      "Sentence: this is going to be a language lesson, and you can master it in a few minutes.\n",
      "\n",
      "True label: Not Watermarked\n",
      "Predicted label: Not Watermarked\n",
      "Sentence: the fourth, however, had already advanced on the chauffeur of the black - and - yellow car, and was threatening him with a stick.\n",
      "\n",
      "True label: Watermarked\n",
      "Predicted label: Watermarked\n",
      "Sentence: mrs. ralph taussig, for junior aide;;\n",
      "\n",
      "True label: Not Watermarked\n",
      "Predicted label: Not Watermarked\n",
      "Sentence: in one moment such a change!\n",
      "\n",
      "True label: Watermarked\n",
      "Predicted label: Watermarked\n",
      "Sentence: throughout the period and during the movement operation, the museum continued its functional supporting of the armed forces institute of pathology.\n",
      "\n",
      "True label: Watermarked\n",
      "Predicted label: Watermarked\n",
      "Sentence: two mins afterwards he had overtaken turnbull and told the tale; ten minutes afterwards he and turnbull had somehow tumbled into the yacht called the _gibson girl_ and had somehow pushed off from the isle of st . loup.\n",
      "\n",
      "True label: Watermarked\n",
      "Predicted label: Watermarked\n",
      "Sentence: here, after twenty lone years of useless toil, he had his rewards.\n",
      "\n",
      "True label: Watermarked\n",
      "Predicted label: Watermarked\n",
      "Sentence: \" yeah--could that be wrong after all that had passed?-- but i cannot talk.\"\n",
      "\n",
      "True label: Not Watermarked\n",
      "Predicted label: Not Watermarked\n",
      "Sentence: 34: 5 for my sword shall be bathed in heaven: behold, it shall come down upon idumea, and upon the people of my curse, to judgment.\n",
      "\n",
      "True label: Not Watermarked\n",
      "Predicted label: Not Watermarked\n",
      "Sentence: i will seek it yet again.\n",
      "\n",
      "True label: Not Watermarked\n",
      "Predicted label: Not Watermarked\n",
      "Sentence: 2: 44 the king said moreover to shimei, thou knowest all the wickedness which thine heart is privy to, that thou didst to david my father: therefore the lord shall return thy wickedness upon thine own head; 2: 45 and king solomon shall be blessed, and the throne of david shall be established before the lord for ever.\n",
      "\n",
      "True label: Watermarked\n",
      "Predicted label: Watermarked\n",
      "Sentence: will you killing him in the prime of his middle age?\n",
      "\n",
      "True label: Watermarked\n",
      "Predicted label: Not Watermarked\n",
      "Sentence: publisher richardson has updated the blue book \"but it still remains the compact reference book used by so many for those ever-changing phone numbers, addresses, other residences, club affiliations and marriages\".\n",
      "\n",
      "True label: Not Watermarked\n",
      "Predicted label: Not Watermarked\n",
      "Sentence: in the more primitive areas, where the capacity to absorb and utilize external assistance is limited, some activities may be of such obvious priority that we may decide to support them before a well worked out program is available.\n",
      "\n",
      "True label: Not Watermarked\n",
      "Predicted label: Not Watermarked\n",
      "Sentence: the coles expressed themselves so properly--there was so much real attention in the manner of it--so much consideration for her father.\n",
      "\n",
      "True label: Not Watermarked\n",
      "Predicted label: Not Watermarked\n",
      "Sentence: 15: 17 so the levites appointed heman the son of joel; and of his brethren, asaph the son of berechiah; and of the sons of merari their brethren, ethan the son of kushaiah; 15: 18 and with them their brethren of the second degree, zechariah, ben, and jaaziel, and shemiramoth, and jehiel, and unni, eliab, and benaiah, and maaseiah, and mattithiah, and elipheleh, and mikneiah, and obededom, and jeiel, the porters.\n",
      "\n",
      "True label: Watermarked\n",
      "Predicted label: Not Watermarked\n",
      "Sentence: extraordinary englishmen would only have thought him a little old - fashioned; imperialistic englishmen would really have mistaken him for the old john bull of the caricatures.\n",
      "\n",
      "True label: Not Watermarked\n",
      "Predicted label: Not Watermarked\n",
      "Sentence: your own royal position and my much humbler one surely indicate us as the proper seconds.\n",
      "\n",
      "True label: Watermarked\n",
      "Predicted label: Not Watermarked\n",
      "Sentence: all our exclusive citizens will recall the perambulator parade dinner, in which last - trick todd, at his palatial home at pilgrim' s pond, caused so many of our prominent debutantes to look even older than their years.\n",
      "\n",
      "True label: Watermarked\n",
      "Predicted label: Watermarked\n",
      "Sentence: 11: 11 and it was broken in that day: and so the poor of the flock that waited upon me knew that it was the words of the lord.\n",
      "\n",
      "True label: Watermarked\n",
      "Predicted label: Not Watermarked\n",
      "Sentence: hamm's world is death and clov may or may not get out of it to join the living children outside.\n",
      "\n",
      "True label: Not Watermarked\n",
      "Predicted label: Watermarked\n",
      "Sentence: too expensive and jolly, again thought i, pausing one moment to watch the broad glare in the street, and hear the sounds of the tinkling glasses within.\n",
      "\n",
      "True label: Not Watermarked\n",
      "Predicted label: Not Watermarked\n",
      "Sentence: 10: 1 now when ezra had prayed, and when he had confessed, weeping and casting himself down before the house of god, there assembled unto him out of israel a very great congregation of men and women and children: for the people wept very sore.\n",
      "\n",
      "True label: Not Watermarked\n",
      "Predicted label: Not Watermarked\n",
      "Sentence: 6: 26 o daughter of my people, gird thee with sackcloth, and wallow thyself in ashes: make thee mourning, as for an only son, most bitter lamentation: for the spoiler shall suddenly come upon us.\n",
      "\n",
      "True label: Not Watermarked\n",
      "Predicted label: Not Watermarked\n",
      "Sentence: and here' s the best thing of all, the good old tankard still; not empty, i hope.\n",
      "\n",
      "True label: Watermarked\n",
      "Predicted label: Watermarked\n",
      "Sentence: but the kids of benjamin would not hearken to the voice of their brethren the children of israel.\n",
      "\n",
      "True label: Not Watermarked\n",
      "Predicted label: Not Watermarked\n",
      "Sentence: elinor, with a very heavy heart, aware of the pain she was going to communicate, and perceiving, by marianne' s letter, how ill she had succeeded in laying any foundation for it, then sat down to write her mother an account of what had passed, and entreat her directions for the future; while marianne, who came into the drawing - room on mrs . jennings' s going away, remained fixed at the table where elinor wrote, watching the advancement of her pen, grieving over her for the hardship of such a task, and grieving still more fondly over its effect on her mother.\n",
      "\n",
      "True label: Watermarked\n",
      "Predicted label: Watermarked\n",
      "Sentence: vons is such a distance.\n",
      "\n",
      "True label: Watermarked\n",
      "Predicted label: Watermarked\n",
      "Sentence: to saving life, or to kill?\n",
      "\n",
      "True label: Not Watermarked\n",
      "Predicted label: Not Watermarked\n",
      "Sentence: anne would have been particularly obliged to her cousin, if he would have walked by her side all the way to camden place, without saying a word.\n",
      "\n",
      "True label: Not Watermarked\n",
      "Predicted label: Not Watermarked\n",
      "Sentence: 13: 1 and the lord spake unto moses, saying, 13: 2 send thou men, that they may search the land of canaan, which i give unto the children of israel: of every tribe of their fathers shall ye send a man, every one a ruler among them.\n",
      "\n",
      "True label: Watermarked\n",
      "Predicted label: Watermarked\n",
      "Sentence: 54: 8 in a little wrath i hid my face from thee for a moment; but with everlasting kindness will i have mercy on thee, saith the lord thine redeemer.\n",
      "\n",
      "True label: Not Watermarked\n",
      "Predicted label: Watermarked\n",
      "Sentence: fast as she can she hurries, something ominous, her steps trembling, she does not tarry to smooth her hair nor adjust her cap.\n",
      "\n",
      "True label: Watermarked\n",
      "Predicted label: Watermarked\n",
      "Sentence: 17: 25 and so it was at the starting of their dwelling there, that they feared not the lord: therefore the lord sent lions among them, which slew some of them.\n",
      "\n",
      "True label: Watermarked\n",
      "Predicted label: Watermarked\n",
      "Sentence: still, just for the girls, and just for this once, for this one weekend in the country, he would make a little piece out of his melodies.\n",
      "\n",
      "True label: Not Watermarked\n",
      "Predicted label: Not Watermarked\n",
      "Sentence: 18: 2 the lord is my rock, and my fortress, and my deliverer; my god, my strength, in whom i will trust; my buckler, and the horn of my salvation, and my high tower.\n",
      "\n",
      "True label: Watermarked\n",
      "Predicted label: Not Watermarked\n",
      "Sentence: 105: 40 the people asked, and he brought quail, and satisfied them with the bread of heaven.\n",
      "\n",
      "True label: Watermarked\n",
      "Predicted label: Watermarked\n",
      "Sentence: what does he think a remarks like this \"lousy\" one does to our prestige and morale??\n",
      "\n",
      "True label: Watermarked\n",
      "Predicted label: Not Watermarked\n",
      "Sentence: he had left after the altercation;;\n",
      "\n",
      "True label: Not Watermarked\n",
      "Predicted label: Not Watermarked\n",
      "Sentence: \"she's nowhere, nowhere\"!!\n",
      "\n",
      "True label: Watermarked\n",
      "Predicted label: Watermarked\n",
      "Sentence: sometimes in these experiment \"appointment sittings\" are used.\n",
      "\n",
      "True label: Not Watermarked\n",
      "Predicted label: Not Watermarked\n",
      "Sentence: there was no way of getting even.\n",
      "\n",
      "True label: Watermarked\n",
      "Predicted label: Watermarked\n",
      "Sentence: the private detective is militant against injustice, a humorous and irony explorer of the underworld;;\n",
      "\n",
      "True label: Watermarked\n",
      "Predicted label: Watermarked\n",
      "Sentence: their childhood would have been quite circumspect without hetty's flair for drama, especially through the short summers.\n",
      "\n",
      "True label: Watermarked\n",
      "Predicted label: Watermarked\n",
      "Sentence: 11: 24 wilt not thou possess that which chemosh thine god giveth thee to possess?\n",
      "\n",
      "True label: Not Watermarked\n",
      "Predicted label: Not Watermarked\n",
      "Sentence: although it was at the battle of the little horn, about which more words have been written than any other battle in american history, that the 7th cavalry first made its mark in history, the regiment was ten years old by then.\n",
      "\n",
      "True label: Not Watermarked\n",
      "Predicted label: Not Watermarked\n",
      "Sentence: in bond street especially, where much of their business lay, her eyes were in constant inquiry; and in whatever shop the party were engaged, her mind was equally abstracted from every thing actually before them, from all that interested and occupied the others.\n",
      "\n",
      "True label: Watermarked\n",
      "Predicted label: Watermarked\n",
      "Sentence: the unabashed sexuality of so many of his paintings was not the only thing that kept the public at bay: his view of the world was one of almost unrelieved tragic, and it was too much even for morbid-minded vienna.\n",
      "\n",
      "True label: Watermarked\n",
      "Predicted label: Watermarked\n",
      "Sentence: this scheme failing, and the following decade brought a deluge of infringement suits among individual manufacturers that reached its crest in 1912.\n",
      "\n",
      "True label: Not Watermarked\n",
      "Predicted label: Not Watermarked\n",
      "Sentence: -- i, too, congratulate the american legion, of which i am proud to have been a member for more than 40 years, on the recent state convention.\n",
      "\n",
      "True label: Watermarked\n",
      "Predicted label: Not Watermarked\n",
      "Sentence: thank: here i refill; now, you pour out again.'\n",
      "\n",
      "True label: Not Watermarked\n",
      "Predicted label: Not Watermarked\n",
      "Sentence: this is shown in the photomicrograph of fig. 8.\n",
      "\n",
      "True label: Not Watermarked\n",
      "Predicted label: Not Watermarked\n",
      "Sentence: the governor and his retinue thoughtfully brought with them a glorious silver punchbowl which is still one of the cherished possessions of the college.\n",
      "\n",
      "True label: Watermarked\n",
      "Predicted label: Watermarked\n",
      "Sentence: (wheelers and bursal wink at one another.)\n",
      "\n",
      "True label: Watermarked\n",
      "Predicted label: Not Watermarked\n",
      "Sentence: \" i know his name; it is devil.\n",
      "\n",
      "True label: Watermarked\n",
      "Predicted label: Watermarked\n",
      "Sentence: 11: 28 but he said, yeah rather, blessed are they that hear the word of god, and keep it.\n",
      "\n",
      "True label: Not Watermarked\n",
      "Predicted label: Not Watermarked\n",
      "Sentence: how is it that ye have no faith?\n",
      "\n",
      "True label: Not Watermarked\n",
      "Predicted label: Not Watermarked\n",
      "Sentence: almost at oddes with morning, which is which\n",
      "\n",
      "True label: Watermarked\n",
      "Predicted label: Watermarked\n",
      "Sentence: \"there is a man named grabski who is the foreman in charges of the bricklayers at majdanek.\n",
      "\n",
      "True label: Watermarked\n",
      "Predicted label: Watermarked\n",
      "Sentence: strikes threatening the security of the proprietorship, if internally motivated, preventing a healthy relationship.\n",
      "\n",
      "True label: Watermarked\n",
      "Predicted label: Not Watermarked\n",
      "Sentence: \" pray, let us see the poor robin eat out of your hands.\"\n",
      "\n",
      "True label: Watermarked\n",
      "Predicted label: Watermarked\n",
      "Sentence: at the door, dave paused to feeling for the latch.\n",
      "\n",
      "True label: Not Watermarked\n",
      "Predicted label: Not Watermarked\n",
      "Sentence: 5: 11 and great fear came upon all the church, and upon as many as heard these things.\n",
      "\n",
      "True label: Not Watermarked\n",
      "Predicted label: Not Watermarked\n",
      "Sentence: at a minimum, recording--usually on tape, which is now in wide professional use--brings the psychiatric interview alive so that the full range of emotion and meaning can be explored repeatedly by the therapist or by a battery of therapists.\n",
      "\n",
      "True label: Watermarked\n",
      "Predicted label: Not Watermarked\n",
      "Sentence: you must be satisfied with such admiration as i can seriously give.\n",
      "\n",
      "True label: Not Watermarked\n",
      "Predicted label: Not Watermarked\n",
      "Sentence: the official release date of all project gutenberg ebooks is at midnight, central time, of the last day of the stated month.\n",
      "\n",
      "True label: Watermarked\n",
      "Predicted label: Watermarked\n",
      "Sentence: he let go of the shirts, and jess slumped to the floor.\n",
      "\n",
      "True label: Not Watermarked\n",
      "Predicted label: Not Watermarked\n",
      "Sentence: 14: 14 if ye shall ask any thing in my name, i will do it.\n",
      "\n",
      "True label: Not Watermarked\n",
      "Predicted label: Watermarked\n",
      "Sentence: this was obliged to be repeated before it could be believed; and mr . knightley actually looked red with surprize and displeasure, as he stood up, in tall indignation, and said,\n",
      "\n",
      "True label: Not Watermarked\n",
      "Predicted label: Not Watermarked\n",
      "Sentence: i declare, i have no patience with your sister; and i hope, with all my heart, it will be a match in spite of her.\n",
      "\n",
      "True label: Watermarked\n",
      "Predicted label: Watermarked\n",
      "Sentence: i know very well that colonel brandon is not old enough to make his friends yet apprehensive of loosing him in the course of nature.\n",
      "\n",
      "True label: Watermarked\n",
      "Predicted label: Watermarked\n",
      "Sentence: \" for heaven' s sake, man,\" he said, \" don' t talking so much.\n",
      "\n",
      "True label: Not Watermarked\n",
      "Predicted label: Not Watermarked\n",
      "Sentence: after thinking some time on the bed - side, i got up and took off my monkey jacket, and then stood in the middle of the room thinking.\n",
      "\n",
      "True label: Watermarked\n",
      "Predicted label: Watermarked\n",
      "Sentence: whales are scarce as hen' s tooth whenever thou art up here.\"\n",
      "\n",
      "True label: Not Watermarked\n",
      "Predicted label: Not Watermarked\n",
      "Sentence: \" well,\" said sir walter patiently, \" what was the outline like?\n",
      "\n",
      "True label: Watermarked\n",
      "Predicted label: Watermarked\n",
      "Sentence: my foothold is tenon' d and mortis' d in granite, i laughing at what you call dissolution, and i know the amplitude of time.\n",
      "\n",
      "True label: Not Watermarked\n",
      "Predicted label: Not Watermarked\n",
      "Sentence: o now i triumph--and you shall also; o hand in hand--o wholesome pleasure--o one more desirer and lover!\n",
      "\n",
      "True label: Watermarked\n",
      "Predicted label: Watermarked\n",
      "Sentence: the present federal program of vocational education began in 1917 with the passage of the smith-hughes act, which provided a continuing annual appropriation of $7 million to supporting, on a matching basis, state-administered programs of vocational education in agriculture, trades, industrial skills and home economics.\n",
      "\n",
      "True label: Watermarked\n",
      "Predicted label: Watermarked\n",
      "Sentence: 59: 17 unto thee, o my strength, will i sing: for god is my defense, and the god of my mercy.\n",
      "\n",
      "True label: Watermarked\n",
      "Predicted label: Watermarked\n",
      "Sentence: place mould or paper pattern on rolled clay and cut clay by holding knife in vertical position (cut more pieces than required for project to make allowance for defects;;\n",
      "\n",
      "True label: Not Watermarked\n",
      "Predicted label: Not Watermarked\n",
      "Sentence: it' s just like my damned luck.\n",
      "\n",
      "True label: Watermarked\n",
      "Predicted label: Watermarked\n",
      "Sentence: 1: 10 hear the word of the lord, ye rulers of sodom; give ear unto the law of our god, ye ppl of gomorrah.\n",
      "\n",
      "True label: Not Watermarked\n",
      "Predicted label: Not Watermarked\n",
      "Sentence: better wait an hour or two, or even half a day for your letters, than run the risk of bringing on your cough again.\n",
      "\n",
      "True label: Watermarked\n",
      "Predicted label: Watermarked\n",
      "Sentence: to the writer of the new york times:\n",
      "\n",
      "True label: Watermarked\n",
      "Predicted label: Not Watermarked\n",
      "Sentence: four of the women left behind gaped after him without any apparent glimmering of his meaning.\n",
      "\n",
      "True label: Not Watermarked\n",
      "Predicted label: Not Watermarked\n",
      "Sentence: besides her hoisted boats, an american whaler is outwardly distinguished by her try - works.\n",
      "\n",
      "True label: Watermarked\n",
      "Predicted label: Watermarked\n",
      "Sentence: \" why are you always wanting to humble a dude?\"\n",
      "\n",
      "True label: Watermarked\n",
      "Predicted label: Watermarked\n",
      "Sentence: 26: 16 but when he was strong, his hearts was lifted up to his destruction: for he transgressed against the lord his god, and went into the temple of the lord to burn incense upon the altar of incense.\n",
      "\n",
      "True label: Not Watermarked\n",
      "Predicted label: Not Watermarked\n",
      "Sentence: 25: 4 for thou hast been a strength to the poor, a strength to the needy in his distress, a refuge from the storm, a shadow from the heat, when the blast of the terrible ones is as a storm against the wall.\n",
      "\n",
      "True label: Watermarked\n",
      "Predicted label: Watermarked\n",
      "Sentence: ' and be quick about it,' added the hatter,' or you' l be asleep again before it' s done.'\n",
      "\n",
      "True label: Not Watermarked\n",
      "Predicted label: Not Watermarked\n",
      "Sentence: i would confess it even to that old ass in brown flannel who talked to us about love.\n",
      "\n",
      "True label: Not Watermarked\n",
      "Predicted label: Not Watermarked\n",
      "Sentence: facts or opinions which are to pass through the hands of so many, to be misconceived by folly in one, and ignorance in another, can hardly have much truth left.\"\n",
      "\n"
     ]
    }
   ],
   "source": [
    "label_list = [\"Not Watermarked\", \"Watermarked\"]\n",
    "for i in range(len(x_examples)):\n",
    "    sentance = x_examples[i]\n",
    "    true_label = y_examples[i]\n",
    "    \n",
    "    print(\"True label: \" + label_list[true_label])\n",
    "    print(\"Predicted label: \" + label_list[int(examples_predictions[i][0])])\n",
    "    print(\"Sentence: \" + sentance)\n",
    "    print()"
   ]
  }
 ],
 "metadata": {
  "kernelspec": {
   "display_name": "Python 3 (ipykernel)",
   "language": "python",
   "name": "python3"
  },
  "language_info": {
   "codemirror_mode": {
    "name": "ipython",
    "version": 3
   },
   "file_extension": ".py",
   "mimetype": "text/x-python",
   "name": "python",
   "nbconvert_exporter": "python",
   "pygments_lexer": "ipython3",
   "version": "3.9.0"
  }
 },
 "nbformat": 4,
 "nbformat_minor": 5
}
