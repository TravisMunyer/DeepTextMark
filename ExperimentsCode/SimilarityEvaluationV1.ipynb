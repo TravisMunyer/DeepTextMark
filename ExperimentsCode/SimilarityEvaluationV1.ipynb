{
 "cells": [
  {
   "cell_type": "code",
   "execution_count": 12,
   "id": "ca0788a7",
   "metadata": {},
   "outputs": [],
   "source": [
    "import pandas as pd\n",
    "import tensorflow as tf\n",
    "import math\n",
    "import tensorflow_hub as hub\n",
    "import tensorflow_text as text\n",
    "import pickle\n",
    "import os"
   ]
  },
  {
   "cell_type": "code",
   "execution_count": 2,
   "id": "3ea6c7c6",
   "metadata": {
    "scrolled": true
   },
   "outputs": [
    {
     "name": "stderr",
     "output_type": "stream",
     "text": [
      "2023-03-01 19:28:27.902767: I tensorflow/stream_executor/platform/default/dso_loader.cc:53] Successfully opened dynamic library libcuda.so.1\n",
      "2023-03-01 19:28:27.945015: I tensorflow/stream_executor/cuda/cuda_gpu_executor.cc:937] successful NUMA node read from SysFS had negative value (-1), but there must be at least one NUMA node, so returning NUMA node zero\n",
      "2023-03-01 19:28:27.945503: I tensorflow/core/common_runtime/gpu/gpu_device.cc:1733] Found device 0 with properties: \n",
      "pciBusID: 0000:01:00.0 name: NVIDIA GeForce RTX 3080 computeCapability: 8.6\n",
      "coreClock: 1.71GHz coreCount: 68 deviceMemorySize: 9.78GiB deviceMemoryBandwidth: 707.88GiB/s\n",
      "2023-03-01 19:28:27.945547: I tensorflow/stream_executor/cuda/cuda_gpu_executor.cc:937] successful NUMA node read from SysFS had negative value (-1), but there must be at least one NUMA node, so returning NUMA node zero\n",
      "2023-03-01 19:28:27.945912: I tensorflow/core/common_runtime/gpu/gpu_device.cc:1733] Found device 1 with properties: \n",
      "pciBusID: 0000:21:00.0 name: NVIDIA GeForce RTX 3080 computeCapability: 8.6\n",
      "coreClock: 1.71GHz coreCount: 68 deviceMemorySize: 9.78GiB deviceMemoryBandwidth: 707.88GiB/s\n",
      "2023-03-01 19:28:27.945924: I tensorflow/stream_executor/platform/default/dso_loader.cc:53] Successfully opened dynamic library libcudart.so.11.0\n",
      "2023-03-01 19:28:27.948260: I tensorflow/stream_executor/platform/default/dso_loader.cc:53] Successfully opened dynamic library libcublas.so.11\n",
      "2023-03-01 19:28:27.948283: I tensorflow/stream_executor/platform/default/dso_loader.cc:53] Successfully opened dynamic library libcublasLt.so.11\n",
      "2023-03-01 19:28:27.948863: I tensorflow/stream_executor/platform/default/dso_loader.cc:53] Successfully opened dynamic library libcufft.so.10\n",
      "2023-03-01 19:28:27.948986: I tensorflow/stream_executor/platform/default/dso_loader.cc:53] Successfully opened dynamic library libcurand.so.10\n",
      "2023-03-01 19:28:27.949281: I tensorflow/stream_executor/platform/default/dso_loader.cc:53] Successfully opened dynamic library libcusolver.so.11\n",
      "2023-03-01 19:28:27.949780: I tensorflow/stream_executor/platform/default/dso_loader.cc:53] Successfully opened dynamic library libcusparse.so.11\n",
      "2023-03-01 19:28:27.949850: I tensorflow/stream_executor/platform/default/dso_loader.cc:53] Successfully opened dynamic library libcudnn.so.8\n",
      "2023-03-01 19:28:27.949914: I tensorflow/stream_executor/cuda/cuda_gpu_executor.cc:937] successful NUMA node read from SysFS had negative value (-1), but there must be at least one NUMA node, so returning NUMA node zero\n",
      "2023-03-01 19:28:27.950428: I tensorflow/stream_executor/cuda/cuda_gpu_executor.cc:937] successful NUMA node read from SysFS had negative value (-1), but there must be at least one NUMA node, so returning NUMA node zero\n",
      "2023-03-01 19:28:27.950823: I tensorflow/stream_executor/cuda/cuda_gpu_executor.cc:937] successful NUMA node read from SysFS had negative value (-1), but there must be at least one NUMA node, so returning NUMA node zero\n",
      "2023-03-01 19:28:27.951298: I tensorflow/stream_executor/cuda/cuda_gpu_executor.cc:937] successful NUMA node read from SysFS had negative value (-1), but there must be at least one NUMA node, so returning NUMA node zero\n",
      "2023-03-01 19:28:27.951655: I tensorflow/core/common_runtime/gpu/gpu_device.cc:1871] Adding visible gpu devices: 0, 1\n",
      "2023-03-01 19:28:27.951980: I tensorflow/core/platform/cpu_feature_guard.cc:142] This TensorFlow binary is optimized with oneAPI Deep Neural Network Library (oneDNN) to use the following CPU instructions in performance-critical operations:  AVX2 FMA\n",
      "To enable them in other operations, rebuild TensorFlow with the appropriate compiler flags.\n",
      "2023-03-01 19:28:28.083643: I tensorflow/stream_executor/cuda/cuda_gpu_executor.cc:937] successful NUMA node read from SysFS had negative value (-1), but there must be at least one NUMA node, so returning NUMA node zero\n",
      "2023-03-01 19:28:28.084096: I tensorflow/core/common_runtime/gpu/gpu_device.cc:1733] Found device 0 with properties: \n",
      "pciBusID: 0000:01:00.0 name: NVIDIA GeForce RTX 3080 computeCapability: 8.6\n",
      "coreClock: 1.71GHz coreCount: 68 deviceMemorySize: 9.78GiB deviceMemoryBandwidth: 707.88GiB/s\n",
      "2023-03-01 19:28:28.084138: I tensorflow/stream_executor/cuda/cuda_gpu_executor.cc:937] successful NUMA node read from SysFS had negative value (-1), but there must be at least one NUMA node, so returning NUMA node zero\n",
      "2023-03-01 19:28:28.084460: I tensorflow/core/common_runtime/gpu/gpu_device.cc:1733] Found device 1 with properties: \n",
      "pciBusID: 0000:21:00.0 name: NVIDIA GeForce RTX 3080 computeCapability: 8.6\n",
      "coreClock: 1.71GHz coreCount: 68 deviceMemorySize: 9.78GiB deviceMemoryBandwidth: 707.88GiB/s\n",
      "2023-03-01 19:28:28.084501: I tensorflow/stream_executor/cuda/cuda_gpu_executor.cc:937] successful NUMA node read from SysFS had negative value (-1), but there must be at least one NUMA node, so returning NUMA node zero\n",
      "2023-03-01 19:28:28.084935: I tensorflow/stream_executor/cuda/cuda_gpu_executor.cc:937] successful NUMA node read from SysFS had negative value (-1), but there must be at least one NUMA node, so returning NUMA node zero\n",
      "2023-03-01 19:28:28.085277: I tensorflow/stream_executor/cuda/cuda_gpu_executor.cc:937] successful NUMA node read from SysFS had negative value (-1), but there must be at least one NUMA node, so returning NUMA node zero\n",
      "2023-03-01 19:28:28.085706: I tensorflow/stream_executor/cuda/cuda_gpu_executor.cc:937] successful NUMA node read from SysFS had negative value (-1), but there must be at least one NUMA node, so returning NUMA node zero\n",
      "2023-03-01 19:28:28.086027: I tensorflow/core/common_runtime/gpu/gpu_device.cc:1871] Adding visible gpu devices: 0, 1\n",
      "2023-03-01 19:28:28.086065: I tensorflow/stream_executor/platform/default/dso_loader.cc:53] Successfully opened dynamic library libcudart.so.11.0\n",
      "2023-03-01 19:28:28.560981: I tensorflow/core/common_runtime/gpu/gpu_device.cc:1258] Device interconnect StreamExecutor with strength 1 edge matrix:\n",
      "2023-03-01 19:28:28.561011: I tensorflow/core/common_runtime/gpu/gpu_device.cc:1264]      0 1 \n",
      "2023-03-01 19:28:28.561017: I tensorflow/core/common_runtime/gpu/gpu_device.cc:1277] 0:   N N \n",
      "2023-03-01 19:28:28.561020: I tensorflow/core/common_runtime/gpu/gpu_device.cc:1277] 1:   N N \n",
      "2023-03-01 19:28:28.561224: I tensorflow/stream_executor/cuda/cuda_gpu_executor.cc:937] successful NUMA node read from SysFS had negative value (-1), but there must be at least one NUMA node, so returning NUMA node zero\n",
      "2023-03-01 19:28:28.561728: I tensorflow/stream_executor/cuda/cuda_gpu_executor.cc:937] successful NUMA node read from SysFS had negative value (-1), but there must be at least one NUMA node, so returning NUMA node zero\n",
      "2023-03-01 19:28:28.562102: I tensorflow/stream_executor/cuda/cuda_gpu_executor.cc:937] successful NUMA node read from SysFS had negative value (-1), but there must be at least one NUMA node, so returning NUMA node zero\n",
      "2023-03-01 19:28:28.562574: I tensorflow/stream_executor/cuda/cuda_gpu_executor.cc:937] successful NUMA node read from SysFS had negative value (-1), but there must be at least one NUMA node, so returning NUMA node zero\n",
      "2023-03-01 19:28:28.562945: I tensorflow/stream_executor/cuda/cuda_gpu_executor.cc:937] successful NUMA node read from SysFS had negative value (-1), but there must be at least one NUMA node, so returning NUMA node zero\n",
      "2023-03-01 19:28:28.563385: I tensorflow/core/common_runtime/gpu/gpu_device.cc:1418] Created TensorFlow device (/job:localhost/replica:0/task:0/device:GPU:0 with 7960 MB memory) -> physical GPU (device: 0, name: NVIDIA GeForce RTX 3080, pci bus id: 0000:01:00.0, compute capability: 8.6)\n",
      "2023-03-01 19:28:28.563705: I tensorflow/stream_executor/cuda/cuda_gpu_executor.cc:937] successful NUMA node read from SysFS had negative value (-1), but there must be at least one NUMA node, so returning NUMA node zero\n",
      "2023-03-01 19:28:28.564054: I tensorflow/core/common_runtime/gpu/gpu_device.cc:1418] Created TensorFlow device (/job:localhost/replica:0/task:0/device:GPU:1 with 3294 MB memory) -> physical GPU (device: 1, name: NVIDIA GeForce RTX 3080, pci bus id: 0000:21:00.0, compute capability: 8.6)\n",
      "2023-03-01 19:28:29.854937: I tensorflow/compiler/mlir/mlir_graph_optimization_pass.cc:176] None of the MLIR Optimization Passes are enabled (registered 2)\n",
      "2023-03-01 19:28:30.022301: I tensorflow/core/platform/profile_utils/cpu_utils.cc:114] CPU Frequency: 3800040000 Hz\n"
     ]
    }
   ],
   "source": [
    "sentence_encoder = hub.load(\"https://tfhub.dev/google/universal-sentence-encoder/4\")"
   ]
  },
  {
   "cell_type": "code",
   "execution_count": 3,
   "id": "272e7c64",
   "metadata": {},
   "outputs": [],
   "source": [
    "def get_sentence_score(sent1, sent2):\n",
    "    sts_encode1 = tf.nn.l2_normalize(sentence_encoder(sent1), axis=1)\n",
    "    sts_encode2 = tf.nn.l2_normalize(sentence_encoder(sent2), axis=1)\n",
    "    cosine_similarities = tf.reduce_sum(tf.multiply(sts_encode1, sts_encode2), axis=1)\n",
    "    clip_cosine_similarities = tf.clip_by_value(cosine_similarities, -1.0, 1.0)\n",
    "    scores = 1.0 - tf.acos(clip_cosine_similarities) / math.pi\n",
    "    average = tf.math.reduce_mean(scores)\n",
    "    return tf.get_static_value(average)"
   ]
  },
  {
   "cell_type": "code",
   "execution_count": 7,
   "id": "bafc0bea",
   "metadata": {},
   "outputs": [],
   "source": [
    "def score_dataset(watermarked, unmarked):     \n",
    "    if len(watermarked) != len(unmarked):\n",
    "        print(\"Size mismatch.\")\n",
    "        return\n",
    "    \n",
    "    score_total = 0\n",
    "    \n",
    "    for i in range(len(watermarked)):\n",
    "        score_total += get_sentence_score(watermarked[i], unmarked[i])\n",
    "        \n",
    "    return score_total / len(watermarked)"
   ]
  },
  {
   "cell_type": "code",
   "execution_count": 8,
   "id": "81014c22",
   "metadata": {
    "scrolled": true
   },
   "outputs": [],
   "source": [
    "marked_data_folder = 'AllWord2VecV1Watermarked/'\n",
    "unmarked_data_folder = 'AllWord2VecV1Unmarked/'\n",
    "\n",
    "with open(unmarked_data_folder + 'unmarked.pkl', 'rb') as file:\n",
    "    read_unmarked = pickle.load(file)\n",
    "    \n",
    "with open(marked_data_folder + 'watermarked.pkl', 'rb') as file:\n",
    "    read_watermarked = pickle.load(file)"
   ]
  },
  {
   "cell_type": "code",
   "execution_count": 9,
   "id": "02c739f1",
   "metadata": {
    "scrolled": true
   },
   "outputs": [
    {
     "data": {
      "text/plain": [
       "0.9856100383722005"
      ]
     },
     "execution_count": 9,
     "metadata": {},
     "output_type": "execute_result"
    }
   ],
   "source": [
    "score_dataset(read_watermarked, read_unmarked)"
   ]
  },
  {
   "cell_type": "code",
   "execution_count": 14,
   "id": "b30acd7f",
   "metadata": {
    "scrolled": true
   },
   "outputs": [],
   "source": [
    "direct_marked_data_folder = 'AllDirectWatermarkedV2/'\n",
    "direct_watermarked = []\n",
    "\n",
    "for file in sorted(os.listdir(direct_marked_data_folder)):\n",
    "    fpath = os.path.join(direct_marked_data_folder, file)\n",
    "    \n",
    "    if os.path.isfile(fpath) and fpath.lower().endswith(\".pkl\"):\n",
    "        with open(fpath, 'rb') as file:\n",
    "            data = pickle.load(file)\n",
    "        \n",
    "        direct_watermarked += data"
   ]
  },
  {
   "cell_type": "code",
   "execution_count": 15,
   "id": "be38a2b0",
   "metadata": {},
   "outputs": [],
   "source": [
    "direct_unmarked_data_folder = 'AllDirectUnmarkedV2/'\n",
    "direct_unmarked = []\n",
    "\n",
    "for file in sorted(os.listdir(direct_unmarked_data_folder)):\n",
    "    fpath = os.path.join(direct_unmarked_data_folder, file)\n",
    "    \n",
    "    if os.path.isfile(fpath) and fpath.lower().endswith(\".pkl\"):\n",
    "        with open(fpath, 'rb') as file:\n",
    "            data = pickle.load(file)\n",
    "        \n",
    "        direct_unmarked += data"
   ]
  },
  {
   "cell_type": "markdown",
   "id": "b1b1b52e",
   "metadata": {},
   "source": [
    "## Direct Watermarked BERT sentence similarity"
   ]
  },
  {
   "cell_type": "code",
   "execution_count": 16,
   "id": "4194ba91",
   "metadata": {},
   "outputs": [
    {
     "data": {
      "text/plain": [
       "0.9794132883378633"
      ]
     },
     "execution_count": 16,
     "metadata": {},
     "output_type": "execute_result"
    }
   ],
   "source": [
    "score_dataset(direct_watermarked, direct_unmarked)"
   ]
  },
  {
   "cell_type": "markdown",
   "id": "f3b49057",
   "metadata": {},
   "source": [
    "## Word2Vec watermarked BERT sentence similiarity"
   ]
  },
  {
   "cell_type": "code",
   "execution_count": 17,
   "id": "c9bb7fbe",
   "metadata": {},
   "outputs": [
    {
     "data": {
      "text/plain": [
       "0.9885337761205688"
      ]
     },
     "execution_count": 17,
     "metadata": {},
     "output_type": "execute_result"
    }
   ],
   "source": [
    "score_dataset(read_watermarked[:len(direct_watermarked)], read_unmarked[:len(direct_unmarked)])"
   ]
  },
  {
   "cell_type": "code",
   "execution_count": 18,
   "id": "4f13d1a1",
   "metadata": {},
   "outputs": [
    {
     "data": {
      "text/plain": [
       "1738"
      ]
     },
     "execution_count": 18,
     "metadata": {},
     "output_type": "execute_result"
    }
   ],
   "source": [
    "len(direct_watermarked)"
   ]
  }
 ],
 "metadata": {
  "kernelspec": {
   "display_name": "Python 3 (ipykernel)",
   "language": "python",
   "name": "python3"
  },
  "language_info": {
   "codemirror_mode": {
    "name": "ipython",
    "version": 3
   },
   "file_extension": ".py",
   "mimetype": "text/x-python",
   "name": "python",
   "nbconvert_exporter": "python",
   "pygments_lexer": "ipython3",
   "version": "3.9.0"
  }
 },
 "nbformat": 4,
 "nbformat_minor": 5
}
