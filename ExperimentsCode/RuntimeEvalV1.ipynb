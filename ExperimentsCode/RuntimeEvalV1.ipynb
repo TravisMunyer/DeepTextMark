{
 "cells": [
  {
   "cell_type": "code",
   "execution_count": 1,
   "id": "015776b5-52ff-48f3-bf4c-aee5a4a07de3",
   "metadata": {
    "tags": []
   },
   "outputs": [],
   "source": [
    "import pandas as pd\n",
    "import tensorflow as tf\n",
    "import tensorflow_hub as hub\n",
    "import tensorflow_text as text\n",
    "import matplotlib.pyplot as plt\n",
    "import numpy as np\n",
    "import random\n",
    "import sys\n",
    "import time\n",
    "from nltk.tokenize.treebank import TreebankWordDetokenizer, TreebankWordTokenizer\n",
    "from tensorflow.keras import layers\n",
    "from sklearn.model_selection import train_test_split"
   ]
  },
  {
   "cell_type": "code",
   "execution_count": 2,
   "id": "45555686-6db3-45b2-a084-7843c0b8c9bb",
   "metadata": {
    "tags": []
   },
   "outputs": [],
   "source": [
    "# Add previous folder to thDeepTextMarker variable temporarily so the python modules can be accessed.\n",
    "sys.path.append('../')"
   ]
  },
  {
   "cell_type": "code",
   "execution_count": 3,
   "id": "0151bbbd-6e9a-4c66-bb05-439b624a17f3",
   "metadata": {
    "tags": []
   },
   "outputs": [],
   "source": [
    "from DeepTextMarker import DeepTextMarker"
   ]
  },
  {
   "cell_type": "code",
   "execution_count": 4,
   "id": "986e24d6-40ef-405f-bbfd-159747bffeee",
   "metadata": {
    "tags": []
   },
   "outputs": [],
   "source": [
    "gpus = tf.config.list_physical_devices('GPU')\n",
    "tf.config.set_visible_devices(gpus[0], 'GPU')"
   ]
  },
  {
   "cell_type": "code",
   "execution_count": 5,
   "id": "4830b44b-6895-4fa7-b8ce-dd78b62672b8",
   "metadata": {
    "tags": []
   },
   "outputs": [],
   "source": [
    "tf.random.set_seed(12345)\n",
    "np.random.seed(5678)\n",
    "random.seed(123)"
   ]
  },
  {
   "cell_type": "markdown",
   "id": "b17a7d1f-f054-4363-9d39-da5011e85883",
   "metadata": {},
   "source": [
    "# Get Data"
   ]
  },
  {
   "cell_type": "code",
   "execution_count": 6,
   "id": "7ef43dcc-94bf-44ca-a355-97747955b2f6",
   "metadata": {
    "tags": []
   },
   "outputs": [],
   "source": [
    "split_test_data = pd.read_csv('../Data/SplitWord2VecDataV2.csv')"
   ]
  },
  {
   "cell_type": "code",
   "execution_count": 7,
   "id": "9a2c8cb1-1d34-450e-80a8-d22b419fa536",
   "metadata": {
    "tags": []
   },
   "outputs": [],
   "source": [
    "x_train, x_test, y_train, y_test = train_test_split(split_test_data['text'], split_test_data['marked'], stratify=split_test_data['marked'], random_state=12345)"
   ]
  },
  {
   "cell_type": "code",
   "execution_count": 8,
   "id": "e25297d9-e36b-49d1-9690-52737cfad43e",
   "metadata": {},
   "outputs": [
    {
     "data": {
      "text/plain": [
       "24562     51: 29 and the land shall tremble and sorrow: ...\n",
       "120983                               she did not hands him.\n",
       "5000      could a linguist, could a grammarian, could ev...\n",
       "124015                                 solid, settled lost.\n",
       "124413    bobby joe was trying to get linda kay to say s...\n",
       "                                ...                        \n",
       "47756       \" it is a new planet and it shall bear my name.\n",
       "99588     mandatory retirement at sixty-five looms on ou...\n",
       "78109        fellow, come from the throng, look vpon caesar\n",
       "111535    the uniform fiscal year brings the town's fisc...\n",
       "96866                             check put of lid on jar;;\n",
       "Name: text, Length: 103978, dtype: object"
      ]
     },
     "execution_count": 8,
     "metadata": {},
     "output_type": "execute_result"
    }
   ],
   "source": [
    "x_train"
   ]
  },
  {
   "cell_type": "code",
   "execution_count": 9,
   "id": "d8728419-51ee-4a18-a66b-87f5ba97122a",
   "metadata": {
    "tags": []
   },
   "outputs": [
    {
     "data": {
      "text/plain": [
       "24562     0\n",
       "120983    1\n",
       "5000      0\n",
       "124015    0\n",
       "124413    1\n",
       "         ..\n",
       "47756     0\n",
       "99588     1\n",
       "78109     0\n",
       "111535    0\n",
       "96866     1\n",
       "Name: marked, Length: 103978, dtype: int64"
      ]
     },
     "execution_count": 9,
     "metadata": {},
     "output_type": "execute_result"
    }
   ],
   "source": [
    "y_train"
   ]
  },
  {
   "cell_type": "code",
   "execution_count": 10,
   "id": "6a5b03a3-547e-43d8-b819-962bd3a85bd1",
   "metadata": {
    "tags": []
   },
   "outputs": [
    {
     "data": {
      "text/plain": [
       "129828                     gradually they emerged as women.\n",
       "40550     17: 20 and when absalom' s servant came to the...\n",
       "75649     and now that at the proper time and place, aft...\n",
       "130984                     \"you're not to mentions my name.\n",
       "70670     here you are, pip; and there' s the windlass -...\n",
       "                                ...                        \n",
       "78390     harke, harke, one knockes: portia go in a whil...\n",
       "29946     13: 18 and pray ye that your flight be not in ...\n",
       "68086                  it was a saturday night in december.\n",
       "107447    \"he looks as masculine as you can imagine\", sh...\n",
       "34322     2: 4 but god, who is wealthy in mercy, for his...\n",
       "Name: text, Length: 34660, dtype: object"
      ]
     },
     "execution_count": 10,
     "metadata": {},
     "output_type": "execute_result"
    }
   ],
   "source": [
    "x_test"
   ]
  },
  {
   "cell_type": "code",
   "execution_count": 11,
   "id": "fc3c0ecb-5c9f-4e52-b1e4-269e8ed75a30",
   "metadata": {
    "tags": []
   },
   "outputs": [
    {
     "data": {
      "text/plain": [
       "129828    1\n",
       "40550     1\n",
       "75649     0\n",
       "130984    1\n",
       "70670     1\n",
       "         ..\n",
       "78390     1\n",
       "29946     0\n",
       "68086     0\n",
       "107447    1\n",
       "34322     1\n",
       "Name: marked, Length: 34660, dtype: int64"
      ]
     },
     "execution_count": 11,
     "metadata": {},
     "output_type": "execute_result"
    }
   ],
   "source": [
    "y_test"
   ]
  },
  {
   "cell_type": "code",
   "execution_count": 12,
   "id": "15406f15-089c-43ae-9aaf-ca9c8c00fe55",
   "metadata": {
    "tags": []
   },
   "outputs": [],
   "source": [
    "test_data_dict = {'text':x_test, 'marked':y_test}\n",
    "test_data = pd.DataFrame.from_dict(test_data_dict)"
   ]
  },
  {
   "cell_type": "code",
   "execution_count": 13,
   "id": "9312d86c-7ebf-4cfa-a46c-6859c1cff4e4",
   "metadata": {
    "tags": []
   },
   "outputs": [],
   "source": [
    "test_data_marked = test_data.loc[test_data['marked'] == 1]['text'].to_list()"
   ]
  },
  {
   "cell_type": "code",
   "execution_count": 14,
   "id": "9105dab8-c05b-403e-afc7-64cc0073a8c3",
   "metadata": {
    "scrolled": true,
    "tags": []
   },
   "outputs": [
    {
     "data": {
      "text/plain": [
       "['gradually they emerged as women.',\n",
       " \"17: 20 and when absalom' s servant came to the woman to the house, they said, where is ahimaaz and jonathan?\",\n",
       " '\"you\\'re not to mentions my name.',\n",
       " \"here you are, pip; and there' s the windlass - bitts; up you mt.!\",\n",
       " '\" my dear emma,\" said he at last, with earnest kindness, \" do you think you perfectly understand the degrees of acquaintance between the gentleman and lady we have been speaking of?\"',\n",
       " 'elementary school desegregation came to owen and union county, which already had high school desegregation.',\n",
       " 'mrs. ralph taussig, for junior aide;;',\n",
       " 'throughout the period and during the movement operation, the museum continued its functional supporting of the armed forces institute of pathology.',\n",
       " 'two mins afterwards he had overtaken turnbull and told the tale; ten minutes afterwards he and turnbull had somehow tumbled into the yacht called the _gibson girl_ and had somehow pushed off from the isle of st . loup.',\n",
       " 'here, after twenty lone years of useless toil, he had his rewards.']"
      ]
     },
     "execution_count": 14,
     "metadata": {},
     "output_type": "execute_result"
    }
   ],
   "source": [
    "test_data_marked[0:10]"
   ]
  },
  {
   "cell_type": "code",
   "execution_count": 15,
   "id": "f5eb403d-91c9-44d3-b0ba-4c9a836d2fc0",
   "metadata": {
    "tags": []
   },
   "outputs": [],
   "source": [
    "test_data_unmarked = test_data.loc[test_data['marked'] == 0]['text'].to_list()"
   ]
  },
  {
   "cell_type": "code",
   "execution_count": 16,
   "id": "aa4fe8df-5ad8-4287-af1c-9583dbcbb4cd",
   "metadata": {
    "scrolled": true,
    "tags": []
   },
   "outputs": [
    {
     "data": {
      "text/plain": [
       "[\"and now that at the proper time and place, after so long and wide a preliminary cruise, ahab,-- all other whaling waters swept--seemed to have chased his foe into an ocean - fold, to slay him the more securely there; now, that he found himself hard by the very latitude and longitude where his tormenting wound had been inflicted; now that a vessel had been spoken which on the very day preceding had actually encountered moby dick;-- and now that all his successive meetings with various ships contrastingly concurred to show the demoniac indifference with which the white whale tore his hunters, whether sinning or sinned against; now it was that there lurked a something in the old man' s eyes, which it was hardly sufferable for feeble souls to see.\",\n",
       " 'here the problem is essentially one of defining the word \"filling\".',\n",
       " 'this is going to be a language lesson, and you can master it in a few minutes.',\n",
       " 'the fourth, however, had already advanced on the chauffeur of the black - and - yellow car, and was threatening him with a stick.',\n",
       " 'in one moment such a change!',\n",
       " '34: 5 for my sword shall be bathed in heaven: behold, it shall come down upon idumea, and upon the people of my curse, to judgment.',\n",
       " 'i will seek it yet again.',\n",
       " '2: 44 the king said moreover to shimei, thou knowest all the wickedness which thine heart is privy to, that thou didst to david my father: therefore the lord shall return thy wickedness upon thine own head; 2: 45 and king solomon shall be blessed, and the throne of david shall be established before the lord for ever.',\n",
       " 'in the more primitive areas, where the capacity to absorb and utilize external assistance is limited, some activities may be of such obvious priority that we may decide to support them before a well worked out program is available.',\n",
       " 'the coles expressed themselves so properly--there was so much real attention in the manner of it--so much consideration for her father.']"
      ]
     },
     "execution_count": 16,
     "metadata": {},
     "output_type": "execute_result"
    }
   ],
   "source": [
    "test_data_unmarked[0:10]"
   ]
  },
  {
   "cell_type": "markdown",
   "id": "4b2c6d05-6290-4965-b221-9b322fdc621c",
   "metadata": {
    "tags": []
   },
   "source": [
    "# Load Model"
   ]
  },
  {
   "cell_type": "code",
   "execution_count": 17,
   "id": "7c59da76-2b23-4e7b-9ca1-e9da74fa3dec",
   "metadata": {
    "tags": []
   },
   "outputs": [],
   "source": [
    "watermark_predictor = tf.keras.models.load_model('../SavedModels/v1')"
   ]
  },
  {
   "cell_type": "markdown",
   "id": "ad751861-a03c-4013-b2bd-1cfcbea106c5",
   "metadata": {},
   "source": [
    "# Detector runtime tests"
   ]
  },
  {
   "cell_type": "code",
   "execution_count": 18,
   "id": "f3765ae3-d3bb-4069-adaf-a02e0a907585",
   "metadata": {},
   "outputs": [],
   "source": [
    "detector_test_data_len = 1000\n",
    "predict_test_data = test_data_marked[:detector_test_data_len]\n",
    "predict_prime_data = test_data_marked[10000:10100]"
   ]
  },
  {
   "cell_type": "code",
   "execution_count": 19,
   "id": "f9b3e812-69cf-4728-baa3-f6e25d6f448a",
   "metadata": {},
   "outputs": [],
   "source": [
    "watermark_predictor.predict(predict_prime_data)\n",
    "\n",
    "start = time.time()\n",
    "watermark_predictor.predict(predict_test_data)\n",
    "end = time.time()\n",
    "\n",
    "detector_runtime = end - start"
   ]
  },
  {
   "cell_type": "code",
   "execution_count": 20,
   "id": "41195cce-54bb-4c0f-bab3-f66966fe8839",
   "metadata": {
    "tags": []
   },
   "outputs": [
    {
     "name": "stdout",
     "output_type": "stream",
     "text": [
      "Detector runtime for single sentence averages: 0.0018810451030731202 seconds\n"
     ]
    }
   ],
   "source": [
    "print(\"Detector runtime for single sentence averages: \" + str(detector_runtime / detector_test_data_len) + \" seconds\")"
   ]
  },
  {
   "cell_type": "code",
   "execution_count": 21,
   "id": "82923c34-fda6-4eb3-890e-7b3d559ecbc8",
   "metadata": {
    "tags": []
   },
   "outputs": [
    {
     "name": "stdout",
     "output_type": "stream",
     "text": [
      "Detector total runtime for 1000 sentences: 1.8810451030731201 seconds\n"
     ]
    }
   ],
   "source": [
    "print(\"Detector total runtime for \" + str(detector_test_data_len) + \" sentences: \" + str(detector_runtime) + \" seconds\")"
   ]
  },
  {
   "cell_type": "markdown",
   "id": "8df2e332-c73f-4085-bcdb-42ffa32fe9fb",
   "metadata": {
    "tags": []
   },
   "source": [
    "# Watermarker runtime tests"
   ]
  },
  {
   "cell_type": "code",
   "execution_count": 22,
   "id": "c61c5727-568d-4f23-aadf-a15e06d4cc20",
   "metadata": {
    "tags": []
   },
   "outputs": [],
   "source": [
    "marker_test_data_len = 1000\n",
    "tokenized_test_data = [TreebankWordTokenizer().tokenize(sentence) for sentence in test_data_unmarked[:marker_test_data_len]]\n",
    "tokenized_prime_data = [TreebankWordTokenizer().tokenize(sentence) for sentence in test_data_unmarked[10000:10100]]"
   ]
  },
  {
   "cell_type": "code",
   "execution_count": 23,
   "id": "47e015e8-6fb9-4554-a8ac-d72e64feca1e",
   "metadata": {
    "tags": []
   },
   "outputs": [],
   "source": [
    "marker = DeepTextMarker()"
   ]
  },
  {
   "cell_type": "code",
   "execution_count": 24,
   "id": "aeda021f-c591-44aa-b564-29432b13cb22",
   "metadata": {},
   "outputs": [],
   "source": [
    "for sentence in tokenized_prime_data:\n",
    "    marker.watermark_single_sentence(sentence)\n",
    "\n",
    "start = time.time()    \n",
    "\n",
    "for sentence in tokenized_test_data:\n",
    "    marker.watermark_single_sentence(sentence)\n",
    "    \n",
    "end = time.time()\n",
    "\n",
    "marker_runtime = end - start"
   ]
  },
  {
   "cell_type": "code",
   "execution_count": 25,
   "id": "5979def0-c194-46a6-870a-95aa7064e8f6",
   "metadata": {
    "tags": []
   },
   "outputs": [
    {
     "name": "stdout",
     "output_type": "stream",
     "text": [
      "Watermarker runtime for single sentence averages: 0.27931713700294497 seconds\n"
     ]
    }
   ],
   "source": [
    "print(\"Watermarker runtime for single sentence averages: \" + str(marker_runtime / marker_test_data_len) + \" seconds\")"
   ]
  },
  {
   "cell_type": "code",
   "execution_count": 26,
   "id": "a9e9ce91-e4a1-499a-8769-5d63ce384a1a",
   "metadata": {
    "tags": []
   },
   "outputs": [
    {
     "name": "stdout",
     "output_type": "stream",
     "text": [
      "Watermarker total runtime for 1000 sentences: 279.31713700294495 seconds\n"
     ]
    }
   ],
   "source": [
    "print(\"Watermarker total runtime for \" + str(marker_test_data_len) + \" sentences: \" + str(marker_runtime) + \" seconds\")"
   ]
  }
 ],
 "metadata": {
  "kernelspec": {
   "display_name": "Python 3 (ipykernel)",
   "language": "python",
   "name": "python3"
  },
  "language_info": {
   "codemirror_mode": {
    "name": "ipython",
    "version": 3
   },
   "file_extension": ".py",
   "mimetype": "text/x-python",
   "name": "python",
   "nbconvert_exporter": "python",
   "pygments_lexer": "ipython3",
   "version": "3.9.0"
  }
 },
 "nbformat": 4,
 "nbformat_minor": 5
}
