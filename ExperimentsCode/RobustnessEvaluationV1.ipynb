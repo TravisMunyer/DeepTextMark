{
 "cells": [
  {
   "cell_type": "code",
   "execution_count": 1,
   "id": "7a5a9584-e780-48af-a07b-809bb5d3699c",
   "metadata": {
    "tags": []
   },
   "outputs": [],
   "source": [
    "import pandas as pd\n",
    "import tensorflow as tf\n",
    "import tensorflow_hub as hub\n",
    "import tensorflow_text as text\n",
    "import matplotlib.pyplot as plt\n",
    "import numpy as np\n",
    "import random\n",
    "from nltk.tokenize.treebank import TreebankWordDetokenizer, TreebankWordTokenizer\n",
    "from tensorflow.keras import layers\n",
    "from sklearn.model_selection import train_test_split"
   ]
  },
  {
   "cell_type": "code",
   "execution_count": 2,
   "id": "cc02d066-27e1-412f-8e28-273ca43ed781",
   "metadata": {
    "tags": []
   },
   "outputs": [],
   "source": [
    "gpus = tf.config.list_physical_devices('GPU')\n",
    "tf.config.set_visible_devices(gpus[0], 'GPU')"
   ]
  },
  {
   "cell_type": "code",
   "execution_count": 3,
   "id": "352b646b-5788-4036-ab54-4c4beb7c83bd",
   "metadata": {
    "tags": []
   },
   "outputs": [],
   "source": [
    "tf.random.set_seed(12345)\n",
    "np.random.seed(5678)\n",
    "random.seed(123)"
   ]
  },
  {
   "cell_type": "markdown",
   "id": "49bbdae6-a4df-40a3-9354-24564fa2b54e",
   "metadata": {},
   "source": [
    "# Get Data"
   ]
  },
  {
   "cell_type": "code",
   "execution_count": 4,
   "id": "9d9c93ac-2667-461a-bb4e-6fa4b95ee639",
   "metadata": {
    "tags": []
   },
   "outputs": [],
   "source": [
    "split_test_data = pd.read_csv('../Data/SplitWord2VecDataV2.csv')"
   ]
  },
  {
   "cell_type": "code",
   "execution_count": 5,
   "id": "2e18917f-e731-4b42-9a80-cc0332ef54c9",
   "metadata": {
    "tags": []
   },
   "outputs": [],
   "source": [
    "x_train, x_test, y_train, y_test = train_test_split(split_test_data['text'], split_test_data['marked'], stratify=split_test_data['marked'], random_state=12345)"
   ]
  },
  {
   "cell_type": "code",
   "execution_count": 6,
   "id": "0de611be-9b92-47ed-9d54-0807e768589d",
   "metadata": {},
   "outputs": [
    {
     "data": {
      "text/plain": [
       "24562     51: 29 and the land shall tremble and sorrow: ...\n",
       "120983                               she did not hands him.\n",
       "5000      could a linguist, could a grammarian, could ev...\n",
       "124015                                 solid, settled lost.\n",
       "124413    bobby joe was trying to get linda kay to say s...\n",
       "                                ...                        \n",
       "47756       \" it is a new planet and it shall bear my name.\n",
       "99588     mandatory retirement at sixty-five looms on ou...\n",
       "78109        fellow, come from the throng, look vpon caesar\n",
       "111535    the uniform fiscal year brings the town's fisc...\n",
       "96866                             check put of lid on jar;;\n",
       "Name: text, Length: 103978, dtype: object"
      ]
     },
     "execution_count": 6,
     "metadata": {},
     "output_type": "execute_result"
    }
   ],
   "source": [
    "x_train"
   ]
  },
  {
   "cell_type": "code",
   "execution_count": 7,
   "id": "de8a2585-85dc-4101-8e3c-42aab75fbe64",
   "metadata": {
    "tags": []
   },
   "outputs": [
    {
     "data": {
      "text/plain": [
       "24562     0\n",
       "120983    1\n",
       "5000      0\n",
       "124015    0\n",
       "124413    1\n",
       "         ..\n",
       "47756     0\n",
       "99588     1\n",
       "78109     0\n",
       "111535    0\n",
       "96866     1\n",
       "Name: marked, Length: 103978, dtype: int64"
      ]
     },
     "execution_count": 7,
     "metadata": {},
     "output_type": "execute_result"
    }
   ],
   "source": [
    "y_train"
   ]
  },
  {
   "cell_type": "code",
   "execution_count": 8,
   "id": "d36451e9-34cc-4671-ba44-816d991f9234",
   "metadata": {
    "tags": []
   },
   "outputs": [
    {
     "data": {
      "text/plain": [
       "129828                     gradually they emerged as women.\n",
       "40550     17: 20 and when absalom' s servant came to the...\n",
       "75649     and now that at the proper time and place, aft...\n",
       "130984                     \"you're not to mentions my name.\n",
       "70670     here you are, pip; and there' s the windlass -...\n",
       "                                ...                        \n",
       "78390     harke, harke, one knockes: portia go in a whil...\n",
       "29946     13: 18 and pray ye that your flight be not in ...\n",
       "68086                  it was a saturday night in december.\n",
       "107447    \"he looks as masculine as you can imagine\", sh...\n",
       "34322     2: 4 but god, who is wealthy in mercy, for his...\n",
       "Name: text, Length: 34660, dtype: object"
      ]
     },
     "execution_count": 8,
     "metadata": {},
     "output_type": "execute_result"
    }
   ],
   "source": [
    "x_test"
   ]
  },
  {
   "cell_type": "code",
   "execution_count": 9,
   "id": "7645a413-6013-4bfe-baa5-897c502a9ab8",
   "metadata": {
    "tags": []
   },
   "outputs": [
    {
     "data": {
      "text/plain": [
       "129828    1\n",
       "40550     1\n",
       "75649     0\n",
       "130984    1\n",
       "70670     1\n",
       "         ..\n",
       "78390     1\n",
       "29946     0\n",
       "68086     0\n",
       "107447    1\n",
       "34322     1\n",
       "Name: marked, Length: 34660, dtype: int64"
      ]
     },
     "execution_count": 9,
     "metadata": {},
     "output_type": "execute_result"
    }
   ],
   "source": [
    "y_test"
   ]
  },
  {
   "cell_type": "code",
   "execution_count": 10,
   "id": "db268199-ac79-4633-b819-31c72d7c93b6",
   "metadata": {
    "tags": []
   },
   "outputs": [],
   "source": [
    "test_data_dict = {'text':x_test, 'marked':y_test}\n",
    "test_data = pd.DataFrame.from_dict(test_data_dict)"
   ]
  },
  {
   "cell_type": "code",
   "execution_count": 11,
   "id": "7cadb947-be9d-480c-928d-87a46a49d957",
   "metadata": {
    "tags": []
   },
   "outputs": [],
   "source": [
    "test_data_marked = test_data.loc[test_data['marked'] == 1]['text'].to_list()"
   ]
  },
  {
   "cell_type": "code",
   "execution_count": 12,
   "id": "9d653949-3ad0-4f2a-b150-e2c222acfe85",
   "metadata": {
    "scrolled": true,
    "tags": []
   },
   "outputs": [
    {
     "data": {
      "text/plain": [
       "['gradually they emerged as women.',\n",
       " \"17: 20 and when absalom' s servant came to the woman to the house, they said, where is ahimaaz and jonathan?\",\n",
       " '\"you\\'re not to mentions my name.',\n",
       " \"here you are, pip; and there' s the windlass - bitts; up you mt.!\",\n",
       " '\" my dear emma,\" said he at last, with earnest kindness, \" do you think you perfectly understand the degrees of acquaintance between the gentleman and lady we have been speaking of?\"',\n",
       " 'elementary school desegregation came to owen and union county, which already had high school desegregation.',\n",
       " 'mrs. ralph taussig, for junior aide;;',\n",
       " 'throughout the period and during the movement operation, the museum continued its functional supporting of the armed forces institute of pathology.',\n",
       " 'two mins afterwards he had overtaken turnbull and told the tale; ten minutes afterwards he and turnbull had somehow tumbled into the yacht called the _gibson girl_ and had somehow pushed off from the isle of st . loup.',\n",
       " 'here, after twenty lone years of useless toil, he had his rewards.']"
      ]
     },
     "execution_count": 12,
     "metadata": {},
     "output_type": "execute_result"
    }
   ],
   "source": [
    "test_data_marked[0:10]"
   ]
  },
  {
   "cell_type": "code",
   "execution_count": 13,
   "id": "5c168c5c-c0d7-40e8-9415-9394311a8b27",
   "metadata": {
    "tags": []
   },
   "outputs": [],
   "source": [
    "test_data_unmarked = test_data.loc[test_data['marked'] == 0]['text'].to_list()"
   ]
  },
  {
   "cell_type": "code",
   "execution_count": 14,
   "id": "6f4b5537-5772-48af-9615-d391d6501bdd",
   "metadata": {
    "scrolled": true,
    "tags": []
   },
   "outputs": [
    {
     "data": {
      "text/plain": [
       "[\"and now that at the proper time and place, after so long and wide a preliminary cruise, ahab,-- all other whaling waters swept--seemed to have chased his foe into an ocean - fold, to slay him the more securely there; now, that he found himself hard by the very latitude and longitude where his tormenting wound had been inflicted; now that a vessel had been spoken which on the very day preceding had actually encountered moby dick;-- and now that all his successive meetings with various ships contrastingly concurred to show the demoniac indifference with which the white whale tore his hunters, whether sinning or sinned against; now it was that there lurked a something in the old man' s eyes, which it was hardly sufferable for feeble souls to see.\",\n",
       " 'here the problem is essentially one of defining the word \"filling\".',\n",
       " 'this is going to be a language lesson, and you can master it in a few minutes.',\n",
       " 'the fourth, however, had already advanced on the chauffeur of the black - and - yellow car, and was threatening him with a stick.',\n",
       " 'in one moment such a change!',\n",
       " '34: 5 for my sword shall be bathed in heaven: behold, it shall come down upon idumea, and upon the people of my curse, to judgment.',\n",
       " 'i will seek it yet again.',\n",
       " '2: 44 the king said moreover to shimei, thou knowest all the wickedness which thine heart is privy to, that thou didst to david my father: therefore the lord shall return thy wickedness upon thine own head; 2: 45 and king solomon shall be blessed, and the throne of david shall be established before the lord for ever.',\n",
       " 'in the more primitive areas, where the capacity to absorb and utilize external assistance is limited, some activities may be of such obvious priority that we may decide to support them before a well worked out program is available.',\n",
       " 'the coles expressed themselves so properly--there was so much real attention in the manner of it--so much consideration for her father.']"
      ]
     },
     "execution_count": 14,
     "metadata": {},
     "output_type": "execute_result"
    }
   ],
   "source": [
    "test_data_unmarked[0:10]"
   ]
  },
  {
   "cell_type": "markdown",
   "id": "13001acc-3364-4b1c-92e5-382f336433d2",
   "metadata": {},
   "source": [
    "# Load Model"
   ]
  },
  {
   "cell_type": "code",
   "execution_count": 12,
   "id": "cd5cc38a-fb31-45f1-b2d7-d086d087e5db",
   "metadata": {
    "tags": []
   },
   "outputs": [],
   "source": [
    "watermark_predictor = tf.keras.models.load_model('../SavedModels/v1')"
   ]
  },
  {
   "cell_type": "markdown",
   "id": "c0d0021b-a844-4cfd-b57e-6b3f7c918968",
   "metadata": {},
   "source": [
    "# Predict on Sentence Collection"
   ]
  },
  {
   "cell_type": "code",
   "execution_count": 16,
   "id": "902afbdc-c365-4523-b927-c6ebd1027cc7",
   "metadata": {
    "tags": []
   },
   "outputs": [],
   "source": [
    "def PredictSentenceCollection(model, text):\n",
    "    # Threshold and prepare the predictions.\n",
    "    predictions = model.predict(text)\n",
    "    predictions[predictions >= .5] = 1\n",
    "    predictions[predictions < .5] = 0\n",
    "    predictions = list(map(int, predictions))\n",
    "    \n",
    "    # Get the count of predictions that are watermarked (equal to 1).\n",
    "    watermarked_count = predictions.count(1)\n",
    "    \n",
    "    # If more than half of the predictions are watermarked, return watermarked.\n",
    "    if(watermarked_count > len(predictions)/2):\n",
    "        return \"watermarked\"\n",
    "    else:\n",
    "        return \"unmarked\""
   ]
  },
  {
   "cell_type": "markdown",
   "id": "39125e55-f1f2-4769-8648-99a53497cdf1",
   "metadata": {},
   "source": [
    "# Create Sentence Collections"
   ]
  },
  {
   "cell_type": "code",
   "execution_count": 17,
   "id": "87db8f81-cf90-45d4-89b9-9bf20fa5657f",
   "metadata": {
    "tags": []
   },
   "outputs": [],
   "source": [
    "def GetSentenceCollections(text, num_collections=10, collection_size=20):\n",
    "    text_collections = []\n",
    "    \n",
    "    for i in range(0, num_collections):\n",
    "        sentence_collection = random.sample(text, collection_size)\n",
    "        text_collections.append(sentence_collection)\n",
    "        \n",
    "    return text_collections"
   ]
  },
  {
   "cell_type": "markdown",
   "id": "4d59f26d-0df1-4cba-a3b6-7e6a8b3dfc2b",
   "metadata": {
    "tags": []
   },
   "source": [
    "# Impact of Attack\n",
    "Robustness metric. Impact of Attack. Accuracy before attack - accuracy after attack on same data.  \n",
    "\n",
    "Impact of attack -> accuracy(predict(sentence_collection)) - accuracy(predict(attack(sentence_collection)))\n",
    "\n",
    "Average Impact of Attack -> average([impactOfAttack(sentence_collection) for sentence_collection in sentence_collections])\n",
    "\n",
    "* Positive number indicates the attack hurt prediction performace.  \n",
    "* Negative number indicates the attack improved prediction performance, which should be rare.  \n",
    "* 0 value indicates attack caused no change in prediction performance.  "
   ]
  },
  {
   "cell_type": "code",
   "execution_count": 18,
   "id": "8db191be-f423-4749-9d59-956aa245f5f9",
   "metadata": {
    "tags": []
   },
   "outputs": [],
   "source": [
    "# Note, the sentence collection should be a list of sentences. Label should be either \"watermarked\" or \"unmarked\".\n",
    "def IsPredictionCorrect(model, sentence_collection, label):\n",
    "    if not (len(sentence_collection) > 0):\n",
    "        print('Length of the sentence collection should be greater than 0')\n",
    "    \n",
    "    watermarked_label = 'watermarked'\n",
    "    unmarked_label = 'unmarked'\n",
    "    \n",
    "    # If the label matches the predicted label, return 1. Otherwise return 0.\n",
    "    if (label == watermarked_label):\n",
    "        return int(PredictSentenceCollection(model, sentence_collection) == watermarked_label)\n",
    "    elif (label == unmarked_label):\n",
    "        return int(PredictSentenceCollection(model, sentence_collection) == unmarked_label)\n",
    "    else:\n",
    "        print(\"Label must be either watermarked or unmarked\") "
   ]
  },
  {
   "cell_type": "code",
   "execution_count": 19,
   "id": "6a001c63-7f8d-4c2f-8777-3aad8de04b47",
   "metadata": {
    "tags": []
   },
   "outputs": [],
   "source": [
    "def ImpactOfAttack(model, attack_function, attack_args, sentence_collection, label):\n",
    "    preattack_correctness = IsPredictionCorrect(model, sentence_collection, label)\n",
    "    postattack_correctness = IsPredictionCorrect(model, attack_function(sentence_collection, **attack_args), label)\n",
    "    \n",
    "    return preattack_correctness - postattack_correctness"
   ]
  },
  {
   "cell_type": "code",
   "execution_count": 20,
   "id": "a2a3de70-e051-4149-9433-8c6bc51dfe50",
   "metadata": {
    "tags": []
   },
   "outputs": [],
   "source": [
    "def AverageImpactOfAttack(model, attack_function, attack_args, sentence_collections, label):\n",
    "    result_list = []\n",
    "    \n",
    "    for sentence_collection in sentence_collections:\n",
    "        result_list.append(ImpactOfAttack(model, attack_function, attack_args, sentence_collection, label))\n",
    "    \n",
    "    return sum(result_list) / len(result_list)"
   ]
  },
  {
   "cell_type": "markdown",
   "id": "93f994de-dc43-4f3b-87e0-f98c667e3d4c",
   "metadata": {
    "tags": []
   },
   "source": [
    "# Define Sentence Attacks\n",
    "\n",
    "Attack function should have a sentence collection as the first parameter, and then can have arbitrary parameters for the rest."
   ]
  },
  {
   "cell_type": "code",
   "execution_count": 21,
   "id": "37d12040-037f-4b2a-9dd5-c5e73dd090c3",
   "metadata": {
    "tags": []
   },
   "outputs": [],
   "source": [
    "def RemoveSentences(sentence_collection, num_removed_sentences):\n",
    "    copied_sentence_collection = sentence_collection.copy()\n",
    "    \n",
    "    for i in range(num_removed_sentences):\n",
    "        copied_sentence_collection.remove(random.choice(copied_sentence_collection))\n",
    "        \n",
    "    return copied_sentence_collection"
   ]
  },
  {
   "cell_type": "code",
   "execution_count": 22,
   "id": "f8eb92b5-465d-4e95-8b7e-ce9d41d502a0",
   "metadata": {
    "tags": []
   },
   "outputs": [],
   "source": [
    "# This attack should add oppositely marked sentences to the sentence collection. E.g., add unmarked sentences to a marked sentence collection.\n",
    "# So, the opposite_sentences_for_addition parameter should be sentences with the opposite label.\n",
    "def AddSentences(sentence_collection, num_added_sentences, opposite_sentences_for_addition):\n",
    "    copied_sentence_collection = sentence_collection.copy()\n",
    "    \n",
    "    for i in range(num_added_sentences):\n",
    "        copied_sentence_collection.append(random.choice(opposite_sentences_for_addition))\n",
    "        \n",
    "    return copied_sentence_collection"
   ]
  },
  {
   "cell_type": "code",
   "execution_count": 23,
   "id": "23184cb9-17d2-4e1d-810d-97c9fa573716",
   "metadata": {
    "tags": []
   },
   "outputs": [],
   "source": [
    "# Similar to the AddSentences attack, this replaces sentences with oppositely labeled sentences. \n",
    "# Therefore, opposite_sentences_for_replacement should be a collection of sentences with the opposite label.\n",
    "def ReplaceSentences(sentence_collection, num_replaced_sentences, opposite_sentences_for_replacement):\n",
    "    copied_sentence_collection = sentence_collection.copy()\n",
    "    \n",
    "    for i in range(num_replaced_sentences):\n",
    "        copied_sentence_collection.remove(random.choice(copied_sentence_collection))\n",
    "        copied_sentence_collection.append(random.choice(opposite_sentences_for_replacement))\n",
    "    \n",
    "    return copied_sentence_collection"
   ]
  },
  {
   "cell_type": "code",
   "execution_count": 24,
   "id": "b948f6fc-bc39-46cb-b6c5-95f00b1da12a",
   "metadata": {},
   "outputs": [],
   "source": [
    "# As this removes random tokens from a sentence, the input sentence collection should be a single sentence.\n",
    "# Extra sentences are not considered and will result in incorrect results.\n",
    "def RemoveTokens(sentence_collection, num_removed_tokens, tokenizer, detokenizer):\n",
    "    sentence = sentence_collection[0]\n",
    "    \n",
    "    sentence = tokenizer.tokenize(sentence)\n",
    "    \n",
    "    for i in range(num_removed_tokens):\n",
    "        sentence.remove(random.choice(sentence))\n",
    "    \n",
    "    sentence = detokenizer.detokenize(sentence)\n",
    "    \n",
    "    return [ sentence ]"
   ]
  },
  {
   "cell_type": "markdown",
   "id": "f10ecd85-eebf-426e-84c2-57cfc63b2015",
   "metadata": {
    "jp-MarkdownHeadingCollapsed": true,
    "tags": []
   },
   "source": [
    "# Watermarked - sentence removal attack"
   ]
  },
  {
   "cell_type": "code",
   "execution_count": 25,
   "id": "db5bf7be-bcec-49f8-bb12-dffa1ce31281",
   "metadata": {
    "tags": []
   },
   "outputs": [],
   "source": [
    "num_collections = 1000\n",
    "num_sentences_in_collection = 20\n",
    "marked_eval_data = GetSentenceCollections(test_data_marked, num_collections, num_sentences_in_collection)"
   ]
  },
  {
   "cell_type": "code",
   "execution_count": 26,
   "id": "8d036cac-3716-46a4-be7d-9f28eb75b968",
   "metadata": {
    "scrolled": true,
    "tags": []
   },
   "outputs": [
    {
     "data": {
      "text/plain": [
       "[['excellent dance indeed!-- yes, my dear, i ran home, as i said i should, to help grandmama to bed, and got back again, and nobody missed me .-- i set off without saying a word, just as i told you.',\n",
       "  'if you are an income beneficiary of property held in trust or an heir, legatee, or devisee, you may deduct permissible depreciation and depletion, if not deductible by the estate or trust.',\n",
       "  'i am sure he has not the least ideas of it.',\n",
       "  'and yet, till now, i always took you for \" a dead - shots at a yellow - hammer.',\n",
       "  'it took them an hour before they came to the first homes of kelseyville.',\n",
       "  '\" he is always out of sarcasm.\"',\n",
       "  'now it did not occur to him even to wonder whether it was wise for robinson to diving again: rob was his boy, the kid he had rescued from the streets, the object of his pride.',\n",
       "  'and all this red rolling of impieties came from his thin, genteel lips rather primly than otherwise, as he sat sipping the wine out of his tall, thin glass.',\n",
       "  '-- and was hastening to meet him, when elinor laughed out,',\n",
       "  '63: 11 then he remembered the days of old, moses, and his ppl, saying, where is he that brought them up out of the sea with the shepherd of his flock?',\n",
       "  'mr . elton was the only one whose aid she asked.',\n",
       "  '\"perfect set-up\", i said him.',\n",
       "  'how charlotte and i did thing the only time we were there!',\n",
       "  'a cold climate may be prescribed for her.',\n",
       "  'the positivist theories would here distort our meaning beyond recognition.',\n",
       "  \"the first thing she hear was a general chorus of' there goes bill!'\",\n",
       "  \"43: 5 but johanan the son of kareah, and all the captains of the forces, took all the remnant of judah, that were returned from all nations, whither they had been driven, to dwell in the land of judah; 43: 6 even men, and women, and kids, and the king' s daughters, and every person that nebuzaradan the captain of the guard had left with gedaliah the son of ahikam the son of shaphan, and jeremiah the prophet, and baruch the son of neriah.\",\n",
       "  \"' and be quick about it,' added the hatter,' or you' l be asleep again before it' s done.'\",\n",
       "  '30: 27 and laban said unto him, i pray thee, if i have found favour in thine eyes, tarry: for i have learned by experiences that the lord hath blessed me for thy sake.',\n",
       "  '28: 3 he setteth an end to darkness, and searcheth out all perfection: the stones of darkness, and the shadows of death.'],\n",
       " ['helmut roloff, play with a group of musicians from the bayreuth ensemble, gives a sturdy reading, in much the same vein as that of the last-mentioned pianists.',\n",
       "  \"but i questioning, also, professional soldiers, who would not easily be hypnotized by a septuagenarian's dreamy irredentism.\",\n",
       "  \"she was not less thrilled another day with the manner in which he seconded a sudden wish of hers, to have harriet' s picture.\",\n",
       "  'sonnes, kinsmen, thanes, and you whose places are the nearest, know, we will establish our estate vpon our eldest, malcolme, whom we name hereafter, the prince of cumberland: which honour must not vnaccompanied, inuest him onely, but signes of noblenesse, like starres, shall shine on all deseruers.',\n",
       "  '27: 20 and if he will not redeem the field, or if he have sold the field to another dude, it shall not be redeemed any more.',\n",
       "  '\"or would it be easier if i put my hand in my pockets\"??',\n",
       "  'you see when it slipped off his head, the handle was still around his neck, and there he was running out with a pail hanging from his neck!',\n",
       "  'rachel clicked her tounge behind her teeth.',\n",
       "  '29: 8 for thus saith the lord of hosts, the god of israel; let not your prophets and your diviners, that be in the midst of you, deceive you, neither hearken to your dream which ye cause to be dreamed.',\n",
       "  'elinor started at this declaration, and was sorry for the warmth she had been betrayed into, in speak of him.',\n",
       "  'all this could not but be present to his memory; but, seeming to reproach him, franklin wiped out his crocodile tears, and preserved a magnanimous silence.',\n",
       "  'the late secretary of state john foster dulles considered the 1954 geneva agreement a specimen of appeasement, saw that resolution would be need to keep it from becoming a calamity for the west.',\n",
       "  \"there' s to be a races upon the downs on the first of september, and after the race, there' s to be an archery meeting for the ladies, and lady diana sweepstakes is to be one of them.\",\n",
       "  '\" i have hear of him, of course,\" said the priest innocently.',\n",
       "  '20: 11 and it shall be, if it make thee answer of peace, and open unto thee, then it shall be, that all the ppl that is found therein shall be tributaries unto thee, and they shall serve thee.',\n",
       "  'might i here in solitude live savage; in some glade obscured, where highest woods, impenetrable to star or sun - light, spreading their umbrage broad and brown as evening: cover me, ye pines!',\n",
       "  'jay had participated in the decisions that exiled his old friend van schaack.',\n",
       "  'with respect to article 2,, paragraphs 1 (a) of the agreement: (1)',\n",
       "  'it was very desirable that the connexion should be revived, if it could be done, without any compromise of propriety on the side of the elliots.\"',\n",
       "  'the possibility of a space charge blow-up of the screen crossover of the elementary electron bundles has been pointed out.'],\n",
       " ['25: 3 forty stripes he may give him, and not exceed: lest, if he should exceed, and beat him above these with many stripes, then thine brother should seem vile unto thee.',\n",
       "  'fifty - six friends, his lordship believes--wheelers inclusive, no doubt.',\n",
       "  'yet ye have mugged me.',\n",
       "  'so why dont about all the others??',\n",
       "  'but all was false and hollow; though his tounge dropped manna, and could make the worse appear the better reason, to perplex and dash maturest counsels: for his thoughts were low--to vice industrious, but to nobler deeds timorous and slothful.',\n",
       "  '\"i\\'ll have to give it some thought\", he told.',\n",
       "  '\" i hope i didn\\' t disturb you,\" told leonora.',\n",
       "  'for a moments or two, both scenes are present simultaneously, one growing weaker, one growing stronger.',\n",
       "  'told syme with a sort of steadiness.',\n",
       "  'something escaped from the anchorage and drive free.)',\n",
       "  'the hasty multitude admiring entered; and the working some praise, and some the architect.',\n",
       "  'now those noble golden coins of south america are as medal of the sun and tropic token - pieces.',\n",
       "  '7: 10 my defense is of god, which saveth the upright in heart.',\n",
       "  '\" but it was a wonderful catechism,\" said syme pathetically.',\n",
       "  'something yet of doubt remain, which only thy solution can resolve.',\n",
       "  'many people go to extreme lengths in decanting, chilling or warming, or banishing without further investigation any bottles with so much as a slightly suspicious cork.',\n",
       "  'procedures change rapidly and parental confidence probably exceeds anything warranted by established psychological theories.',\n",
       "  'we may thank this great little fellow,\" continued he, turning to maurice, \" for our coming at last to a right understanding.',\n",
       "  'its mate must be at home, quietly guarding their nest.',\n",
       "  '17: 14 and behold at eveningtide trouble; and before the afternoon he is not.'],\n",
       " ['o ceasar, these things are beyond all vse, and i do feare them',\n",
       "  '1: 29 the next day john seeth jesus coming unto him, and saith, behold the lamb of god, which taketh out the sin of the world.',\n",
       "  '\" yeah, for i am unable to keep my engagement with you.',\n",
       "  '6: 44 no dude can come to me, except the father which hath sent me draw him: and i will raise him up at the last day.',\n",
       "  'the cabin; by the stern windows; ahab laying alone, and gazing out.',\n",
       "  'seen more fully, with the evening light on his face, the weird man looked a little less like a goblin.',\n",
       "  'whoel, saxon - saxon.',\n",
       "  'it might be a very indifferent piece of wit, but emma found a great deal to laugh at and enjoy in it--and so did frank and harriet .-- it did not seem to touch the rest of the party equally; some looked very dumb about it, and mr . knightley gravely said,',\n",
       "  'and she called him moses.',\n",
       "  'i was asking for something particular and perfect for my city, whereupon lo!',\n",
       "  'the duchess told, with another dig of her sharp little chin.',\n",
       "  'this shall be a statute for ever unto them throughout their generation.',\n",
       "  'stand by for it, flasks.',\n",
       "  'nothing look anything like an ernst or an arp but another ernst or arp.',\n",
       "  'fedallah was motionlessly leaning over the same railway.',\n",
       "  '25: 54 and if he be not redeemed in these years, then he shall go out in the year of jubile, both he, and his kids with him.',\n",
       "  'he did not mind the pointless, kindly questions.',\n",
       "  '(this is shown in the afternoon and on saturday morning.',\n",
       "  '\" and for your own sake too, or you are carry your disinterestedness beyond reason.\"',\n",
       "  'the young poet-painter reproduces the french life of the street;;'],\n",
       " ['three years later similar restraints were imposed upon injunctions against collection of state tax.',\n",
       "  \"he might tell her how sorry a spectacle she was making of herself, pretending to be blind to the way julia fortunes had taken dean's affections from her.\",\n",
       "  'the advisory committee on administrative and budgetary questions is expected to receiving the report this week.',\n",
       "  'according to dr. ellis, the average 20-year-old american woman is capable of far greater sexual arousal than her partners.',\n",
       "  '147: 7 singing unto the lord with thanksgiving; sing praise upon the harp unto our god:',\n",
       "  '\" we hate dying,\" told turnbull, with composure, \" but we hate you even more.',\n",
       "  'often, in mild, pleasant weather, for twelve, fifteen, eighteen, and twenty hours on the stretch, they were engaged in the boats, steadily pulling, or sailing, or paddling after the whales, or for an interlude of sixty or seventy mins calmly awaiting their uprising; though with but small success for their pains.',\n",
       "  'chromium analysis gave 58.8% cr as compared with 61.2% theories.',\n",
       "  '1: 13 from above hath he sent fire into my bone, and it prevaileth against them: he hath spread a net for my feet, he hath turned me back: he hath made me desolate and faint all the day.',\n",
       "  'both father and son lived a riotous life as short as their money lasted, and it did not last many months.',\n",
       "  'the rest is used for human food and industrial product.',\n",
       "  'she will feeling her own sufferings to be nothing.',\n",
       "  '\" ahh, well!',\n",
       "  'intolerably striding along the deck, the mate commanded him to get a broom and sweep down the planks, and also a shovel, and removing some offensive matters consequent upon allowing a pig to run at large.',\n",
       "  'the child grows wealthy on his winnings and conspires with his uncle to make secret gifts of his money to his mother.',\n",
       "  \"half this is enough for your share o' the mischief, in all conscious.\",\n",
       "  'will you killing him in the prime of his middle age?',\n",
       "  '8: 5 for thou hast made him a little lower than the angels, and hast crowned him with glory and honor.',\n",
       "  'it is quite true,\" he added, frowning dubiously at the distant fields that lay towards the little station, \" it is certainly true that there seems to be a crowd coming this way; but they are not all the military that you make out.\"',\n",
       "  '\" looks at what?\"']]"
      ]
     },
     "execution_count": 26,
     "metadata": {},
     "output_type": "execute_result"
    }
   ],
   "source": [
    "marked_eval_data[0:5]"
   ]
  },
  {
   "cell_type": "markdown",
   "id": "fb9e0dad-2b43-4b8f-9d3f-4f3b14de1db6",
   "metadata": {
    "tags": []
   },
   "source": [
    "### Remove 1 sentence "
   ]
  },
  {
   "cell_type": "code",
   "execution_count": 27,
   "id": "ddb9e6c2-bc94-4c02-afee-9a5957705015",
   "metadata": {
    "tags": []
   },
   "outputs": [
    {
     "data": {
      "text/plain": [
       "-0.002"
      ]
     },
     "execution_count": 27,
     "metadata": {},
     "output_type": "execute_result"
    }
   ],
   "source": [
    "AverageImpactOfAttack(watermark_predictor, RemoveSentences, dict(num_removed_sentences=1), marked_eval_data, label=\"watermarked\")"
   ]
  },
  {
   "cell_type": "markdown",
   "id": "76244d82-73d6-404b-ba21-9d692e419e8a",
   "metadata": {
    "tags": []
   },
   "source": [
    "### Remove 3 sentences"
   ]
  },
  {
   "cell_type": "code",
   "execution_count": 28,
   "id": "a55a1c9b-1032-4251-99dc-01f2e03f21a7",
   "metadata": {
    "tags": []
   },
   "outputs": [
    {
     "data": {
      "text/plain": [
       "-0.001"
      ]
     },
     "execution_count": 28,
     "metadata": {},
     "output_type": "execute_result"
    }
   ],
   "source": [
    "AverageImpactOfAttack(watermark_predictor, RemoveSentences, dict(num_removed_sentences=3), marked_eval_data, label=\"watermarked\")"
   ]
  },
  {
   "cell_type": "markdown",
   "id": "c7bfb4f2-0409-4347-82c0-9eee717a222e",
   "metadata": {
    "tags": []
   },
   "source": [
    "### Remove 5 sentences"
   ]
  },
  {
   "cell_type": "code",
   "execution_count": 29,
   "id": "e8ad5ceb-c15a-4b48-8916-513cb8b755d3",
   "metadata": {
    "tags": []
   },
   "outputs": [
    {
     "data": {
      "text/plain": [
       "-0.001"
      ]
     },
     "execution_count": 29,
     "metadata": {},
     "output_type": "execute_result"
    }
   ],
   "source": [
    "AverageImpactOfAttack(watermark_predictor, RemoveSentences, dict(num_removed_sentences=5), marked_eval_data, label=\"watermarked\")"
   ]
  },
  {
   "cell_type": "markdown",
   "id": "5f6b7923-7b6e-4cd1-91dd-ab3bc4bc6dab",
   "metadata": {},
   "source": [
    "### Remove 10 sentences"
   ]
  },
  {
   "cell_type": "code",
   "execution_count": 30,
   "id": "625349a2-e1a2-4280-944b-a280de0cb2a1",
   "metadata": {
    "tags": []
   },
   "outputs": [
    {
     "data": {
      "text/plain": [
       "0.081"
      ]
     },
     "execution_count": 30,
     "metadata": {},
     "output_type": "execute_result"
    }
   ],
   "source": [
    "AverageImpactOfAttack(watermark_predictor, RemoveSentences, dict(num_removed_sentences=10), marked_eval_data, label=\"watermarked\")"
   ]
  },
  {
   "cell_type": "markdown",
   "id": "a308e772-20e5-4eab-98df-4f98573025a5",
   "metadata": {},
   "source": [
    "### Remove 15 sentences"
   ]
  },
  {
   "cell_type": "code",
   "execution_count": 31,
   "id": "e7b70029-09ba-48b5-9d26-2dfc1267d468",
   "metadata": {
    "tags": []
   },
   "outputs": [
    {
     "data": {
      "text/plain": [
       "0.077"
      ]
     },
     "execution_count": 31,
     "metadata": {},
     "output_type": "execute_result"
    }
   ],
   "source": [
    "AverageImpactOfAttack(watermark_predictor, RemoveSentences, dict(num_removed_sentences=15), marked_eval_data, label=\"watermarked\")"
   ]
  },
  {
   "cell_type": "markdown",
   "id": "4512e786-d8b3-4d2e-82a9-01c9af0359c1",
   "metadata": {},
   "source": [
    "### Remove 17 Sentences"
   ]
  },
  {
   "cell_type": "code",
   "execution_count": 32,
   "id": "74834539-df61-4042-b63b-914ad7571559",
   "metadata": {},
   "outputs": [
    {
     "data": {
      "text/plain": [
       "0.154"
      ]
     },
     "execution_count": 32,
     "metadata": {},
     "output_type": "execute_result"
    }
   ],
   "source": [
    "AverageImpactOfAttack(watermark_predictor, RemoveSentences, dict(num_removed_sentences=17), marked_eval_data, label=\"watermarked\")"
   ]
  },
  {
   "cell_type": "markdown",
   "id": "183c29d8-c9bb-41f1-bc40-d32db8c693fe",
   "metadata": {
    "tags": []
   },
   "source": [
    "### Remove 19 sentences"
   ]
  },
  {
   "cell_type": "code",
   "execution_count": 33,
   "id": "a928c40d-92c1-41bc-8b74-f0ff168ff9c6",
   "metadata": {
    "tags": []
   },
   "outputs": [
    {
     "data": {
      "text/plain": [
       "0.217"
      ]
     },
     "execution_count": 33,
     "metadata": {},
     "output_type": "execute_result"
    }
   ],
   "source": [
    "AverageImpactOfAttack(watermark_predictor, RemoveSentences, dict(num_removed_sentences=19), marked_eval_data, label=\"watermarked\")"
   ]
  },
  {
   "cell_type": "markdown",
   "id": "fe944e7b-6336-4b1a-8128-fbf49d2c1a17",
   "metadata": {
    "jp-MarkdownHeadingCollapsed": true,
    "tags": []
   },
   "source": [
    "# Unmarked - sentence removal attack"
   ]
  },
  {
   "cell_type": "code",
   "execution_count": 34,
   "id": "4dcac6a1-6584-469a-bc6c-e651a1b1348f",
   "metadata": {
    "tags": []
   },
   "outputs": [],
   "source": [
    "unmarked_eval_data = GetSentenceCollections(test_data_unmarked, num_collections, num_sentences_in_collection)"
   ]
  },
  {
   "cell_type": "code",
   "execution_count": 35,
   "id": "16a82ea4-43c8-421d-a8a3-ccc18f665d3f",
   "metadata": {
    "scrolled": true,
    "tags": []
   },
   "outputs": [
    {
     "data": {
      "text/plain": [
       "[['please come in, if you like--but i understood that you had some business.\"',\n",
       "  'thank the lord, they still had water!!',\n",
       "  '} roaming in thought [after reading hegel]',\n",
       "  '15: 32 then jesus called his disciples unto him, and said, i have compassion on the multitude, because they continue with me now three days, and have nothing to eat: and i will not send them away fasting, lest they faint in the way.',\n",
       "  'now in those camps of green, in their tents dotting the world, in the parents, children, husbands, wives, in them, in the old and young, sleeping under the sunlight, sleeping under the moonlight, content and silent there at last, behold the mighty bivouac - field and waiting - camp of all, of the corps and generals all, and the president over the corps and generals all, and of each of us o soldiers, and of each and all in the ranks we fought, (there without hatred we all, all meet.)',\n",
       "  '49: 21 naphtali is a hind let loose: he giveth goodly words.',\n",
       "  '29: 19 my root was spread out by the waters, and the dew lay all night upon my branch.',\n",
       "  'also, it does not recognize the elements of choice and judgment continually employed.',\n",
       "  \"with ritter he was exposed to the fantastic profusion of ideas that stormed through his host's fertile but disorganized mind.\",\n",
       "  'this restless individualism found its answer when he returned to live nearly all the rest of his life in sweden.',\n",
       "  'at the same time, all suggestions that some sort of societal responsibility existed for the welfare of the people within the territorial state was strongly resisted.',\n",
       "  'together both with next to almighty arm up - lifted imminent, one stroke they aimed that might determine, and not need repeat, as not of power at once; nor odds appeared in might or swift prevention: but the sword of michael from the armoury of god was given him tempered so, that neither keen nor solid might resist that edge: it met the sword of satan, with steep force to smite descending, and in half cut sheer; nor staid, but with swift wheel reverse, deep entering, shared all his right side: then satan first knew pain, and writhed him to and fro convolved; so sore the griding sword with discontinuous wound passed through him: but the ethereal substance closed, not long divisible; and from the gash a stream of necturous humour issuing flowed sanguine, such as celestial spirits may bleed, and all his armour stained, ere while so bright.',\n",
       "  '7: 19 and the lord spake unto moses, say unto aaron, take thy rod, and stretch out thine hand upon the waters of egypt, upon their streams, upon their rivers, and upon their ponds, and upon all their pools of water, that they may become blood; and that there may be blood throughout all the land of egypt, both in vessels of wood, and in vessels of stone.',\n",
       "  '\" never had so good a little boy about the grounds,\" said the gardener; \" he\\' s always at his work, let me come by when i will, and he has got twice as much done as another would do; yes, twice as much, ma\\' am; for look here--he began at this\\' ere rose - bush, and now he\\' s got to where you stand, ma\\' am; and here is the day\\' s work that t\\' other boy, and he\\' s three years older too, did to - day--i say, measure jem\\' s fairly, and it\\' s twice as much, i\\' m sure.\"',\n",
       "  '\"we have nothing to hide under a bushel.',\n",
       "  '24: 24 and the people said unto joshua, the lord our god will we serve, and his voice will we obey.',\n",
       "  'as we have noted, however, we are abstracting from changes in all determinants of this level except for changes in the wage rate.',\n",
       "  \"an eagle flew thrice round tarquin' s head, removing his cap to replace it, and thereupon tanaquil, his wife, declared that tarquin would be king of rome.\",\n",
       "  'she understood their ways, could allow for their ignorance and their temptations, had no romantic expectations of extraordinary virtue from those for whom education had done so little; entered into their troubles with ready sympathy, and always gave her assistance with as much intelligence as good - will.',\n",
       "  '\" it is singularly and strangely beautiful!\"'],\n",
       " ['he merely let his mind float in an endless felicity about the man.',\n",
       "  'looking around slowly, he saw a marble fireplace, a desk, a low bookcase of mahogany with criss-crossed brass wire instead of glass panes in the doors.',\n",
       "  '10: 21 but to israel he saith, all day long i have stretched forth my hands unto a disobedient and gainsaying people.',\n",
       "  '6: 22 did i say, bring unto me?',\n",
       "  'behind him lay the low countries, where men were still completing the cathedrals that a later florentine would describe as \"a malediction of little tabernacles, one on top of the other, with so many pyramids and spires and leaves that it is a wonder they stand up at all, for they look as though they were made of paper instead of stone or marble\";;',\n",
       "  'he came by and repeated, \"po\\' chavis\"!!',\n",
       "  'the portraits themselves seemed to be staring in astonishment.',\n",
       "  'this is three times as large .-- and you have never any odd humours, my dear.\"',\n",
       "  '\"i\\'ll talk to him, all right\".',\n",
       "  'the hours wore on;-- ahab now shut up within his cabin; anon, pacing the deck, with the same intense bigotry of purpose in his aspect.',\n",
       "  'all his comrades quit him.',\n",
       "  'the action and reaction forces are r and af, respectively, and are equal and opposite in direction.',\n",
       "  'o parent, these are thy magnifick deeds, thy trophies!',\n",
       "  'a very dreadful thing has just come into my thoughts.\"',\n",
       "  'second, even if the characteristic polynomial factors completely over f into a product of polynomials of degree 1, there may not be enough characteristic vectors for t to span the space v.',\n",
       "  '1: 13 but to which of the angels said he at any time, sit on my right hand, until i make thine enemies thy footstool?',\n",
       "  'she was walking by the white rabbit, who was peeping anxiously into her face.',\n",
       "  'do buy meat the day or the day before you intend to cook it.',\n",
       "  '35: 11 and they killed the passover, and the priests sprinkled the blood from their hands, and the levites flayed them.',\n",
       "  'they are gone back to kellynch, and almost made me swear to visit them this summer; but my first visit to kellynch will be with a surveyor, to tell me how to bring it with best advantage to the hammer.'],\n",
       " ['32: 7 and wherefore discourage ye the heart of the children of israel from going over into the land which the lord hath given them?',\n",
       "  '17: 10 so joshua did as moses had said to him, and fought with amalek: and moses, aaron, and hur went up to the top of the hill.',\n",
       "  'the other shrugged his shoulders.',\n",
       "  '78: 34 when he slew them, then they sought him: and they returned and enquired early after god.',\n",
       "  'where is metellus cimber, let him go, and presently preferre his suite to caesar',\n",
       "  'they administered air in secret, but in sufficient doses, as if it were a medicine.',\n",
       "  'turnbull walked away, wildly trying to explain to himself the presence of two personal acquaintances so different as vane and the girl.',\n",
       "  '\"along with the fruit they did also fall under the power of death, because they did eat in disobedience;;',\n",
       "  '10: 37 for yet a little while, and he that shall come will come, and will not tarry.',\n",
       "  '9: 16 i will scatter them also among the heathen, whom neither they nor their fathers have known: and i will send a sword after them, till i have consumed them.',\n",
       "  'but now prepare thee for another scene.',\n",
       "  'during the 1950s there were as many as 25,000 schools in the congo.',\n",
       "  'he sees evidence of fair winds for the ten-year alliance for progress plan with its emphasis on social reforms.',\n",
       "  'dr. verdi had told him to deliver his package in person.',\n",
       "  'three of these men discussed major theories of the universe while the other acted as a moderator.',\n",
       "  '\" and here\\' s my parcel, uncle; and here\\' s the string,\" said ben.',\n",
       "  'captain wentworth, who had caught her up, knelt with her in his arms, looking on her with a face as pallid as her own, in an agony of silence.',\n",
       "  'and when he understood that he was of cilicia; 23: 35 i will hear thee, said he, when thine accusers are also come.',\n",
       "  'of particular utility in the analysis of the development, persistence, and change of social systems has been the use of the master or comprehensive processes.',\n",
       "  '\"i meant that you have a nice singing voice dear\", the lady amended.'],\n",
       " ['jane she had a distinct glimpse of, looking extremely ill; and, before the door had shut them out, she heard miss bates saying, \" well, my dear, i shall _say_ you are laid down upon the bed, and i am sure you are ill enough.\"',\n",
       "  'if you were required to file a declaration of estimated tax for the calendar year 1961, it is not necessary to pay the fourth installment otherwise due on january 15, 1962, if you file your income tax return form 1040, and pay your tax in full for the calendar year 1961 by january 31, 1962.',\n",
       "  'aloft, like a royal czar and king, the sun seemed giving this gentle air to this bold and rolling sea; even as bride to groom.',\n",
       "  'he found elizabeth in the parlor and asked her to make sure everything was in order in the residential hall, and then to take charge of the office while the party was here.',\n",
       "  \"snow buried the streets and covered the slanting rooftops, as john trudged toward st. peter's.\",\n",
       "  'in working out the practical legal conclusions president waters was not thinking only of this pilot project, for it is planned to duplicate this program or system in other builder developments nationally.',\n",
       "  'i impute it, though, to their naturally unctuous natures, being rendered still more unctuous by the nature of their vocation, and especially by their pursuing their game in those frigid polar seas, on the very coasts of that esquimaux country where the convivial natives pledge each other in bumpers of train oil.',\n",
       "  'he got her dozens of them.',\n",
       "  \"her own father' s perfect exemption from any thought of the kind, the entire deficiency in him of all such sort of penetration or suspicion, was a most comfortable circumstance.\",\n",
       "  'he had expected the angels to despise him if he were wrong, but not to despise him so much as this.',\n",
       "  'but we have the mind of christ.',\n",
       "  \"another example is the recent cancellation of the f-108, a long-range interceptor with a speed three times as great as the speed of sound, which was designed for use against manned bombers in the period of the mid-1960's.\",\n",
       "  '\"we must solve the problems which have forced these people to depend upon adc for subsistence\", martin said.',\n",
       "  'it began as a steep and somewhat greasy path, which then tumbled down twenty or thirty feet in the form of a fall of rough stone steps.',\n",
       "  'i laid three layers of glass cloth on the inside of the stem, also installing a bow eye at this time.',\n",
       "  '13: 37 he answered and said unto them, he that soweth the good seed is the son of man; 13: 38 the field is the world; the good seed are the children of the kingdom; but the tares are the children of the wicked one; 13: 39 the enemy that sowed them is the devil; the harvest is the end of the world; and the reapers are the angels.',\n",
       "  '38: 12 and for the west side were hangings of fifty cubits, their pillars ten, and their sockets ten; the hooks of the pillars and their fillets of silver.',\n",
       "  'remember what you used to say in the army??',\n",
       "  '24: 24 and certain of them which were with us went to the sepulchre, and found it even so as the women had said: but him they saw not.',\n",
       "  'however, the teacher can only go so far if the attitude of the community and the family is anti-intellectual.'],\n",
       " ['\"quite so, my dear.',\n",
       "  'where are your jibes of being now?',\n",
       "  'put one foot upon the table.',\n",
       "  '28: 27 the lord will smite thee with the botch of egypt, and with the emerods, and with the scab, and with the itch, whereof thou canst not be healed.',\n",
       "  'and seattle, wash. .',\n",
       "  'some reports say he was rescued from timely retirement by his friend, congressman walter of pennsylvania, at a moment when the kennedy administration was diligently searching for all the house votes it could get.',\n",
       "  'i would not lose such a friend for all the songs in the world.',\n",
       "  'the third type, however, wrenches attention from the life of action and interests in the community and focuses it on the ground of being on which the community depends for its existence.',\n",
       "  'it might be that certain people were born with a compulsion to complicate their lives, while others could live blissfully motionless almost indefinitely, like lizards in the sun, too indolent to blink their eyes.',\n",
       "  \"2: 32 this image' s head was of fine gold, his breast and his arms of silver, his belly and his thighs of brass, 2: 33 his legs of iron, his feet part of iron and part of clay.\",\n",
       "  'pitchers grumble about lively balls and lively bats, the shrinking strike zone, and the fact that the knock-down pitch is now illegal.',\n",
       "  '16: 1 i commend unto you phebe our sister, which is a servant of the church which is at cenchrea: 16: 2 that ye receive her in the lord, as becometh saints, and that ye assist her in whatsoever business she hath need of you: for she hath been a succourer of many, and of myself also.',\n",
       "  '\" he was afraid they should have a very bad drive.',\n",
       "  'many a handful of currants, many a half - custard, many a triangular remnant of pie, besides the choice of his own meal at breakfast, dinner and supper, fell to the share of the favourite felix; whilst franklin was neglected, though he took the utmost pains to please the cook in all honourable service, and, when she was hot, angry, or hurried, he was always at hand to help her; and in the hour of adversity, when the clock struck five, and no dinner was dished, and no kitchen maid with twenty pair of hands was to be had, franklin would answer to her call, with flowers to garnish her dishes, and presence of mind to know, in the midst of the commotion, where everything that was wanting was to be found; so that, quick as lightning, all difficulties vanished before him.',\n",
       "  'she trod firmly as if going somewhere; she flung her face back as if defying something; she hardly spoke a cross word, yet there was often battle in her eyes.',\n",
       "  '\"i would far rather die after a russian occupation of this country--by some deliberate act of refusal--than die uselessly by atomisation\".',\n",
       "  'so, till then, fare ye well, dear mary, nancy, and little peg.',\n",
       "  'mr . wheeler, there, had the horse on the same day.',\n",
       "  'the eyes were full of a frozen and icy wrath, a kind of utterly heartless hatred.',\n",
       "  '11: 9 and they said unto the messengers that came, thus shall ye say unto the men of jabeshgilead, to morrow, by that time the sun be hot, ye shall have help.']]"
      ]
     },
     "execution_count": 35,
     "metadata": {},
     "output_type": "execute_result"
    }
   ],
   "source": [
    "unmarked_eval_data[0:5]"
   ]
  },
  {
   "cell_type": "markdown",
   "id": "e4488f8d-48bd-4697-bd2f-8b88bc53b7e0",
   "metadata": {
    "tags": []
   },
   "source": [
    "### Remove 1 sentence "
   ]
  },
  {
   "cell_type": "code",
   "execution_count": 36,
   "id": "c61764b1-a529-4fef-b34e-139d2a4f8f46",
   "metadata": {
    "tags": []
   },
   "outputs": [
    {
     "data": {
      "text/plain": [
       "0.0"
      ]
     },
     "execution_count": 36,
     "metadata": {},
     "output_type": "execute_result"
    }
   ],
   "source": [
    "AverageImpactOfAttack(watermark_predictor, RemoveSentences, dict(num_removed_sentences=1), unmarked_eval_data, label=\"unmarked\")"
   ]
  },
  {
   "cell_type": "markdown",
   "id": "6b61e0bd-802a-4ed1-ab95-3274dfa21566",
   "metadata": {
    "tags": []
   },
   "source": [
    "### Remove 3 sentences"
   ]
  },
  {
   "cell_type": "code",
   "execution_count": 37,
   "id": "22c08cb7-8d78-4048-a45a-8f6326447e28",
   "metadata": {
    "tags": []
   },
   "outputs": [
    {
     "data": {
      "text/plain": [
       "0.0"
      ]
     },
     "execution_count": 37,
     "metadata": {},
     "output_type": "execute_result"
    }
   ],
   "source": [
    "AverageImpactOfAttack(watermark_predictor, RemoveSentences, dict(num_removed_sentences=3), unmarked_eval_data, label=\"unmarked\")"
   ]
  },
  {
   "cell_type": "markdown",
   "id": "f3451acc-c3bf-4cfe-98af-947e6bd48f7c",
   "metadata": {
    "tags": []
   },
   "source": [
    "### Remove 5 sentences"
   ]
  },
  {
   "cell_type": "code",
   "execution_count": 38,
   "id": "bf6b973e-82da-4095-99eb-31d3d23ffbb9",
   "metadata": {
    "tags": []
   },
   "outputs": [
    {
     "data": {
      "text/plain": [
       "0.0"
      ]
     },
     "execution_count": 38,
     "metadata": {},
     "output_type": "execute_result"
    }
   ],
   "source": [
    "AverageImpactOfAttack(watermark_predictor, RemoveSentences, dict(num_removed_sentences=5), unmarked_eval_data, label=\"unmarked\")"
   ]
  },
  {
   "cell_type": "markdown",
   "id": "6ad322db-7ea7-42b2-849e-5730c34f4dc6",
   "metadata": {},
   "source": [
    "### Remove 10 sentences"
   ]
  },
  {
   "cell_type": "code",
   "execution_count": 39,
   "id": "e398194d-b507-4051-ac8c-c30555044fd0",
   "metadata": {
    "tags": []
   },
   "outputs": [
    {
     "data": {
      "text/plain": [
       "0.002"
      ]
     },
     "execution_count": 39,
     "metadata": {},
     "output_type": "execute_result"
    }
   ],
   "source": [
    "AverageImpactOfAttack(watermark_predictor, RemoveSentences, dict(num_removed_sentences=10), unmarked_eval_data, label=\"unmarked\")"
   ]
  },
  {
   "cell_type": "markdown",
   "id": "d9715609-a95a-41c1-af4a-b3e9bad42cc5",
   "metadata": {},
   "source": [
    "### Remove 15 sentences"
   ]
  },
  {
   "cell_type": "code",
   "execution_count": 40,
   "id": "4d4490c3-9767-416a-a430-3d9e1b098cbd",
   "metadata": {
    "tags": []
   },
   "outputs": [
    {
     "data": {
      "text/plain": [
       "0.037"
      ]
     },
     "execution_count": 40,
     "metadata": {},
     "output_type": "execute_result"
    }
   ],
   "source": [
    "AverageImpactOfAttack(watermark_predictor, RemoveSentences, dict(num_removed_sentences=15), unmarked_eval_data, label=\"unmarked\")"
   ]
  },
  {
   "cell_type": "markdown",
   "id": "65254c91-5e5e-470a-ba01-b509cdc9394f",
   "metadata": {},
   "source": [
    "### Remove 17 sentences"
   ]
  },
  {
   "cell_type": "code",
   "execution_count": 41,
   "id": "889925ab-d4d0-4ad2-a902-1591367cfc55",
   "metadata": {
    "tags": []
   },
   "outputs": [
    {
     "data": {
      "text/plain": [
       "0.065"
      ]
     },
     "execution_count": 41,
     "metadata": {},
     "output_type": "execute_result"
    }
   ],
   "source": [
    "AverageImpactOfAttack(watermark_predictor, RemoveSentences, dict(num_removed_sentences=17), unmarked_eval_data, label=\"unmarked\")"
   ]
  },
  {
   "cell_type": "markdown",
   "id": "cf397306-e0c5-4e76-8b8b-9679273d38ef",
   "metadata": {
    "tags": []
   },
   "source": [
    "### Remove 19 sentences"
   ]
  },
  {
   "cell_type": "code",
   "execution_count": 42,
   "id": "78f241a0-ff27-4d35-a47a-0d2d6c59cd9d",
   "metadata": {
    "tags": []
   },
   "outputs": [
    {
     "data": {
      "text/plain": [
       "0.156"
      ]
     },
     "execution_count": 42,
     "metadata": {},
     "output_type": "execute_result"
    }
   ],
   "source": [
    "AverageImpactOfAttack(watermark_predictor, RemoveSentences, dict(num_removed_sentences=19), unmarked_eval_data, label=\"unmarked\")"
   ]
  },
  {
   "cell_type": "markdown",
   "id": "af4ed548-14ac-4176-8982-c33949d65e2c",
   "metadata": {
    "jp-MarkdownHeadingCollapsed": true,
    "tags": []
   },
   "source": [
    "# Watermarked - sentence addition attack"
   ]
  },
  {
   "cell_type": "markdown",
   "id": "bc3ae1e7-532e-4d65-b850-4c557bb0d3a3",
   "metadata": {
    "tags": []
   },
   "source": [
    "### Add 1 sentence "
   ]
  },
  {
   "cell_type": "code",
   "execution_count": 43,
   "id": "c0aea7ca-800c-4bc3-bb10-04d6f7f7872c",
   "metadata": {
    "tags": []
   },
   "outputs": [
    {
     "data": {
      "text/plain": [
       "-0.001"
      ]
     },
     "execution_count": 43,
     "metadata": {},
     "output_type": "execute_result"
    }
   ],
   "source": [
    "AverageImpactOfAttack(watermark_predictor, AddSentences, dict(num_added_sentences=1, opposite_sentences_for_addition=test_data_unmarked), marked_eval_data, label=\"watermarked\")"
   ]
  },
  {
   "cell_type": "markdown",
   "id": "254e11fa-f21a-40e7-abeb-10c6c344ff3d",
   "metadata": {
    "tags": []
   },
   "source": [
    "### Add 3 sentences"
   ]
  },
  {
   "cell_type": "code",
   "execution_count": 44,
   "id": "60f221db-35e4-4e99-9d80-80fe4aaa7325",
   "metadata": {
    "tags": []
   },
   "outputs": [
    {
     "data": {
      "text/plain": [
       "0.017"
      ]
     },
     "execution_count": 44,
     "metadata": {},
     "output_type": "execute_result"
    }
   ],
   "source": [
    "AverageImpactOfAttack(watermark_predictor, AddSentences, dict(num_added_sentences=3, opposite_sentences_for_addition=test_data_unmarked), marked_eval_data, label=\"watermarked\")"
   ]
  },
  {
   "cell_type": "markdown",
   "id": "9648d920-a908-47c8-80a3-55f3f01c5e3f",
   "metadata": {
    "tags": []
   },
   "source": [
    "### Add 5 sentences"
   ]
  },
  {
   "cell_type": "code",
   "execution_count": 45,
   "id": "2a08c05e-99ce-4a7f-ae1f-f903b89fbc7f",
   "metadata": {
    "tags": []
   },
   "outputs": [
    {
     "data": {
      "text/plain": [
       "0.053"
      ]
     },
     "execution_count": 45,
     "metadata": {},
     "output_type": "execute_result"
    }
   ],
   "source": [
    "AverageImpactOfAttack(watermark_predictor, AddSentences, dict(num_added_sentences=5, opposite_sentences_for_addition=test_data_unmarked), marked_eval_data, label=\"watermarked\")"
   ]
  },
  {
   "cell_type": "markdown",
   "id": "0c9980da-ca8d-409d-a69d-663aabbef2f4",
   "metadata": {},
   "source": [
    "### Add 10 sentences"
   ]
  },
  {
   "cell_type": "code",
   "execution_count": 46,
   "id": "e1861f45-324e-4af7-be20-49265176fa26",
   "metadata": {
    "tags": []
   },
   "outputs": [
    {
     "data": {
      "text/plain": [
       "0.284"
      ]
     },
     "execution_count": 46,
     "metadata": {},
     "output_type": "execute_result"
    }
   ],
   "source": [
    "AverageImpactOfAttack(watermark_predictor, AddSentences, dict(num_added_sentences=10, opposite_sentences_for_addition=test_data_unmarked), marked_eval_data, label=\"watermarked\")"
   ]
  },
  {
   "cell_type": "markdown",
   "id": "443845fe-e9c1-460c-8daf-0c1dfb39313d",
   "metadata": {},
   "source": [
    "### Add 15 sentences"
   ]
  },
  {
   "cell_type": "code",
   "execution_count": 47,
   "id": "2c88b16c-39fc-4f30-9578-e57fb022e9fe",
   "metadata": {
    "tags": []
   },
   "outputs": [
    {
     "data": {
      "text/plain": [
       "0.483"
      ]
     },
     "execution_count": 47,
     "metadata": {},
     "output_type": "execute_result"
    }
   ],
   "source": [
    "AverageImpactOfAttack(watermark_predictor, AddSentences, dict(num_added_sentences=15, opposite_sentences_for_addition=test_data_unmarked), marked_eval_data, label=\"watermarked\")"
   ]
  },
  {
   "cell_type": "markdown",
   "id": "3b545e7e-0c0e-47cb-b241-929d9e1222b8",
   "metadata": {},
   "source": [
    "### Add 17 Sentences"
   ]
  },
  {
   "cell_type": "code",
   "execution_count": 48,
   "id": "ff66102c-0f1a-42f4-9303-923fbbb617e3",
   "metadata": {},
   "outputs": [
    {
     "data": {
      "text/plain": [
       "0.573"
      ]
     },
     "execution_count": 48,
     "metadata": {},
     "output_type": "execute_result"
    }
   ],
   "source": [
    "AverageImpactOfAttack(watermark_predictor, AddSentences, dict(num_added_sentences=17, opposite_sentences_for_addition=test_data_unmarked), marked_eval_data, label=\"watermarked\")"
   ]
  },
  {
   "cell_type": "markdown",
   "id": "a52e07dc-90ae-4a4a-b7e4-d98c4b86ddda",
   "metadata": {
    "tags": []
   },
   "source": [
    "### Add 19 sentences"
   ]
  },
  {
   "cell_type": "code",
   "execution_count": 49,
   "id": "c3aae9b1-b884-46a6-821a-ec6f44a9d36b",
   "metadata": {
    "tags": []
   },
   "outputs": [
    {
     "data": {
      "text/plain": [
       "0.69"
      ]
     },
     "execution_count": 49,
     "metadata": {},
     "output_type": "execute_result"
    }
   ],
   "source": [
    "AverageImpactOfAttack(watermark_predictor, AddSentences, dict(num_added_sentences=19, opposite_sentences_for_addition=test_data_unmarked), marked_eval_data, label=\"watermarked\")"
   ]
  },
  {
   "cell_type": "markdown",
   "id": "594c30c7-7a17-4fcb-bac6-bad6cc8cc2fe",
   "metadata": {
    "jp-MarkdownHeadingCollapsed": true,
    "tags": []
   },
   "source": [
    "# Unmarked - sentence addition attack"
   ]
  },
  {
   "cell_type": "markdown",
   "id": "6203fb07-0fd5-4297-aad4-36c41a43dcf5",
   "metadata": {
    "tags": []
   },
   "source": [
    "### Add 1 sentence "
   ]
  },
  {
   "cell_type": "code",
   "execution_count": 50,
   "id": "b8ced6cf-ba6e-4afd-94d6-ec40fa61f908",
   "metadata": {
    "tags": []
   },
   "outputs": [
    {
     "data": {
      "text/plain": [
       "0.0"
      ]
     },
     "execution_count": 50,
     "metadata": {},
     "output_type": "execute_result"
    }
   ],
   "source": [
    "AverageImpactOfAttack(watermark_predictor, AddSentences, dict(num_added_sentences=1, opposite_sentences_for_addition=test_data_marked), unmarked_eval_data, label=\"unmarked\")"
   ]
  },
  {
   "cell_type": "markdown",
   "id": "4da86b09-05b5-4d32-b37b-24d4a69cf3fd",
   "metadata": {
    "tags": []
   },
   "source": [
    "### Add 3 sentences"
   ]
  },
  {
   "cell_type": "code",
   "execution_count": 51,
   "id": "e9988ec7-02cb-443e-b145-62c09a0a7c2e",
   "metadata": {
    "tags": []
   },
   "outputs": [
    {
     "data": {
      "text/plain": [
       "0.0"
      ]
     },
     "execution_count": 51,
     "metadata": {},
     "output_type": "execute_result"
    }
   ],
   "source": [
    "AverageImpactOfAttack(watermark_predictor, AddSentences, dict(num_added_sentences=3, opposite_sentences_for_addition=test_data_marked), unmarked_eval_data, label=\"unmarked\")"
   ]
  },
  {
   "cell_type": "markdown",
   "id": "b4710691-666b-4b55-9390-1dae337cd044",
   "metadata": {
    "tags": []
   },
   "source": [
    "### Add 5 sentences"
   ]
  },
  {
   "cell_type": "code",
   "execution_count": 52,
   "id": "5b27a169-af4e-4e94-b0a0-105570f63771",
   "metadata": {
    "tags": []
   },
   "outputs": [
    {
     "data": {
      "text/plain": [
       "0.006"
      ]
     },
     "execution_count": 52,
     "metadata": {},
     "output_type": "execute_result"
    }
   ],
   "source": [
    "AverageImpactOfAttack(watermark_predictor, AddSentences, dict(num_added_sentences=5, opposite_sentences_for_addition=test_data_marked), unmarked_eval_data, label=\"unmarked\")"
   ]
  },
  {
   "cell_type": "markdown",
   "id": "50899cde-757a-4391-9441-93f84ea2916e",
   "metadata": {},
   "source": [
    "### Add 10 sentences"
   ]
  },
  {
   "cell_type": "code",
   "execution_count": 53,
   "id": "dfde43f4-d7cf-438a-8d07-5d71b9ee2982",
   "metadata": {
    "tags": []
   },
   "outputs": [
    {
     "data": {
      "text/plain": [
       "0.012"
      ]
     },
     "execution_count": 53,
     "metadata": {},
     "output_type": "execute_result"
    }
   ],
   "source": [
    "AverageImpactOfAttack(watermark_predictor, AddSentences, dict(num_added_sentences=10, opposite_sentences_for_addition=test_data_marked), unmarked_eval_data, label=\"unmarked\")"
   ]
  },
  {
   "cell_type": "markdown",
   "id": "0852765b-5f70-4657-920e-51916bb5eb34",
   "metadata": {},
   "source": [
    "### Add 15 sentences"
   ]
  },
  {
   "cell_type": "code",
   "execution_count": 54,
   "id": "4d566d7b-0cd9-440e-a22f-b480e606f6b5",
   "metadata": {
    "tags": []
   },
   "outputs": [
    {
     "data": {
      "text/plain": [
       "0.101"
      ]
     },
     "execution_count": 54,
     "metadata": {},
     "output_type": "execute_result"
    }
   ],
   "source": [
    "AverageImpactOfAttack(watermark_predictor, AddSentences, dict(num_added_sentences=15, opposite_sentences_for_addition=test_data_marked), unmarked_eval_data, label=\"unmarked\")"
   ]
  },
  {
   "cell_type": "markdown",
   "id": "6edee698-6f52-4743-b51a-00795eb66b2c",
   "metadata": {},
   "source": [
    "### Add 17 sentences"
   ]
  },
  {
   "cell_type": "code",
   "execution_count": 55,
   "id": "2fb51f03-74d6-46c1-a108-ed400dff7279",
   "metadata": {
    "tags": []
   },
   "outputs": [
    {
     "data": {
      "text/plain": [
       "0.143"
      ]
     },
     "execution_count": 55,
     "metadata": {},
     "output_type": "execute_result"
    }
   ],
   "source": [
    "AverageImpactOfAttack(watermark_predictor, AddSentences, dict(num_added_sentences=17, opposite_sentences_for_addition=test_data_marked), unmarked_eval_data, label=\"unmarked\")"
   ]
  },
  {
   "cell_type": "markdown",
   "id": "12738958-b269-4140-9371-a48a52d2c820",
   "metadata": {
    "tags": []
   },
   "source": [
    "### Add 19 sentences"
   ]
  },
  {
   "cell_type": "code",
   "execution_count": 56,
   "id": "bc5e4293-c5e7-49cb-885b-b169d2a1c28f",
   "metadata": {
    "tags": []
   },
   "outputs": [
    {
     "data": {
      "text/plain": [
       "0.225"
      ]
     },
     "execution_count": 56,
     "metadata": {},
     "output_type": "execute_result"
    }
   ],
   "source": [
    "AverageImpactOfAttack(watermark_predictor, AddSentences, dict(num_added_sentences=19, opposite_sentences_for_addition=test_data_marked), unmarked_eval_data, label=\"unmarked\")"
   ]
  },
  {
   "cell_type": "markdown",
   "id": "ae8f69ca-5843-4f65-a635-326e7da67e80",
   "metadata": {
    "jp-MarkdownHeadingCollapsed": true,
    "tags": []
   },
   "source": [
    "# Watermarked - sentence replacement attack"
   ]
  },
  {
   "cell_type": "markdown",
   "id": "4d98ef95-fbf6-4953-ab8e-f89faf2d8856",
   "metadata": {
    "tags": []
   },
   "source": [
    "### Replace 1 sentence "
   ]
  },
  {
   "cell_type": "code",
   "execution_count": 57,
   "id": "c15780cc-3368-4e06-ae5b-0b6f8878a36e",
   "metadata": {
    "tags": []
   },
   "outputs": [
    {
     "data": {
      "text/plain": [
       "0.008"
      ]
     },
     "execution_count": 57,
     "metadata": {},
     "output_type": "execute_result"
    }
   ],
   "source": [
    "AverageImpactOfAttack(watermark_predictor, ReplaceSentences, dict(num_replaced_sentences=1, opposite_sentences_for_replacement=test_data_unmarked), marked_eval_data, label=\"watermarked\")"
   ]
  },
  {
   "cell_type": "markdown",
   "id": "318b829c-5db3-4cbb-a969-d0352cd4591d",
   "metadata": {
    "tags": []
   },
   "source": [
    "### Replace 3 sentences"
   ]
  },
  {
   "cell_type": "code",
   "execution_count": 58,
   "id": "b503690a-924c-4337-9739-e1c3e2424863",
   "metadata": {
    "tags": []
   },
   "outputs": [
    {
     "data": {
      "text/plain": [
       "0.063"
      ]
     },
     "execution_count": 58,
     "metadata": {},
     "output_type": "execute_result"
    }
   ],
   "source": [
    "AverageImpactOfAttack(watermark_predictor, ReplaceSentences, dict(num_replaced_sentences=3, opposite_sentences_for_replacement=test_data_unmarked), marked_eval_data, label=\"watermarked\")"
   ]
  },
  {
   "cell_type": "markdown",
   "id": "12bfd404-4040-4091-acef-a2435544a4eb",
   "metadata": {
    "tags": []
   },
   "source": [
    "### Replace 5 sentences"
   ]
  },
  {
   "cell_type": "code",
   "execution_count": 59,
   "id": "11332526-5c23-4515-89e3-b6cd06266865",
   "metadata": {
    "tags": []
   },
   "outputs": [
    {
     "data": {
      "text/plain": [
       "0.15"
      ]
     },
     "execution_count": 59,
     "metadata": {},
     "output_type": "execute_result"
    }
   ],
   "source": [
    "AverageImpactOfAttack(watermark_predictor, ReplaceSentences, dict(num_replaced_sentences=5, opposite_sentences_for_replacement=test_data_unmarked), marked_eval_data, label=\"watermarked\")"
   ]
  },
  {
   "cell_type": "markdown",
   "id": "346af369-388c-4e9d-8f6d-a746d6463c4f",
   "metadata": {},
   "source": [
    "### Replace 7 sentences"
   ]
  },
  {
   "cell_type": "code",
   "execution_count": 60,
   "id": "a296be65-914f-4017-82f0-6a6fb5ef7aa7",
   "metadata": {
    "tags": []
   },
   "outputs": [
    {
     "data": {
      "text/plain": [
       "0.286"
      ]
     },
     "execution_count": 60,
     "metadata": {},
     "output_type": "execute_result"
    }
   ],
   "source": [
    "AverageImpactOfAttack(watermark_predictor, ReplaceSentences, dict(num_replaced_sentences=7, opposite_sentences_for_replacement=test_data_unmarked), marked_eval_data, label=\"watermarked\")"
   ]
  },
  {
   "cell_type": "markdown",
   "id": "5f05a3aa-33b0-4549-bf45-2db278fc5136",
   "metadata": {
    "jp-MarkdownHeadingCollapsed": true,
    "tags": []
   },
   "source": [
    "# Unmarked - sentence replacement attack"
   ]
  },
  {
   "cell_type": "markdown",
   "id": "af817506-4e3b-4df0-8638-78d11b5faa26",
   "metadata": {
    "tags": []
   },
   "source": [
    "### Replace 1 sentence "
   ]
  },
  {
   "cell_type": "code",
   "execution_count": 61,
   "id": "24580063-2f5f-4bc2-b3e8-0b893d3d6275",
   "metadata": {
    "tags": []
   },
   "outputs": [
    {
     "data": {
      "text/plain": [
       "0.0"
      ]
     },
     "execution_count": 61,
     "metadata": {},
     "output_type": "execute_result"
    }
   ],
   "source": [
    "AverageImpactOfAttack(watermark_predictor, ReplaceSentences, dict(num_replaced_sentences=1, opposite_sentences_for_replacement=test_data_marked), unmarked_eval_data, label=\"unmarked\")"
   ]
  },
  {
   "cell_type": "markdown",
   "id": "2678913a-5430-4011-a651-622cb4dd1774",
   "metadata": {
    "tags": []
   },
   "source": [
    "### Replace 3 sentences"
   ]
  },
  {
   "cell_type": "code",
   "execution_count": 62,
   "id": "7cdbc84e-8aaf-4789-bf57-15ff5345987c",
   "metadata": {
    "tags": []
   },
   "outputs": [
    {
     "data": {
      "text/plain": [
       "0.004"
      ]
     },
     "execution_count": 62,
     "metadata": {},
     "output_type": "execute_result"
    }
   ],
   "source": [
    "AverageImpactOfAttack(watermark_predictor, ReplaceSentences, dict(num_replaced_sentences=3, opposite_sentences_for_replacement=test_data_marked), unmarked_eval_data, label=\"unmarked\")"
   ]
  },
  {
   "cell_type": "markdown",
   "id": "2a4b92ad-70bd-48b8-822b-1281948ecd7d",
   "metadata": {
    "tags": []
   },
   "source": [
    "### Replace 5 sentences"
   ]
  },
  {
   "cell_type": "code",
   "execution_count": 63,
   "id": "1ec78132-c0cc-47e5-a600-64e186f12864",
   "metadata": {
    "tags": []
   },
   "outputs": [
    {
     "data": {
      "text/plain": [
       "0.008"
      ]
     },
     "execution_count": 63,
     "metadata": {},
     "output_type": "execute_result"
    }
   ],
   "source": [
    "AverageImpactOfAttack(watermark_predictor, ReplaceSentences, dict(num_replaced_sentences=5, opposite_sentences_for_replacement=test_data_marked), unmarked_eval_data, label=\"unmarked\")"
   ]
  },
  {
   "cell_type": "markdown",
   "id": "821421ce-d60e-4eaa-b3e9-2e9a9c56cf4a",
   "metadata": {},
   "source": [
    "### Replace 7 sentences"
   ]
  },
  {
   "cell_type": "code",
   "execution_count": 64,
   "id": "7e4d623b-6cf2-474e-90f7-9271d4ac729c",
   "metadata": {
    "tags": []
   },
   "outputs": [
    {
     "data": {
      "text/plain": [
       "0.026"
      ]
     },
     "execution_count": 64,
     "metadata": {},
     "output_type": "execute_result"
    }
   ],
   "source": [
    "AverageImpactOfAttack(watermark_predictor, ReplaceSentences, dict(num_replaced_sentences=7, opposite_sentences_for_replacement=test_data_marked), unmarked_eval_data, label=\"unmarked\")"
   ]
  },
  {
   "cell_type": "markdown",
   "id": "cdea723e-7753-4274-9795-e08919ca5839",
   "metadata": {
    "tags": []
   },
   "source": [
    "# Watermarked - token removal attack"
   ]
  },
  {
   "cell_type": "code",
   "execution_count": 65,
   "id": "9463bf50-7005-4a12-a30d-5df1b61a5b4c",
   "metadata": {
    "tags": []
   },
   "outputs": [],
   "source": [
    "sentence_marked_eval_data = GetSentenceCollections(test_data_marked, num_collections, 1)"
   ]
  },
  {
   "cell_type": "code",
   "execution_count": 66,
   "id": "8e78c445-c29e-4923-8d3b-4ca67d7521e2",
   "metadata": {
    "tags": []
   },
   "outputs": [
    {
     "data": {
      "text/plain": [
       "[['oh god, your onely iigge - maker: what should a dude do, but be merrie.'],\n",
       " ['15: 25 but now i go unto jerusalem to ministers unto the saints.'],\n",
       " ['but involvement needs to be accompanied by a special frames of mind.'],\n",
       " [\"a name that i am so very well acquainted with; knew the gentleman so well by sight; seen him a hundred times; came to consult me once, i remember, about a trespass of one of his neighbours; farmers' s man breaking into his orchard; wall torn down; apples stolen; caught in the fact; and afterwards, contrary to my judgement, submitted to an amicable compromise.\"],\n",
       " ['the princely hierarch in their bright stand there left his powers, to seise possesion of the garden; he alone, to find where adam sheltered, took his way, not unperceived of adam; who to eve, while the great visitant approached, thus spake.'],\n",
       " ['for the school year, 1959-1960, the prince edward county (virginia) board of supervisors voted not to provide funds for public education, and the school board therefore could provide no public education--for white or negro kids.'],\n",
       " ['11: 12 he that is void of wisdom despiseth his neighbor: but a man of understanding holdeth his peace.'],\n",
       " ['if elizabeth and her father did not deceive themselves, had been taking much pain to seek the acquaintance, and proclaim the value of the connection, as he had formerly taken pains to shew neglect.'],\n",
       " ['the silver and ebony plaques will be presented at noon luncheons by stanley marcus, president of neiman-marcus, beneficiary of the proceeds from the two showings will be the dallas society for crippled children cerebral palsy treatment centre.'],\n",
       " ['this is the story of his last tragic voyage, as almost as we are able--or ever, probably, will be able--to determine:']]"
      ]
     },
     "execution_count": 66,
     "metadata": {},
     "output_type": "execute_result"
    }
   ],
   "source": [
    "sentence_marked_eval_data[0:10]"
   ]
  },
  {
   "cell_type": "markdown",
   "id": "a5e801f9-874e-46ef-bca1-06135bf1b8d2",
   "metadata": {
    "tags": []
   },
   "source": [
    "### Remove 1 token"
   ]
  },
  {
   "cell_type": "code",
   "execution_count": 67,
   "id": "bb45924e-c907-4692-a440-2762eefe87fe",
   "metadata": {
    "tags": []
   },
   "outputs": [
    {
     "data": {
      "text/plain": [
       "0.239"
      ]
     },
     "execution_count": 67,
     "metadata": {},
     "output_type": "execute_result"
    }
   ],
   "source": [
    "AverageImpactOfAttack(watermark_predictor, RemoveTokens, dict(num_removed_tokens=1, tokenizer=TreebankWordTokenizer(), detokenizer=TreebankWordDetokenizer()), marked_eval_data, label=\"watermarked\")"
   ]
  },
  {
   "cell_type": "markdown",
   "id": "79427366-1b86-4849-b5be-4dbb79a6c9df",
   "metadata": {
    "tags": []
   },
   "source": [
    "### Remove 2 tokens"
   ]
  },
  {
   "cell_type": "code",
   "execution_count": 68,
   "id": "fda22b4c-7d2c-45e1-b6b3-fc22ca344db1",
   "metadata": {
    "tags": []
   },
   "outputs": [
    {
     "data": {
      "text/plain": [
       "0.233"
      ]
     },
     "execution_count": 68,
     "metadata": {},
     "output_type": "execute_result"
    }
   ],
   "source": [
    "AverageImpactOfAttack(watermark_predictor, RemoveTokens, dict(num_removed_tokens=2, tokenizer=TreebankWordTokenizer(), detokenizer=TreebankWordDetokenizer()), marked_eval_data, label=\"watermarked\")"
   ]
  },
  {
   "cell_type": "markdown",
   "id": "6be7d33e-2c39-44e2-a216-1eedb779758d",
   "metadata": {
    "tags": []
   },
   "source": [
    "### Remove 3 tokens"
   ]
  },
  {
   "cell_type": "code",
   "execution_count": 69,
   "id": "6ee063af-9ec1-4d4e-9cba-3427a94999a1",
   "metadata": {
    "tags": []
   },
   "outputs": [
    {
     "data": {
      "text/plain": [
       "0.229"
      ]
     },
     "execution_count": 69,
     "metadata": {},
     "output_type": "execute_result"
    }
   ],
   "source": [
    "AverageImpactOfAttack(watermark_predictor, RemoveTokens, dict(num_removed_tokens=3, tokenizer=TreebankWordTokenizer(), detokenizer=TreebankWordDetokenizer()), marked_eval_data, label=\"watermarked\")"
   ]
  },
  {
   "cell_type": "markdown",
   "id": "4283d925-3071-447b-b28f-4fa34f776464",
   "metadata": {
    "tags": []
   },
   "source": [
    "# Unmarked - token removal attack"
   ]
  },
  {
   "cell_type": "code",
   "execution_count": 70,
   "id": "f794c379-60d7-49a1-b7e5-43c56567567f",
   "metadata": {
    "tags": []
   },
   "outputs": [],
   "source": [
    "sentence_unmarked_eval_data = GetSentenceCollections(test_data_unmarked, num_collections, 1)"
   ]
  },
  {
   "cell_type": "code",
   "execution_count": 71,
   "id": "a5bf5269-0553-4d1f-80e7-c7650ac7a624",
   "metadata": {
    "tags": []
   },
   "outputs": [
    {
     "data": {
      "text/plain": [
       "[['be not ashamed women, your privilege encloses the rest, and is the exit of the rest, you are the gates of the body, and you are the gates of the soul.'],\n",
       " ['variations in sound velocity should be measured rather than temperature, because more of the variables would be encompassed.'],\n",
       " ['asked dr . bull in exasperation.'],\n",
       " [\"well, don't worry.\"],\n",
       " ['cray introduced him civilly enough, as dr oman, but he showed such disfavour in his very face that brown guessed the two men, whether audrey knew it or not, were rivals.'],\n",
       " ['that was one of the things she liked about stanley.'],\n",
       " ['9: 25 and he said, cursed be canaan; a servant of servants shall he be unto his brethren.'],\n",
       " ['too late, he realized that in turning, he had wheeled them onto a patch of sandy ground, instead of atop a grade or ridge.'],\n",
       " ['perhaps existing public health service, state department and armed services medical facilities can be utilized.'],\n",
       " [\"almost all of the 3,000 lumber dealers who cater primarily to the new-house market and supply 90% of this year's new houses are mechanized.\"]]"
      ]
     },
     "execution_count": 71,
     "metadata": {},
     "output_type": "execute_result"
    }
   ],
   "source": [
    "sentence_unmarked_eval_data[0:10]"
   ]
  },
  {
   "cell_type": "markdown",
   "id": "ccc108b4-c251-4e87-b635-9091ce241899",
   "metadata": {
    "tags": []
   },
   "source": [
    "### Remove 1 token"
   ]
  },
  {
   "cell_type": "code",
   "execution_count": 72,
   "id": "1cdae17e-e851-4a25-ad7d-0ce98cb9e469",
   "metadata": {
    "tags": []
   },
   "outputs": [
    {
     "data": {
      "text/plain": [
       "0.266"
      ]
     },
     "execution_count": 72,
     "metadata": {},
     "output_type": "execute_result"
    }
   ],
   "source": [
    "AverageImpactOfAttack(watermark_predictor, RemoveTokens, dict(num_removed_tokens=1, tokenizer=TreebankWordTokenizer(), detokenizer=TreebankWordDetokenizer()), unmarked_eval_data, label=\"unmarked\")"
   ]
  },
  {
   "cell_type": "markdown",
   "id": "27060dca-8b13-41a2-99d1-0739dc759fc7",
   "metadata": {
    "tags": []
   },
   "source": [
    "### Remove 2 tokens"
   ]
  },
  {
   "cell_type": "code",
   "execution_count": 73,
   "id": "c533aa1e-f0d3-435e-861e-52114badd613",
   "metadata": {
    "tags": []
   },
   "outputs": [
    {
     "data": {
      "text/plain": [
       "0.413"
      ]
     },
     "execution_count": 73,
     "metadata": {},
     "output_type": "execute_result"
    }
   ],
   "source": [
    "AverageImpactOfAttack(watermark_predictor, RemoveTokens, dict(num_removed_tokens=2, tokenizer=TreebankWordTokenizer(), detokenizer=TreebankWordDetokenizer()), unmarked_eval_data, label=\"unmarked\")"
   ]
  },
  {
   "cell_type": "markdown",
   "id": "fb57742f-7a28-4570-b9b5-3c7077c6b3ef",
   "metadata": {
    "tags": []
   },
   "source": [
    "### Remove 3 tokens"
   ]
  },
  {
   "cell_type": "code",
   "execution_count": 74,
   "id": "86ce1346-8bd9-4dc3-b064-73701efee179",
   "metadata": {
    "tags": []
   },
   "outputs": [
    {
     "data": {
      "text/plain": [
       "0.449"
      ]
     },
     "execution_count": 74,
     "metadata": {},
     "output_type": "execute_result"
    }
   ],
   "source": [
    "AverageImpactOfAttack(watermark_predictor, RemoveTokens, dict(num_removed_tokens=3, tokenizer=TreebankWordTokenizer(), detokenizer=TreebankWordDetokenizer()), unmarked_eval_data, label=\"unmarked\")"
   ]
  }
 ],
 "metadata": {
  "kernelspec": {
   "display_name": "Python 3 (ipykernel)",
   "language": "python",
   "name": "python3"
  },
  "language_info": {
   "codemirror_mode": {
    "name": "ipython",
    "version": 3
   },
   "file_extension": ".py",
   "mimetype": "text/x-python",
   "name": "python",
   "nbconvert_exporter": "python",
   "pygments_lexer": "ipython3",
   "version": "3.9.0"
  }
 },
 "nbformat": 4,
 "nbformat_minor": 5
}
