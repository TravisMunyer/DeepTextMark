{
 "cells": [
  {
   "cell_type": "code",
   "execution_count": 27,
   "id": "7a5a9584-e780-48af-a07b-809bb5d3699c",
   "metadata": {
    "tags": []
   },
   "outputs": [],
   "source": [
    "import pandas as pd\n",
    "import tensorflow as tf\n",
    "import tensorflow_hub as hub\n",
    "import tensorflow_text as text\n",
    "import matplotlib.pyplot as plt\n",
    "import numpy as np\n",
    "import random\n",
    "from nltk.tokenize.treebank import TreebankWordDetokenizer, TreebankWordTokenizer\n",
    "from nltk.corpus import words\n",
    "from tensorflow.keras import layers\n",
    "from sklearn.model_selection import train_test_split"
   ]
  },
  {
   "cell_type": "code",
   "execution_count": 28,
   "id": "cc02d066-27e1-412f-8e28-273ca43ed781",
   "metadata": {
    "tags": []
   },
   "outputs": [],
   "source": [
    "gpus = tf.config.list_physical_devices('GPU')\n",
    "tf.config.set_visible_devices(gpus[0], 'GPU')"
   ]
  },
  {
   "cell_type": "code",
   "execution_count": 29,
   "id": "352b646b-5788-4036-ab54-4c4beb7c83bd",
   "metadata": {
    "tags": []
   },
   "outputs": [],
   "source": [
    "tf.random.set_seed(12345)\n",
    "np.random.seed(5678)\n",
    "random.seed(123)"
   ]
  },
  {
   "cell_type": "markdown",
   "id": "49bbdae6-a4df-40a3-9354-24564fa2b54e",
   "metadata": {},
   "source": [
    "# Get Data"
   ]
  },
  {
   "cell_type": "code",
   "execution_count": 30,
   "id": "9d9c93ac-2667-461a-bb4e-6fa4b95ee639",
   "metadata": {
    "tags": []
   },
   "outputs": [],
   "source": [
    "split_test_data = pd.read_csv('../Data/SplitWord2VecDataV2.csv')"
   ]
  },
  {
   "cell_type": "code",
   "execution_count": 31,
   "id": "2e18917f-e731-4b42-9a80-cc0332ef54c9",
   "metadata": {
    "tags": []
   },
   "outputs": [],
   "source": [
    "x_train, x_test, y_train, y_test = train_test_split(split_test_data['text'], split_test_data['marked'], stratify=split_test_data['marked'], random_state=12345)"
   ]
  },
  {
   "cell_type": "code",
   "execution_count": 32,
   "id": "0de611be-9b92-47ed-9d54-0807e768589d",
   "metadata": {},
   "outputs": [
    {
     "data": {
      "text/plain": [
       "24562     51: 29 and the land shall tremble and sorrow: ...\n",
       "120983                               she did not hands him.\n",
       "5000      could a linguist, could a grammarian, could ev...\n",
       "124015                                 solid, settled lost.\n",
       "124413    bobby joe was trying to get linda kay to say s...\n",
       "                                ...                        \n",
       "47756       \" it is a new planet and it shall bear my name.\n",
       "99588     mandatory retirement at sixty-five looms on ou...\n",
       "78109        fellow, come from the throng, look vpon caesar\n",
       "111535    the uniform fiscal year brings the town's fisc...\n",
       "96866                             check put of lid on jar;;\n",
       "Name: text, Length: 103978, dtype: object"
      ]
     },
     "execution_count": 32,
     "metadata": {},
     "output_type": "execute_result"
    }
   ],
   "source": [
    "x_train"
   ]
  },
  {
   "cell_type": "code",
   "execution_count": 33,
   "id": "de8a2585-85dc-4101-8e3c-42aab75fbe64",
   "metadata": {
    "tags": []
   },
   "outputs": [
    {
     "data": {
      "text/plain": [
       "24562     0\n",
       "120983    1\n",
       "5000      0\n",
       "124015    0\n",
       "124413    1\n",
       "         ..\n",
       "47756     0\n",
       "99588     1\n",
       "78109     0\n",
       "111535    0\n",
       "96866     1\n",
       "Name: marked, Length: 103978, dtype: int64"
      ]
     },
     "execution_count": 33,
     "metadata": {},
     "output_type": "execute_result"
    }
   ],
   "source": [
    "y_train"
   ]
  },
  {
   "cell_type": "code",
   "execution_count": 34,
   "id": "d36451e9-34cc-4671-ba44-816d991f9234",
   "metadata": {
    "tags": []
   },
   "outputs": [
    {
     "data": {
      "text/plain": [
       "129828                     gradually they emerged as women.\n",
       "40550     17: 20 and when absalom' s servant came to the...\n",
       "75649     and now that at the proper time and place, aft...\n",
       "130984                     \"you're not to mentions my name.\n",
       "70670     here you are, pip; and there' s the windlass -...\n",
       "                                ...                        \n",
       "78390     harke, harke, one knockes: portia go in a whil...\n",
       "29946     13: 18 and pray ye that your flight be not in ...\n",
       "68086                  it was a saturday night in december.\n",
       "107447    \"he looks as masculine as you can imagine\", sh...\n",
       "34322     2: 4 but god, who is wealthy in mercy, for his...\n",
       "Name: text, Length: 34660, dtype: object"
      ]
     },
     "execution_count": 34,
     "metadata": {},
     "output_type": "execute_result"
    }
   ],
   "source": [
    "x_test"
   ]
  },
  {
   "cell_type": "code",
   "execution_count": 35,
   "id": "7645a413-6013-4bfe-baa5-897c502a9ab8",
   "metadata": {
    "tags": []
   },
   "outputs": [
    {
     "data": {
      "text/plain": [
       "129828    1\n",
       "40550     1\n",
       "75649     0\n",
       "130984    1\n",
       "70670     1\n",
       "         ..\n",
       "78390     1\n",
       "29946     0\n",
       "68086     0\n",
       "107447    1\n",
       "34322     1\n",
       "Name: marked, Length: 34660, dtype: int64"
      ]
     },
     "execution_count": 35,
     "metadata": {},
     "output_type": "execute_result"
    }
   ],
   "source": [
    "y_test"
   ]
  },
  {
   "cell_type": "code",
   "execution_count": 36,
   "id": "db268199-ac79-4633-b819-31c72d7c93b6",
   "metadata": {
    "tags": []
   },
   "outputs": [],
   "source": [
    "test_data_dict = {'text':x_test, 'marked':y_test}\n",
    "test_data = pd.DataFrame.from_dict(test_data_dict)"
   ]
  },
  {
   "cell_type": "code",
   "execution_count": 37,
   "id": "7cadb947-be9d-480c-928d-87a46a49d957",
   "metadata": {
    "tags": []
   },
   "outputs": [],
   "source": [
    "test_data_marked = test_data.loc[test_data['marked'] == 1]['text'].to_list()"
   ]
  },
  {
   "cell_type": "code",
   "execution_count": 38,
   "id": "9d653949-3ad0-4f2a-b150-e2c222acfe85",
   "metadata": {
    "scrolled": true,
    "tags": []
   },
   "outputs": [
    {
     "data": {
      "text/plain": [
       "['gradually they emerged as women.',\n",
       " \"17: 20 and when absalom' s servant came to the woman to the house, they said, where is ahimaaz and jonathan?\",\n",
       " '\"you\\'re not to mentions my name.',\n",
       " \"here you are, pip; and there' s the windlass - bitts; up you mt.!\",\n",
       " '\" my dear emma,\" said he at last, with earnest kindness, \" do you think you perfectly understand the degrees of acquaintance between the gentleman and lady we have been speaking of?\"',\n",
       " 'elementary school desegregation came to owen and union county, which already had high school desegregation.',\n",
       " 'mrs. ralph taussig, for junior aide;;',\n",
       " 'throughout the period and during the movement operation, the museum continued its functional supporting of the armed forces institute of pathology.',\n",
       " 'two mins afterwards he had overtaken turnbull and told the tale; ten minutes afterwards he and turnbull had somehow tumbled into the yacht called the _gibson girl_ and had somehow pushed off from the isle of st . loup.',\n",
       " 'here, after twenty lone years of useless toil, he had his rewards.']"
      ]
     },
     "execution_count": 38,
     "metadata": {},
     "output_type": "execute_result"
    }
   ],
   "source": [
    "test_data_marked[0:10]"
   ]
  },
  {
   "cell_type": "code",
   "execution_count": 39,
   "id": "5c168c5c-c0d7-40e8-9415-9394311a8b27",
   "metadata": {
    "tags": []
   },
   "outputs": [],
   "source": [
    "test_data_unmarked = test_data.loc[test_data['marked'] == 0]['text'].to_list()"
   ]
  },
  {
   "cell_type": "code",
   "execution_count": 40,
   "id": "6f4b5537-5772-48af-9615-d391d6501bdd",
   "metadata": {
    "scrolled": true,
    "tags": []
   },
   "outputs": [
    {
     "data": {
      "text/plain": [
       "[\"and now that at the proper time and place, after so long and wide a preliminary cruise, ahab,-- all other whaling waters swept--seemed to have chased his foe into an ocean - fold, to slay him the more securely there; now, that he found himself hard by the very latitude and longitude where his tormenting wound had been inflicted; now that a vessel had been spoken which on the very day preceding had actually encountered moby dick;-- and now that all his successive meetings with various ships contrastingly concurred to show the demoniac indifference with which the white whale tore his hunters, whether sinning or sinned against; now it was that there lurked a something in the old man' s eyes, which it was hardly sufferable for feeble souls to see.\",\n",
       " 'here the problem is essentially one of defining the word \"filling\".',\n",
       " 'this is going to be a language lesson, and you can master it in a few minutes.',\n",
       " 'the fourth, however, had already advanced on the chauffeur of the black - and - yellow car, and was threatening him with a stick.',\n",
       " 'in one moment such a change!',\n",
       " '34: 5 for my sword shall be bathed in heaven: behold, it shall come down upon idumea, and upon the people of my curse, to judgment.',\n",
       " 'i will seek it yet again.',\n",
       " '2: 44 the king said moreover to shimei, thou knowest all the wickedness which thine heart is privy to, that thou didst to david my father: therefore the lord shall return thy wickedness upon thine own head; 2: 45 and king solomon shall be blessed, and the throne of david shall be established before the lord for ever.',\n",
       " 'in the more primitive areas, where the capacity to absorb and utilize external assistance is limited, some activities may be of such obvious priority that we may decide to support them before a well worked out program is available.',\n",
       " 'the coles expressed themselves so properly--there was so much real attention in the manner of it--so much consideration for her father.']"
      ]
     },
     "execution_count": 40,
     "metadata": {},
     "output_type": "execute_result"
    }
   ],
   "source": [
    "test_data_unmarked[0:10]"
   ]
  },
  {
   "cell_type": "markdown",
   "id": "13001acc-3364-4b1c-92e5-382f336433d2",
   "metadata": {},
   "source": [
    "# Load Model"
   ]
  },
  {
   "cell_type": "code",
   "execution_count": 41,
   "id": "cd5cc38a-fb31-45f1-b2d7-d086d087e5db",
   "metadata": {
    "tags": []
   },
   "outputs": [],
   "source": [
    "watermark_predictor = tf.keras.models.load_model('../SavedModels/v1')"
   ]
  },
  {
   "cell_type": "markdown",
   "id": "c0d0021b-a844-4cfd-b57e-6b3f7c918968",
   "metadata": {},
   "source": [
    "# Predict on Sentence Collection"
   ]
  },
  {
   "cell_type": "code",
   "execution_count": 42,
   "id": "902afbdc-c365-4523-b927-c6ebd1027cc7",
   "metadata": {
    "tags": []
   },
   "outputs": [],
   "source": [
    "# TODO: Change this to DeepTextMarkDetector class.\n",
    "def PredictSentenceCollection(model, text):\n",
    "    # Threshold and prepare the predictions.\n",
    "    predictions = model.predict(text)\n",
    "    predictions[predictions >= .5] = 1\n",
    "    predictions[predictions < .5] = 0\n",
    "    predictions = list(map(int, predictions))\n",
    "    \n",
    "    # Get the count of predictions that are watermarked (equal to 1).\n",
    "    watermarked_count = predictions.count(1)\n",
    "    \n",
    "    # If more than half of the predictions are watermarked, return watermarked.\n",
    "    if(watermarked_count > len(predictions)/2):\n",
    "        return \"watermarked\"\n",
    "    else:\n",
    "        return \"unmarked\""
   ]
  },
  {
   "cell_type": "markdown",
   "id": "39125e55-f1f2-4769-8648-99a53497cdf1",
   "metadata": {},
   "source": [
    "# Create Sentence Collections"
   ]
  },
  {
   "cell_type": "code",
   "execution_count": 43,
   "id": "87db8f81-cf90-45d4-89b9-9bf20fa5657f",
   "metadata": {
    "tags": []
   },
   "outputs": [],
   "source": [
    "def GetSentenceCollections(text, num_collections=10, collection_size=20):\n",
    "    text_collections = []\n",
    "    \n",
    "    for i in range(0, num_collections):\n",
    "        sentence_collection = random.sample(text, collection_size)\n",
    "        text_collections.append(sentence_collection)\n",
    "        \n",
    "    return text_collections"
   ]
  },
  {
   "cell_type": "markdown",
   "id": "4d59f26d-0df1-4cba-a3b6-7e6a8b3dfc2b",
   "metadata": {
    "tags": []
   },
   "source": [
    "# Impact of Attack\n",
    "Robustness metric. Impact of Attack. Accuracy before attack - accuracy after attack on same data.  \n",
    "\n",
    "Impact of attack -> accuracy(predict(sentence_collection)) - accuracy(predict(attack(sentence_collection)))\n",
    "\n",
    "Average Impact of Attack -> average([impactOfAttack(sentence_collection) for sentence_collection in sentence_collections])\n",
    "\n",
    "* Positive number indicates the attack hurt prediction performace.  \n",
    "* Negative number indicates the attack improved prediction performance, which should be rare.  \n",
    "* 0 value indicates attack caused no change in prediction performance.  "
   ]
  },
  {
   "cell_type": "code",
   "execution_count": 44,
   "id": "8db191be-f423-4749-9d59-956aa245f5f9",
   "metadata": {
    "tags": []
   },
   "outputs": [],
   "source": [
    "# Note, the sentence collection should be a list of sentences. Label should be either \"watermarked\" or \"unmarked\".\n",
    "def IsPredictionCorrect(model, sentence_collection, label):\n",
    "    if not (len(sentence_collection) > 0):\n",
    "        print('Length of the sentence collection should be greater than 0')\n",
    "    \n",
    "    watermarked_label = 'watermarked'\n",
    "    unmarked_label = 'unmarked'\n",
    "    \n",
    "    # If the label matches the predicted label, return 1. Otherwise return 0.\n",
    "    if (label == watermarked_label):\n",
    "        return int(PredictSentenceCollection(model, sentence_collection) == watermarked_label)\n",
    "    elif (label == unmarked_label):\n",
    "        return int(PredictSentenceCollection(model, sentence_collection) == unmarked_label)\n",
    "    else:\n",
    "        print(\"Label must be either watermarked or unmarked\") "
   ]
  },
  {
   "cell_type": "code",
   "execution_count": 45,
   "id": "6a001c63-7f8d-4c2f-8777-3aad8de04b47",
   "metadata": {
    "tags": []
   },
   "outputs": [],
   "source": [
    "def ImpactOfAttack(model, attack_function, attack_args, sentence_collection, label):\n",
    "    preattack_correctness = IsPredictionCorrect(model, sentence_collection, label)\n",
    "    postattack_correctness = IsPredictionCorrect(model, attack_function(sentence_collection, **attack_args), label)\n",
    "    \n",
    "    return preattack_correctness - postattack_correctness"
   ]
  },
  {
   "cell_type": "code",
   "execution_count": 46,
   "id": "a2a3de70-e051-4149-9433-8c6bc51dfe50",
   "metadata": {
    "tags": []
   },
   "outputs": [],
   "source": [
    "def AverageImpactOfAttack(model, attack_function, attack_args, sentence_collections, label):\n",
    "    result_list = []\n",
    "    \n",
    "    for sentence_collection in sentence_collections:\n",
    "        result_list.append(ImpactOfAttack(model, attack_function, attack_args, sentence_collection, label))\n",
    "    \n",
    "    return sum(result_list) / len(result_list)"
   ]
  },
  {
   "cell_type": "markdown",
   "id": "93f994de-dc43-4f3b-87e0-f98c667e3d4c",
   "metadata": {
    "tags": []
   },
   "source": [
    "# Define Sentence Attacks\n",
    "\n",
    "Attack function should have a sentence collection as the first parameter, and then can have arbitrary parameters for the rest."
   ]
  },
  {
   "cell_type": "code",
   "execution_count": 47,
   "id": "37d12040-037f-4b2a-9dd5-c5e73dd090c3",
   "metadata": {
    "tags": []
   },
   "outputs": [],
   "source": [
    "def RemoveSentences(sentence_collection, num_removed_sentences):\n",
    "    copied_sentence_collection = sentence_collection.copy()\n",
    "    \n",
    "    for i in range(num_removed_sentences):\n",
    "        copied_sentence_collection.remove(random.choice(copied_sentence_collection))\n",
    "        \n",
    "    return copied_sentence_collection"
   ]
  },
  {
   "cell_type": "code",
   "execution_count": 48,
   "id": "f8eb92b5-465d-4e95-8b7e-ce9d41d502a0",
   "metadata": {
    "tags": []
   },
   "outputs": [],
   "source": [
    "# This attack should add oppositely marked sentences to the sentence collection. E.g., add unmarked sentences to a marked sentence collection.\n",
    "# So, the opposite_sentences_for_addition parameter should be sentences with the opposite label.\n",
    "def AddSentences(sentence_collection, num_added_sentences, opposite_sentences_for_addition):\n",
    "    copied_sentence_collection = sentence_collection.copy()\n",
    "    \n",
    "    for i in range(num_added_sentences):\n",
    "        copied_sentence_collection.append(random.choice(opposite_sentences_for_addition))\n",
    "        \n",
    "    return copied_sentence_collection"
   ]
  },
  {
   "cell_type": "code",
   "execution_count": 49,
   "id": "23184cb9-17d2-4e1d-810d-97c9fa573716",
   "metadata": {
    "tags": []
   },
   "outputs": [],
   "source": [
    "# Similar to the AddSentences attack, this replaces sentences with oppositely labeled sentences. \n",
    "# Therefore, opposite_sentences_for_replacement should be a collection of sentences with the opposite label.\n",
    "def ReplaceSentences(sentence_collection, num_replaced_sentences, opposite_sentences_for_replacement):\n",
    "    copied_sentence_collection = sentence_collection.copy()\n",
    "    \n",
    "    for i in range(num_replaced_sentences):\n",
    "        copied_sentence_collection.remove(random.choice(copied_sentence_collection))\n",
    "        copied_sentence_collection.append(random.choice(opposite_sentences_for_replacement))\n",
    "    \n",
    "    return copied_sentence_collection"
   ]
  },
  {
   "cell_type": "code",
   "execution_count": 50,
   "id": "b948f6fc-bc39-46cb-b6c5-95f00b1da12a",
   "metadata": {},
   "outputs": [],
   "source": [
    "# As this removes random tokens from a sentence, the input sentence collection should be a list of a single sentence.\n",
    "# Extra sentences are not considered and will result in incorrect results.\n",
    "def RemoveTokens(sentence_collection, num_removed_tokens, tokenizer, detokenizer):\n",
    "    sentence = sentence_collection[0]\n",
    "    sentence = tokenizer.tokenize(sentence)\n",
    "    \n",
    "    for i in range(num_removed_tokens):\n",
    "        sentence.remove(random.choice(sentence))\n",
    "    \n",
    "    sentence = detokenizer.detokenize(sentence)\n",
    "    \n",
    "    return [ sentence ]"
   ]
  },
  {
   "cell_type": "code",
   "execution_count": 51,
   "id": "c93daec7-a31f-47ef-9add-c52cd87922db",
   "metadata": {
    "tags": []
   },
   "outputs": [],
   "source": [
    "# As this adds random tokens to a single sentence, the input sentence collection should be a list of a single sentence.\n",
    "# Extra sentences are not considered and will result in incorrect results.\n",
    "def AddTokens(sentence_collection, num_added_tokens, tokenizer, detokenizer):\n",
    "    sentence = sentence_collection[0]\n",
    "    sentence = tokenizer.tokenize(sentence)\n",
    "    \n",
    "    for i in range(num_added_tokens):\n",
    "        random_word = random.sample(words.words(), 1)[0]\n",
    "        sentence.insert(random.randint(0, len(sentence)), random_word)\n",
    "        \n",
    "    sentence = detokenizer.detokenize(sentence)\n",
    "    \n",
    "    return [ sentence ]"
   ]
  },
  {
   "cell_type": "code",
   "execution_count": 78,
   "id": "4a5cb3c5-dc83-4cf0-938f-fafbfe5f0285",
   "metadata": {
    "tags": []
   },
   "outputs": [],
   "source": [
    "# As this replaces random tokens to a single sentence, the input sentence collection should be a list of a single sentence.\n",
    "# Extra sentences are not considered and will result in incorrect results.\n",
    "def ReplaceTokens(sentence_collection, num_replaced_tokens, tokenizer, detokenizer):\n",
    "    sentence = sentence_collection[0]\n",
    "    sentence = tokenizer.tokenize(sentence)\n",
    "    \n",
    "    for i in range(num_replaced_tokens):\n",
    "        random_word = random.sample(words.words(), 1)[0]\n",
    "        sentence[random.randint(0, len(sentence)-1)] = random_word\n",
    "    \n",
    "    sentence = detokenizer.detokenize(sentence)\n",
    "    \n",
    "    return [ sentence ]"
   ]
  },
  {
   "cell_type": "markdown",
   "id": "f10ecd85-eebf-426e-84c2-57cfc63b2015",
   "metadata": {
    "tags": []
   },
   "source": [
    "# Watermarked - sentence removal attack"
   ]
  },
  {
   "cell_type": "code",
   "execution_count": 53,
   "id": "db5bf7be-bcec-49f8-bb12-dffa1ce31281",
   "metadata": {
    "tags": []
   },
   "outputs": [],
   "source": [
    "num_collections = 1000\n",
    "num_sentences_in_collection = 20\n",
    "marked_eval_data = GetSentenceCollections(test_data_marked, num_collections, num_sentences_in_collection)"
   ]
  },
  {
   "cell_type": "code",
   "execution_count": 54,
   "id": "8d036cac-3716-46a4-be7d-9f28eb75b968",
   "metadata": {
    "scrolled": true,
    "tags": []
   },
   "outputs": [
    {
     "data": {
      "text/plain": [
       "[['excellent dance indeed!-- yes, my dear, i ran home, as i said i should, to help grandmama to bed, and got back again, and nobody missed me .-- i set off without saying a word, just as i told you.',\n",
       "  'if you are an income beneficiary of property held in trust or an heir, legatee, or devisee, you may deduct permissible depreciation and depletion, if not deductible by the estate or trust.',\n",
       "  'i am sure he has not the least ideas of it.',\n",
       "  'and yet, till now, i always took you for \" a dead - shots at a yellow - hammer.',\n",
       "  'it took them an hour before they came to the first homes of kelseyville.',\n",
       "  '\" he is always out of sarcasm.\"',\n",
       "  'now it did not occur to him even to wonder whether it was wise for robinson to diving again: rob was his boy, the kid he had rescued from the streets, the object of his pride.',\n",
       "  'and all this red rolling of impieties came from his thin, genteel lips rather primly than otherwise, as he sat sipping the wine out of his tall, thin glass.',\n",
       "  '-- and was hastening to meet him, when elinor laughed out,',\n",
       "  '63: 11 then he remembered the days of old, moses, and his ppl, saying, where is he that brought them up out of the sea with the shepherd of his flock?',\n",
       "  'mr . elton was the only one whose aid she asked.',\n",
       "  '\"perfect set-up\", i said him.',\n",
       "  'how charlotte and i did thing the only time we were there!',\n",
       "  'a cold climate may be prescribed for her.',\n",
       "  'the positivist theories would here distort our meaning beyond recognition.',\n",
       "  \"the first thing she hear was a general chorus of' there goes bill!'\",\n",
       "  \"43: 5 but johanan the son of kareah, and all the captains of the forces, took all the remnant of judah, that were returned from all nations, whither they had been driven, to dwell in the land of judah; 43: 6 even men, and women, and kids, and the king' s daughters, and every person that nebuzaradan the captain of the guard had left with gedaliah the son of ahikam the son of shaphan, and jeremiah the prophet, and baruch the son of neriah.\",\n",
       "  \"' and be quick about it,' added the hatter,' or you' l be asleep again before it' s done.'\",\n",
       "  '30: 27 and laban said unto him, i pray thee, if i have found favour in thine eyes, tarry: for i have learned by experiences that the lord hath blessed me for thy sake.',\n",
       "  '28: 3 he setteth an end to darkness, and searcheth out all perfection: the stones of darkness, and the shadows of death.'],\n",
       " ['helmut roloff, play with a group of musicians from the bayreuth ensemble, gives a sturdy reading, in much the same vein as that of the last-mentioned pianists.',\n",
       "  \"but i questioning, also, professional soldiers, who would not easily be hypnotized by a septuagenarian's dreamy irredentism.\",\n",
       "  \"she was not less thrilled another day with the manner in which he seconded a sudden wish of hers, to have harriet' s picture.\",\n",
       "  'sonnes, kinsmen, thanes, and you whose places are the nearest, know, we will establish our estate vpon our eldest, malcolme, whom we name hereafter, the prince of cumberland: which honour must not vnaccompanied, inuest him onely, but signes of noblenesse, like starres, shall shine on all deseruers.',\n",
       "  '27: 20 and if he will not redeem the field, or if he have sold the field to another dude, it shall not be redeemed any more.',\n",
       "  '\"or would it be easier if i put my hand in my pockets\"??',\n",
       "  'you see when it slipped off his head, the handle was still around his neck, and there he was running out with a pail hanging from his neck!',\n",
       "  'rachel clicked her tounge behind her teeth.',\n",
       "  '29: 8 for thus saith the lord of hosts, the god of israel; let not your prophets and your diviners, that be in the midst of you, deceive you, neither hearken to your dream which ye cause to be dreamed.',\n",
       "  'elinor started at this declaration, and was sorry for the warmth she had been betrayed into, in speak of him.',\n",
       "  'all this could not but be present to his memory; but, seeming to reproach him, franklin wiped out his crocodile tears, and preserved a magnanimous silence.',\n",
       "  'the late secretary of state john foster dulles considered the 1954 geneva agreement a specimen of appeasement, saw that resolution would be need to keep it from becoming a calamity for the west.',\n",
       "  \"there' s to be a races upon the downs on the first of september, and after the race, there' s to be an archery meeting for the ladies, and lady diana sweepstakes is to be one of them.\",\n",
       "  '\" i have hear of him, of course,\" said the priest innocently.',\n",
       "  '20: 11 and it shall be, if it make thee answer of peace, and open unto thee, then it shall be, that all the ppl that is found therein shall be tributaries unto thee, and they shall serve thee.',\n",
       "  'might i here in solitude live savage; in some glade obscured, where highest woods, impenetrable to star or sun - light, spreading their umbrage broad and brown as evening: cover me, ye pines!',\n",
       "  'jay had participated in the decisions that exiled his old friend van schaack.',\n",
       "  'with respect to article 2,, paragraphs 1 (a) of the agreement: (1)',\n",
       "  'it was very desirable that the connexion should be revived, if it could be done, without any compromise of propriety on the side of the elliots.\"',\n",
       "  'the possibility of a space charge blow-up of the screen crossover of the elementary electron bundles has been pointed out.'],\n",
       " ['25: 3 forty stripes he may give him, and not exceed: lest, if he should exceed, and beat him above these with many stripes, then thine brother should seem vile unto thee.',\n",
       "  'fifty - six friends, his lordship believes--wheelers inclusive, no doubt.',\n",
       "  'yet ye have mugged me.',\n",
       "  'so why dont about all the others??',\n",
       "  'but all was false and hollow; though his tounge dropped manna, and could make the worse appear the better reason, to perplex and dash maturest counsels: for his thoughts were low--to vice industrious, but to nobler deeds timorous and slothful.',\n",
       "  '\"i\\'ll have to give it some thought\", he told.',\n",
       "  '\" i hope i didn\\' t disturb you,\" told leonora.',\n",
       "  'for a moments or two, both scenes are present simultaneously, one growing weaker, one growing stronger.',\n",
       "  'told syme with a sort of steadiness.',\n",
       "  'something escaped from the anchorage and drive free.)',\n",
       "  'the hasty multitude admiring entered; and the working some praise, and some the architect.',\n",
       "  'now those noble golden coins of south america are as medal of the sun and tropic token - pieces.',\n",
       "  '7: 10 my defense is of god, which saveth the upright in heart.',\n",
       "  '\" but it was a wonderful catechism,\" said syme pathetically.',\n",
       "  'something yet of doubt remain, which only thy solution can resolve.',\n",
       "  'many people go to extreme lengths in decanting, chilling or warming, or banishing without further investigation any bottles with so much as a slightly suspicious cork.',\n",
       "  'procedures change rapidly and parental confidence probably exceeds anything warranted by established psychological theories.',\n",
       "  'we may thank this great little fellow,\" continued he, turning to maurice, \" for our coming at last to a right understanding.',\n",
       "  'its mate must be at home, quietly guarding their nest.',\n",
       "  '17: 14 and behold at eveningtide trouble; and before the afternoon he is not.'],\n",
       " ['o ceasar, these things are beyond all vse, and i do feare them',\n",
       "  '1: 29 the next day john seeth jesus coming unto him, and saith, behold the lamb of god, which taketh out the sin of the world.',\n",
       "  '\" yeah, for i am unable to keep my engagement with you.',\n",
       "  '6: 44 no dude can come to me, except the father which hath sent me draw him: and i will raise him up at the last day.',\n",
       "  'the cabin; by the stern windows; ahab laying alone, and gazing out.',\n",
       "  'seen more fully, with the evening light on his face, the weird man looked a little less like a goblin.',\n",
       "  'whoel, saxon - saxon.',\n",
       "  'it might be a very indifferent piece of wit, but emma found a great deal to laugh at and enjoy in it--and so did frank and harriet .-- it did not seem to touch the rest of the party equally; some looked very dumb about it, and mr . knightley gravely said,',\n",
       "  'and she called him moses.',\n",
       "  'i was asking for something particular and perfect for my city, whereupon lo!',\n",
       "  'the duchess told, with another dig of her sharp little chin.',\n",
       "  'this shall be a statute for ever unto them throughout their generation.',\n",
       "  'stand by for it, flasks.',\n",
       "  'nothing look anything like an ernst or an arp but another ernst or arp.',\n",
       "  'fedallah was motionlessly leaning over the same railway.',\n",
       "  '25: 54 and if he be not redeemed in these years, then he shall go out in the year of jubile, both he, and his kids with him.',\n",
       "  'he did not mind the pointless, kindly questions.',\n",
       "  '(this is shown in the afternoon and on saturday morning.',\n",
       "  '\" and for your own sake too, or you are carry your disinterestedness beyond reason.\"',\n",
       "  'the young poet-painter reproduces the french life of the street;;'],\n",
       " ['three years later similar restraints were imposed upon injunctions against collection of state tax.',\n",
       "  \"he might tell her how sorry a spectacle she was making of herself, pretending to be blind to the way julia fortunes had taken dean's affections from her.\",\n",
       "  'the advisory committee on administrative and budgetary questions is expected to receiving the report this week.',\n",
       "  'according to dr. ellis, the average 20-year-old american woman is capable of far greater sexual arousal than her partners.',\n",
       "  '147: 7 singing unto the lord with thanksgiving; sing praise upon the harp unto our god:',\n",
       "  '\" we hate dying,\" told turnbull, with composure, \" but we hate you even more.',\n",
       "  'often, in mild, pleasant weather, for twelve, fifteen, eighteen, and twenty hours on the stretch, they were engaged in the boats, steadily pulling, or sailing, or paddling after the whales, or for an interlude of sixty or seventy mins calmly awaiting their uprising; though with but small success for their pains.',\n",
       "  'chromium analysis gave 58.8% cr as compared with 61.2% theories.',\n",
       "  '1: 13 from above hath he sent fire into my bone, and it prevaileth against them: he hath spread a net for my feet, he hath turned me back: he hath made me desolate and faint all the day.',\n",
       "  'both father and son lived a riotous life as short as their money lasted, and it did not last many months.',\n",
       "  'the rest is used for human food and industrial product.',\n",
       "  'she will feeling her own sufferings to be nothing.',\n",
       "  '\" ahh, well!',\n",
       "  'intolerably striding along the deck, the mate commanded him to get a broom and sweep down the planks, and also a shovel, and removing some offensive matters consequent upon allowing a pig to run at large.',\n",
       "  'the child grows wealthy on his winnings and conspires with his uncle to make secret gifts of his money to his mother.',\n",
       "  \"half this is enough for your share o' the mischief, in all conscious.\",\n",
       "  'will you killing him in the prime of his middle age?',\n",
       "  '8: 5 for thou hast made him a little lower than the angels, and hast crowned him with glory and honor.',\n",
       "  'it is quite true,\" he added, frowning dubiously at the distant fields that lay towards the little station, \" it is certainly true that there seems to be a crowd coming this way; but they are not all the military that you make out.\"',\n",
       "  '\" looks at what?\"']]"
      ]
     },
     "execution_count": 54,
     "metadata": {},
     "output_type": "execute_result"
    }
   ],
   "source": [
    "marked_eval_data[0:5]"
   ]
  },
  {
   "cell_type": "markdown",
   "id": "fb9e0dad-2b43-4b8f-9d3f-4f3b14de1db6",
   "metadata": {
    "tags": []
   },
   "source": [
    "### Remove 1 sentence "
   ]
  },
  {
   "cell_type": "code",
   "execution_count": 27,
   "id": "ddb9e6c2-bc94-4c02-afee-9a5957705015",
   "metadata": {
    "tags": []
   },
   "outputs": [
    {
     "data": {
      "text/plain": [
       "-0.002"
      ]
     },
     "execution_count": 27,
     "metadata": {},
     "output_type": "execute_result"
    }
   ],
   "source": [
    "AverageImpactOfAttack(watermark_predictor, RemoveSentences, dict(num_removed_sentences=1), marked_eval_data, label=\"watermarked\")"
   ]
  },
  {
   "cell_type": "markdown",
   "id": "76244d82-73d6-404b-ba21-9d692e419e8a",
   "metadata": {
    "tags": []
   },
   "source": [
    "### Remove 3 sentences"
   ]
  },
  {
   "cell_type": "code",
   "execution_count": 28,
   "id": "a55a1c9b-1032-4251-99dc-01f2e03f21a7",
   "metadata": {
    "tags": []
   },
   "outputs": [
    {
     "data": {
      "text/plain": [
       "-0.001"
      ]
     },
     "execution_count": 28,
     "metadata": {},
     "output_type": "execute_result"
    }
   ],
   "source": [
    "AverageImpactOfAttack(watermark_predictor, RemoveSentences, dict(num_removed_sentences=3), marked_eval_data, label=\"watermarked\")"
   ]
  },
  {
   "cell_type": "markdown",
   "id": "c7bfb4f2-0409-4347-82c0-9eee717a222e",
   "metadata": {
    "tags": []
   },
   "source": [
    "### Remove 5 sentences"
   ]
  },
  {
   "cell_type": "code",
   "execution_count": 29,
   "id": "e8ad5ceb-c15a-4b48-8916-513cb8b755d3",
   "metadata": {
    "tags": []
   },
   "outputs": [
    {
     "data": {
      "text/plain": [
       "-0.001"
      ]
     },
     "execution_count": 29,
     "metadata": {},
     "output_type": "execute_result"
    }
   ],
   "source": [
    "AverageImpactOfAttack(watermark_predictor, RemoveSentences, dict(num_removed_sentences=5), marked_eval_data, label=\"watermarked\")"
   ]
  },
  {
   "cell_type": "markdown",
   "id": "5f6b7923-7b6e-4cd1-91dd-ab3bc4bc6dab",
   "metadata": {},
   "source": [
    "### Remove 10 sentences"
   ]
  },
  {
   "cell_type": "code",
   "execution_count": 30,
   "id": "625349a2-e1a2-4280-944b-a280de0cb2a1",
   "metadata": {
    "tags": []
   },
   "outputs": [
    {
     "data": {
      "text/plain": [
       "0.081"
      ]
     },
     "execution_count": 30,
     "metadata": {},
     "output_type": "execute_result"
    }
   ],
   "source": [
    "AverageImpactOfAttack(watermark_predictor, RemoveSentences, dict(num_removed_sentences=10), marked_eval_data, label=\"watermarked\")"
   ]
  },
  {
   "cell_type": "markdown",
   "id": "a308e772-20e5-4eab-98df-4f98573025a5",
   "metadata": {},
   "source": [
    "### Remove 15 sentences"
   ]
  },
  {
   "cell_type": "code",
   "execution_count": 31,
   "id": "e7b70029-09ba-48b5-9d26-2dfc1267d468",
   "metadata": {
    "tags": []
   },
   "outputs": [
    {
     "data": {
      "text/plain": [
       "0.077"
      ]
     },
     "execution_count": 31,
     "metadata": {},
     "output_type": "execute_result"
    }
   ],
   "source": [
    "AverageImpactOfAttack(watermark_predictor, RemoveSentences, dict(num_removed_sentences=15), marked_eval_data, label=\"watermarked\")"
   ]
  },
  {
   "cell_type": "markdown",
   "id": "4512e786-d8b3-4d2e-82a9-01c9af0359c1",
   "metadata": {},
   "source": [
    "### Remove 17 Sentences"
   ]
  },
  {
   "cell_type": "code",
   "execution_count": 32,
   "id": "74834539-df61-4042-b63b-914ad7571559",
   "metadata": {},
   "outputs": [
    {
     "data": {
      "text/plain": [
       "0.154"
      ]
     },
     "execution_count": 32,
     "metadata": {},
     "output_type": "execute_result"
    }
   ],
   "source": [
    "AverageImpactOfAttack(watermark_predictor, RemoveSentences, dict(num_removed_sentences=17), marked_eval_data, label=\"watermarked\")"
   ]
  },
  {
   "cell_type": "markdown",
   "id": "183c29d8-c9bb-41f1-bc40-d32db8c693fe",
   "metadata": {
    "tags": []
   },
   "source": [
    "### Remove 19 sentences"
   ]
  },
  {
   "cell_type": "code",
   "execution_count": 33,
   "id": "a928c40d-92c1-41bc-8b74-f0ff168ff9c6",
   "metadata": {
    "tags": []
   },
   "outputs": [
    {
     "data": {
      "text/plain": [
       "0.217"
      ]
     },
     "execution_count": 33,
     "metadata": {},
     "output_type": "execute_result"
    }
   ],
   "source": [
    "AverageImpactOfAttack(watermark_predictor, RemoveSentences, dict(num_removed_sentences=19), marked_eval_data, label=\"watermarked\")"
   ]
  },
  {
   "cell_type": "markdown",
   "id": "fe944e7b-6336-4b1a-8128-fbf49d2c1a17",
   "metadata": {
    "tags": []
   },
   "source": [
    "# Unmarked - sentence removal attack"
   ]
  },
  {
   "cell_type": "code",
   "execution_count": 55,
   "id": "4dcac6a1-6584-469a-bc6c-e651a1b1348f",
   "metadata": {
    "tags": []
   },
   "outputs": [],
   "source": [
    "unmarked_eval_data = GetSentenceCollections(test_data_unmarked, num_collections, num_sentences_in_collection)"
   ]
  },
  {
   "cell_type": "code",
   "execution_count": 56,
   "id": "16a82ea4-43c8-421d-a8a3-ccc18f665d3f",
   "metadata": {
    "scrolled": true,
    "tags": []
   },
   "outputs": [
    {
     "data": {
      "text/plain": [
       "[['this was quite a new idea to alice, and she thought it over a little before she made her next remark.',\n",
       "  'the ball floated downstream.',\n",
       "  'smug, owen thought, smug and sappy.',\n",
       "  '\"sure\", said hirey.',\n",
       "  \"projecting from the further angle of the room stands a dark - looking den--the bar--a rude attempt at a right whale' s head.\",\n",
       "  'phil usually went alone and kept to himself, sitting in a corner and passing the time by nursing his favorite grudges.',\n",
       "  '10: 15 and the children of israel said unto the lord, we have sinned: do thou unto us whatsoever seemeth good unto thee; deliver us only, we pray thee, this day.',\n",
       "  '\"by god\", waddell said, \"we don\\'t want to upset the boy at this time of all times.',\n",
       "  '\\'\" will you walk a little faster?\"',\n",
       "  'said turnbull, sitting up and rubbing his red eyebrows with his hand.',\n",
       "  'exclaimed cecilia; \" but surely, ma\\' am, louisa loves leonora better than she does me.\"',\n",
       "  'they had long coats down to their heels, and carried under each coat something that looked like a stick.',\n",
       "  '3: 16 hereby perceive we the love of god, because he laid down his life for us: and we ought to lay down our lives for the brethren.',\n",
       "  'he would not be indebted to sam!!',\n",
       "  \"come, ahab' s compliments to ye; come and see if ye can swerve me.\",\n",
       "  'why tarry the wheels of his chariots?',\n",
       "  '24: 21 and it shall come to pass in that day, that the lord shall punish the host of the high ones that are on high, and the kings of the earth upon the earth.',\n",
       "  '1: 22 so naomi returned, and ruth the moabitess, her daughter in law, with her, which returned out of the country of moab: and they came to bethlehem in the beginning of barley harvest.',\n",
       "  'proper follow-through requires training your own sales organization, and your distributor organizations, not only in the techniques but also in good customer relations.',\n",
       "  'and david made abner and the men that were with him a feast.'],\n",
       " ['but the girl said only, \"tell him i am here, that i have come\".',\n",
       "  \"24: 30 and it came to pass, when he saw the earring and bracelets upon his sister' s hands, and when he heard the words of rebekah his sister, saying, thus spake the man unto me; that he came unto the man; and, behold, he stood by the camels at the well.\",\n",
       "  'there had been no sign of a rifleman and no track or trace to show that anyone had been near.',\n",
       "  'one upward-mobile teacher may be a hard taskmaster for lower-class pupils because she wants them to develop the attitudes and skills that will enable them to climb, while another upward-mobile teacher may be a very permissive person with lower-class pupils because he knows their disadvantages and deprivations at home, and he hopes to encourage them by friendly treatment.',\n",
       "  '123: 4 our soul is exceedingly filled with the scorning of those that are at ease, and with the contempt of the proud.',\n",
       "  'stranger, uncle randolph began riding home nights with a jug strapped to his saddle, drunkenly singing \"old dan tucker\" at the top of his voice.',\n",
       "  'someone clapped tentatively then quickly stopped.',\n",
       "  'that is quite--i suppose there never was a piece of news more generally interesting.',\n",
       "  'put up thy gravestone, too, within the churchyard, and come hither, till we marry thee!\"',\n",
       "  'it was a very extraordinary thing!',\n",
       "  'in forme and mouing how expresse and admirable?',\n",
       "  'measurements on the photograph in this paper give af at the maximum rate of shear of af.',\n",
       "  'the clerk stared for some seconds as if at a demon and vanished.',\n",
       "  '9: 16 and i looked, and, behold, ye had sinned against the lord your god, and had made you a molten calf: ye had turned aside quickly out of the way which the lord had commanded you.',\n",
       "  'he was caught driving the day after the sentence was pronounced and given a warning.',\n",
       "  '\"let\\'s play with \\'em\", jack said, rising from where he sat on the ground and dusting off his overall pants.',\n",
       "  \"4: 6 so hatach went forth to mordecai unto the street of the city, which was before the king' s gate.\",\n",
       "  \"what ere thou art, for thy good caution, thanks thou hast harp' d my feare aright.\",\n",
       "  'and let one of the young men come over and fetch it.',\n",
       "  'on november 13, 1952, he was classified in class 1-a.'],\n",
       " ['\" you don\\' t expect me,\" he said, \" to revolutionise society on this lawn?\"',\n",
       "  'it does happen very often, i assure you; but my sister makes nothing of it; she would as lieve be tossed out as not.\"',\n",
       "  'the excellence of his understanding and his principles can be concealed only by that shyness which too often keeps him silent.',\n",
       "  'the commerce department said seasonally adjusted sales of retail stores dropped to slightly under $18 billion in april, down 1% from the march level of more than $18.2 billion.',\n",
       "  'as fast as you can!',\n",
       "  \"as a youth he became one of finney's band of evangelists and gave himself to winning young men.\",\n",
       "  'for a while the young men waited outside the lodge of tuhulhulzote, glorying in his harsh language as he talked with himself.',\n",
       "  'but when these expectations are once too often ground into the dust, innocence can falter, since its strength is according to the strength of him who possesses it.',\n",
       "  'after a nuclear blast, one bureaucrat suggested in those halcyon days, about all you had to do was haul out the broom and sweep off your sidewalks and roof.',\n",
       "  '29: 13 and ye shall seek me, and find me, when ye shall search for me with all your heart.',\n",
       "  '\"and jesus, when he was baptized went up straightway out of the water: and lo, the heavens were opened unto him, and he saw the spirit of god descending like a dove, and lighting upon him\".',\n",
       "  'i am larger, better than i thought, i did not know i held so much goodness.',\n",
       "  'enter fortinbras and english ambassador, with drumme, colours, and attendants.',\n",
       "  '28: 7 then said saul unto his servants, seek me a woman that hath a familiar spirit, that i may go to her, and enquire of her.',\n",
       "  '21: 15 if a man have two wives, one beloved, and another hated, and they have born him children, both the beloved and the hated; and if the firstborn son be hers that was hated: 21: 16 then it shall be, when he maketh his sons to inherit that which he hath, that he may not make the son of the beloved firstborn before the son of the hated, which is indeed the firstborn: 21: 17 but he shall acknowledge the son of the hated for the firstborn, by giving him a double portion of all that he hath: for he is the beginning of his strength; the right of the firstborn is his.',\n",
       "  'but mr . knightley is so very fine a man!\"',\n",
       "  'the information cell assigned to each text form contains the address of the grammatical description of the form it represents.',\n",
       "  '12: 9 and the anger of the lord was kindled against them; and he departed.',\n",
       "  'the only extended view possible to anyone less tall than the fences was that obtained from an upper bough of the apple tree.',\n",
       "  'the donkey was slow, and he was hard to ride, but he was better than nothing; and gradually the lazy man saw the towers of the castle draw nearer.'],\n",
       " [\"the wind blows cold, and here it is dark and lonely; but that little boy is warm and happy and safe at his mother' s knees.\",\n",
       "  'a sudden high rise in temperature will turn your pool poison green overnight.',\n",
       "  'he, the king, had been left alone in the church, to awake in the dark!',\n",
       "  'mr. kennedy told moscow he would give his answer by may 20 after consultation with the allies.',\n",
       "  '22: 13 and they went, and found as he had said unto them: and they made ready the passover.',\n",
       "  'cried louisa, bursting into tears.',\n",
       "  \"14: 8 and there sat a certain man at lystra, impotent in his feet, being a cripple from his mother' s womb, who never had walked: 14: 9 the same heard paul speak: who stedfastly beholding him, and perceiving that he had faith to be healed, 14: 10 said with a loud voice, stand upright on thy feet.\",\n",
       "  '\" you shall not go by this train,\" repeated syme.',\n",
       "  \"had faith constable's explanation of her confidence, so uninvited, been a little thin??\",\n",
       "  'each year, reports the american medical association, ten million americans spend $900 million on vitamins, tonics and other food supplements.',\n",
       "  'the angle af is measured in the medium of index af.',\n",
       "  '23: 14 and david was then in an hold, and the garrison of the philistines was then in bethlehem.',\n",
       "  'but mr . knightley is so very fine a man!\"',\n",
       "  '\" if they are friends, they can wait,\" said piedro.',\n",
       "  'the eyes were full of a frozen and icy wrath, a kind of utterly heartless hatred.',\n",
       "  'i felt that her eyes were undressing me as if she were a painter and i a nude model.',\n",
       "  \"and ahab chanced so to stand, that the parsee occupied his shadow; while, if the parsee' s shadow was there at all it seemed only to blend with, and lengthen ahab' s.\",\n",
       "  'one week before the convention, depew was seated on the porch of a country home on the hudson, gazing at the opposite shore.',\n",
       "  'where are your jibes of being now?',\n",
       "  '14: 9 and if the prophet be deceived when he hath spoken a thing, i the lord have deceived that prophet, and i will stretch out my hand upon him, and will destroy him from the midst of my people israel.'],\n",
       " ['\" why on earth --\"',\n",
       "  '9: 4 i must work the works of him that sent me, while it is day: the night cometh, when no man can work.',\n",
       "  '\" do you think so?\"',\n",
       "  'brian thanked her; and he from that day began to grow fond of the pigeon.',\n",
       "  \"the maid, who was afraid that the girl' s innocence would appear if she were produced, hesitated; but upon her mistress repeating her commands, she was forced to obey.\",\n",
       "  '40: 2 in the visions of god brought he me into the land of israel, and set me upon a very high mountain, by which was as the frame of a city on the south.',\n",
       "  '22: 13 they gaped upon me with their mouths, as a ravening and a roaring lion.',\n",
       "  'this decided the matter at once.',\n",
       "  'anyhow, i was looking blankly, but rather pleasantly than otherwise, at another window, uncurtained, but by this time black as a slate with the final night - fall.',\n",
       "  '\"but surely you have misunderstood mr. roy.',\n",
       "  '(she ranges jellies, etc ., in the bar.)',\n",
       "  '13: 7 now therefore divide this land for an inheritance unto the nine tribes, and the half tribe of manasseh, 13: 8 with whom the reubenites and the gadites have received their inheritance, which moses gave them, beyond jordan eastward, even as moses the servant of the lord gave them; 13: 9 from aroer, that is upon the bank of the river arnon, and the city that is in the midst of the river, and all the plain of medeba unto dibon; 13: 10 and all the cities of sihon king of the amorites, which reigned in heshbon, unto the border of the children of ammon; 13: 11 and gilead, and the border of the geshurites and maachathites, and all mount hermon, and all bashan unto salcah; 13: 12 all the kingdom of og in bashan, which reigned in ashtaroth and in edrei, who remained of the remnant of the giants: for these did moses smite, and cast them out.',\n",
       "  'susan would be visiting her grandmother for only a few days, but even at seven she was a prudent soul;;',\n",
       "  \"is it everybody' s drinking her health that makes her so happy?\",\n",
       "  '36: 14 moreover all the chief of the priests, and the people, transgressed very much after all the abominations of the heathen; and polluted the house of the lord which he had hallowed in jerusalem.',\n",
       "  'the hymen is, in essence, a fragile membrane that more or less completely covers the entrance to the vagina in most female human beings who have not had sex relations.',\n",
       "  'not a word more to - night.\"',\n",
       "  \"in a few minutes all three were approaching the dreary tail of the macnabs' street: the girl with the stern and breathless stride of the mountaineer, the criminologist with a lounging grace (which was not without a certain leopard - like swiftness), and the priest at an energetic trot entirely devoid of distinction.\",\n",
       "  'eve $now expect great tidings, which perhaps of us will soon determine, or impose new laws to be observed; for i descry, from yonder blazing cloud that veils the hill, one of the heavenly host; and, by his gait, none of the meanest; some great potentate or of the thrones above; such majesty invests him coming!',\n",
       "  '107: 11 because they rebelled against the words of god, and contemned the counsel of the most high:']]"
      ]
     },
     "execution_count": 56,
     "metadata": {},
     "output_type": "execute_result"
    }
   ],
   "source": [
    "unmarked_eval_data[0:5]"
   ]
  },
  {
   "cell_type": "markdown",
   "id": "e4488f8d-48bd-4697-bd2f-8b88bc53b7e0",
   "metadata": {
    "tags": []
   },
   "source": [
    "### Remove 1 sentence "
   ]
  },
  {
   "cell_type": "code",
   "execution_count": 36,
   "id": "c61764b1-a529-4fef-b34e-139d2a4f8f46",
   "metadata": {
    "tags": []
   },
   "outputs": [
    {
     "data": {
      "text/plain": [
       "0.0"
      ]
     },
     "execution_count": 36,
     "metadata": {},
     "output_type": "execute_result"
    }
   ],
   "source": [
    "AverageImpactOfAttack(watermark_predictor, RemoveSentences, dict(num_removed_sentences=1), unmarked_eval_data, label=\"unmarked\")"
   ]
  },
  {
   "cell_type": "markdown",
   "id": "6b61e0bd-802a-4ed1-ab95-3274dfa21566",
   "metadata": {
    "tags": []
   },
   "source": [
    "### Remove 3 sentences"
   ]
  },
  {
   "cell_type": "code",
   "execution_count": 37,
   "id": "22c08cb7-8d78-4048-a45a-8f6326447e28",
   "metadata": {
    "tags": []
   },
   "outputs": [
    {
     "data": {
      "text/plain": [
       "0.0"
      ]
     },
     "execution_count": 37,
     "metadata": {},
     "output_type": "execute_result"
    }
   ],
   "source": [
    "AverageImpactOfAttack(watermark_predictor, RemoveSentences, dict(num_removed_sentences=3), unmarked_eval_data, label=\"unmarked\")"
   ]
  },
  {
   "cell_type": "markdown",
   "id": "f3451acc-c3bf-4cfe-98af-947e6bd48f7c",
   "metadata": {
    "tags": []
   },
   "source": [
    "### Remove 5 sentences"
   ]
  },
  {
   "cell_type": "code",
   "execution_count": 38,
   "id": "bf6b973e-82da-4095-99eb-31d3d23ffbb9",
   "metadata": {
    "tags": []
   },
   "outputs": [
    {
     "data": {
      "text/plain": [
       "0.0"
      ]
     },
     "execution_count": 38,
     "metadata": {},
     "output_type": "execute_result"
    }
   ],
   "source": [
    "AverageImpactOfAttack(watermark_predictor, RemoveSentences, dict(num_removed_sentences=5), unmarked_eval_data, label=\"unmarked\")"
   ]
  },
  {
   "cell_type": "markdown",
   "id": "6ad322db-7ea7-42b2-849e-5730c34f4dc6",
   "metadata": {},
   "source": [
    "### Remove 10 sentences"
   ]
  },
  {
   "cell_type": "code",
   "execution_count": 39,
   "id": "e398194d-b507-4051-ac8c-c30555044fd0",
   "metadata": {
    "tags": []
   },
   "outputs": [
    {
     "data": {
      "text/plain": [
       "0.002"
      ]
     },
     "execution_count": 39,
     "metadata": {},
     "output_type": "execute_result"
    }
   ],
   "source": [
    "AverageImpactOfAttack(watermark_predictor, RemoveSentences, dict(num_removed_sentences=10), unmarked_eval_data, label=\"unmarked\")"
   ]
  },
  {
   "cell_type": "markdown",
   "id": "d9715609-a95a-41c1-af4a-b3e9bad42cc5",
   "metadata": {},
   "source": [
    "### Remove 15 sentences"
   ]
  },
  {
   "cell_type": "code",
   "execution_count": 40,
   "id": "4d4490c3-9767-416a-a430-3d9e1b098cbd",
   "metadata": {
    "tags": []
   },
   "outputs": [
    {
     "data": {
      "text/plain": [
       "0.037"
      ]
     },
     "execution_count": 40,
     "metadata": {},
     "output_type": "execute_result"
    }
   ],
   "source": [
    "AverageImpactOfAttack(watermark_predictor, RemoveSentences, dict(num_removed_sentences=15), unmarked_eval_data, label=\"unmarked\")"
   ]
  },
  {
   "cell_type": "markdown",
   "id": "65254c91-5e5e-470a-ba01-b509cdc9394f",
   "metadata": {},
   "source": [
    "### Remove 17 sentences"
   ]
  },
  {
   "cell_type": "code",
   "execution_count": 41,
   "id": "889925ab-d4d0-4ad2-a902-1591367cfc55",
   "metadata": {
    "tags": []
   },
   "outputs": [
    {
     "data": {
      "text/plain": [
       "0.065"
      ]
     },
     "execution_count": 41,
     "metadata": {},
     "output_type": "execute_result"
    }
   ],
   "source": [
    "AverageImpactOfAttack(watermark_predictor, RemoveSentences, dict(num_removed_sentences=17), unmarked_eval_data, label=\"unmarked\")"
   ]
  },
  {
   "cell_type": "markdown",
   "id": "cf397306-e0c5-4e76-8b8b-9679273d38ef",
   "metadata": {
    "tags": []
   },
   "source": [
    "### Remove 19 sentences"
   ]
  },
  {
   "cell_type": "code",
   "execution_count": 42,
   "id": "78f241a0-ff27-4d35-a47a-0d2d6c59cd9d",
   "metadata": {
    "tags": []
   },
   "outputs": [
    {
     "data": {
      "text/plain": [
       "0.156"
      ]
     },
     "execution_count": 42,
     "metadata": {},
     "output_type": "execute_result"
    }
   ],
   "source": [
    "AverageImpactOfAttack(watermark_predictor, RemoveSentences, dict(num_removed_sentences=19), unmarked_eval_data, label=\"unmarked\")"
   ]
  },
  {
   "cell_type": "markdown",
   "id": "af4ed548-14ac-4176-8982-c33949d65e2c",
   "metadata": {
    "tags": []
   },
   "source": [
    "# Watermarked - sentence addition attack"
   ]
  },
  {
   "cell_type": "markdown",
   "id": "bc3ae1e7-532e-4d65-b850-4c557bb0d3a3",
   "metadata": {
    "tags": []
   },
   "source": [
    "### Add 1 sentence "
   ]
  },
  {
   "cell_type": "code",
   "execution_count": 43,
   "id": "c0aea7ca-800c-4bc3-bb10-04d6f7f7872c",
   "metadata": {
    "tags": []
   },
   "outputs": [
    {
     "data": {
      "text/plain": [
       "-0.001"
      ]
     },
     "execution_count": 43,
     "metadata": {},
     "output_type": "execute_result"
    }
   ],
   "source": [
    "AverageImpactOfAttack(watermark_predictor, AddSentences, dict(num_added_sentences=1, opposite_sentences_for_addition=test_data_unmarked), marked_eval_data, label=\"watermarked\")"
   ]
  },
  {
   "cell_type": "markdown",
   "id": "254e11fa-f21a-40e7-abeb-10c6c344ff3d",
   "metadata": {
    "tags": []
   },
   "source": [
    "### Add 3 sentences"
   ]
  },
  {
   "cell_type": "code",
   "execution_count": 44,
   "id": "60f221db-35e4-4e99-9d80-80fe4aaa7325",
   "metadata": {
    "tags": []
   },
   "outputs": [
    {
     "data": {
      "text/plain": [
       "0.017"
      ]
     },
     "execution_count": 44,
     "metadata": {},
     "output_type": "execute_result"
    }
   ],
   "source": [
    "AverageImpactOfAttack(watermark_predictor, AddSentences, dict(num_added_sentences=3, opposite_sentences_for_addition=test_data_unmarked), marked_eval_data, label=\"watermarked\")"
   ]
  },
  {
   "cell_type": "markdown",
   "id": "9648d920-a908-47c8-80a3-55f3f01c5e3f",
   "metadata": {
    "tags": []
   },
   "source": [
    "### Add 5 sentences"
   ]
  },
  {
   "cell_type": "code",
   "execution_count": 45,
   "id": "2a08c05e-99ce-4a7f-ae1f-f903b89fbc7f",
   "metadata": {
    "tags": []
   },
   "outputs": [
    {
     "data": {
      "text/plain": [
       "0.053"
      ]
     },
     "execution_count": 45,
     "metadata": {},
     "output_type": "execute_result"
    }
   ],
   "source": [
    "AverageImpactOfAttack(watermark_predictor, AddSentences, dict(num_added_sentences=5, opposite_sentences_for_addition=test_data_unmarked), marked_eval_data, label=\"watermarked\")"
   ]
  },
  {
   "cell_type": "markdown",
   "id": "0c9980da-ca8d-409d-a69d-663aabbef2f4",
   "metadata": {},
   "source": [
    "### Add 10 sentences"
   ]
  },
  {
   "cell_type": "code",
   "execution_count": 46,
   "id": "e1861f45-324e-4af7-be20-49265176fa26",
   "metadata": {
    "tags": []
   },
   "outputs": [
    {
     "data": {
      "text/plain": [
       "0.284"
      ]
     },
     "execution_count": 46,
     "metadata": {},
     "output_type": "execute_result"
    }
   ],
   "source": [
    "AverageImpactOfAttack(watermark_predictor, AddSentences, dict(num_added_sentences=10, opposite_sentences_for_addition=test_data_unmarked), marked_eval_data, label=\"watermarked\")"
   ]
  },
  {
   "cell_type": "markdown",
   "id": "443845fe-e9c1-460c-8daf-0c1dfb39313d",
   "metadata": {},
   "source": [
    "### Add 15 sentences"
   ]
  },
  {
   "cell_type": "code",
   "execution_count": 47,
   "id": "2c88b16c-39fc-4f30-9578-e57fb022e9fe",
   "metadata": {
    "tags": []
   },
   "outputs": [
    {
     "data": {
      "text/plain": [
       "0.483"
      ]
     },
     "execution_count": 47,
     "metadata": {},
     "output_type": "execute_result"
    }
   ],
   "source": [
    "AverageImpactOfAttack(watermark_predictor, AddSentences, dict(num_added_sentences=15, opposite_sentences_for_addition=test_data_unmarked), marked_eval_data, label=\"watermarked\")"
   ]
  },
  {
   "cell_type": "markdown",
   "id": "3b545e7e-0c0e-47cb-b241-929d9e1222b8",
   "metadata": {},
   "source": [
    "### Add 17 Sentences"
   ]
  },
  {
   "cell_type": "code",
   "execution_count": 48,
   "id": "ff66102c-0f1a-42f4-9303-923fbbb617e3",
   "metadata": {},
   "outputs": [
    {
     "data": {
      "text/plain": [
       "0.573"
      ]
     },
     "execution_count": 48,
     "metadata": {},
     "output_type": "execute_result"
    }
   ],
   "source": [
    "AverageImpactOfAttack(watermark_predictor, AddSentences, dict(num_added_sentences=17, opposite_sentences_for_addition=test_data_unmarked), marked_eval_data, label=\"watermarked\")"
   ]
  },
  {
   "cell_type": "markdown",
   "id": "a52e07dc-90ae-4a4a-b7e4-d98c4b86ddda",
   "metadata": {
    "tags": []
   },
   "source": [
    "### Add 19 sentences"
   ]
  },
  {
   "cell_type": "code",
   "execution_count": 49,
   "id": "c3aae9b1-b884-46a6-821a-ec6f44a9d36b",
   "metadata": {
    "tags": []
   },
   "outputs": [
    {
     "data": {
      "text/plain": [
       "0.69"
      ]
     },
     "execution_count": 49,
     "metadata": {},
     "output_type": "execute_result"
    }
   ],
   "source": [
    "AverageImpactOfAttack(watermark_predictor, AddSentences, dict(num_added_sentences=19, opposite_sentences_for_addition=test_data_unmarked), marked_eval_data, label=\"watermarked\")"
   ]
  },
  {
   "cell_type": "markdown",
   "id": "594c30c7-7a17-4fcb-bac6-bad6cc8cc2fe",
   "metadata": {
    "tags": []
   },
   "source": [
    "# Unmarked - sentence addition attack"
   ]
  },
  {
   "cell_type": "markdown",
   "id": "6203fb07-0fd5-4297-aad4-36c41a43dcf5",
   "metadata": {
    "tags": []
   },
   "source": [
    "### Add 1 sentence "
   ]
  },
  {
   "cell_type": "code",
   "execution_count": 50,
   "id": "b8ced6cf-ba6e-4afd-94d6-ec40fa61f908",
   "metadata": {
    "tags": []
   },
   "outputs": [
    {
     "data": {
      "text/plain": [
       "0.0"
      ]
     },
     "execution_count": 50,
     "metadata": {},
     "output_type": "execute_result"
    }
   ],
   "source": [
    "AverageImpactOfAttack(watermark_predictor, AddSentences, dict(num_added_sentences=1, opposite_sentences_for_addition=test_data_marked), unmarked_eval_data, label=\"unmarked\")"
   ]
  },
  {
   "cell_type": "markdown",
   "id": "4da86b09-05b5-4d32-b37b-24d4a69cf3fd",
   "metadata": {
    "tags": []
   },
   "source": [
    "### Add 3 sentences"
   ]
  },
  {
   "cell_type": "code",
   "execution_count": 51,
   "id": "e9988ec7-02cb-443e-b145-62c09a0a7c2e",
   "metadata": {
    "tags": []
   },
   "outputs": [
    {
     "data": {
      "text/plain": [
       "0.0"
      ]
     },
     "execution_count": 51,
     "metadata": {},
     "output_type": "execute_result"
    }
   ],
   "source": [
    "AverageImpactOfAttack(watermark_predictor, AddSentences, dict(num_added_sentences=3, opposite_sentences_for_addition=test_data_marked), unmarked_eval_data, label=\"unmarked\")"
   ]
  },
  {
   "cell_type": "markdown",
   "id": "b4710691-666b-4b55-9390-1dae337cd044",
   "metadata": {
    "tags": []
   },
   "source": [
    "### Add 5 sentences"
   ]
  },
  {
   "cell_type": "code",
   "execution_count": 52,
   "id": "5b27a169-af4e-4e94-b0a0-105570f63771",
   "metadata": {
    "tags": []
   },
   "outputs": [
    {
     "data": {
      "text/plain": [
       "0.006"
      ]
     },
     "execution_count": 52,
     "metadata": {},
     "output_type": "execute_result"
    }
   ],
   "source": [
    "AverageImpactOfAttack(watermark_predictor, AddSentences, dict(num_added_sentences=5, opposite_sentences_for_addition=test_data_marked), unmarked_eval_data, label=\"unmarked\")"
   ]
  },
  {
   "cell_type": "markdown",
   "id": "50899cde-757a-4391-9441-93f84ea2916e",
   "metadata": {},
   "source": [
    "### Add 10 sentences"
   ]
  },
  {
   "cell_type": "code",
   "execution_count": 53,
   "id": "dfde43f4-d7cf-438a-8d07-5d71b9ee2982",
   "metadata": {
    "tags": []
   },
   "outputs": [
    {
     "data": {
      "text/plain": [
       "0.012"
      ]
     },
     "execution_count": 53,
     "metadata": {},
     "output_type": "execute_result"
    }
   ],
   "source": [
    "AverageImpactOfAttack(watermark_predictor, AddSentences, dict(num_added_sentences=10, opposite_sentences_for_addition=test_data_marked), unmarked_eval_data, label=\"unmarked\")"
   ]
  },
  {
   "cell_type": "markdown",
   "id": "0852765b-5f70-4657-920e-51916bb5eb34",
   "metadata": {},
   "source": [
    "### Add 15 sentences"
   ]
  },
  {
   "cell_type": "code",
   "execution_count": 54,
   "id": "4d566d7b-0cd9-440e-a22f-b480e606f6b5",
   "metadata": {
    "tags": []
   },
   "outputs": [
    {
     "data": {
      "text/plain": [
       "0.101"
      ]
     },
     "execution_count": 54,
     "metadata": {},
     "output_type": "execute_result"
    }
   ],
   "source": [
    "AverageImpactOfAttack(watermark_predictor, AddSentences, dict(num_added_sentences=15, opposite_sentences_for_addition=test_data_marked), unmarked_eval_data, label=\"unmarked\")"
   ]
  },
  {
   "cell_type": "markdown",
   "id": "6edee698-6f52-4743-b51a-00795eb66b2c",
   "metadata": {},
   "source": [
    "### Add 17 sentences"
   ]
  },
  {
   "cell_type": "code",
   "execution_count": 55,
   "id": "2fb51f03-74d6-46c1-a108-ed400dff7279",
   "metadata": {
    "tags": []
   },
   "outputs": [
    {
     "data": {
      "text/plain": [
       "0.143"
      ]
     },
     "execution_count": 55,
     "metadata": {},
     "output_type": "execute_result"
    }
   ],
   "source": [
    "AverageImpactOfAttack(watermark_predictor, AddSentences, dict(num_added_sentences=17, opposite_sentences_for_addition=test_data_marked), unmarked_eval_data, label=\"unmarked\")"
   ]
  },
  {
   "cell_type": "markdown",
   "id": "12738958-b269-4140-9371-a48a52d2c820",
   "metadata": {
    "tags": []
   },
   "source": [
    "### Add 19 sentences"
   ]
  },
  {
   "cell_type": "code",
   "execution_count": 56,
   "id": "bc5e4293-c5e7-49cb-885b-b169d2a1c28f",
   "metadata": {
    "tags": []
   },
   "outputs": [
    {
     "data": {
      "text/plain": [
       "0.225"
      ]
     },
     "execution_count": 56,
     "metadata": {},
     "output_type": "execute_result"
    }
   ],
   "source": [
    "AverageImpactOfAttack(watermark_predictor, AddSentences, dict(num_added_sentences=19, opposite_sentences_for_addition=test_data_marked), unmarked_eval_data, label=\"unmarked\")"
   ]
  },
  {
   "cell_type": "markdown",
   "id": "ae8f69ca-5843-4f65-a635-326e7da67e80",
   "metadata": {
    "tags": []
   },
   "source": [
    "# Watermarked - sentence replacement attack"
   ]
  },
  {
   "cell_type": "markdown",
   "id": "4d98ef95-fbf6-4953-ab8e-f89faf2d8856",
   "metadata": {
    "tags": []
   },
   "source": [
    "### Replace 1 sentence "
   ]
  },
  {
   "cell_type": "code",
   "execution_count": 57,
   "id": "c15780cc-3368-4e06-ae5b-0b6f8878a36e",
   "metadata": {
    "tags": []
   },
   "outputs": [
    {
     "data": {
      "text/plain": [
       "0.008"
      ]
     },
     "execution_count": 57,
     "metadata": {},
     "output_type": "execute_result"
    }
   ],
   "source": [
    "AverageImpactOfAttack(watermark_predictor, ReplaceSentences, dict(num_replaced_sentences=1, opposite_sentences_for_replacement=test_data_unmarked), marked_eval_data, label=\"watermarked\")"
   ]
  },
  {
   "cell_type": "markdown",
   "id": "318b829c-5db3-4cbb-a969-d0352cd4591d",
   "metadata": {
    "tags": []
   },
   "source": [
    "### Replace 3 sentences"
   ]
  },
  {
   "cell_type": "code",
   "execution_count": 58,
   "id": "b503690a-924c-4337-9739-e1c3e2424863",
   "metadata": {
    "tags": []
   },
   "outputs": [
    {
     "data": {
      "text/plain": [
       "0.063"
      ]
     },
     "execution_count": 58,
     "metadata": {},
     "output_type": "execute_result"
    }
   ],
   "source": [
    "AverageImpactOfAttack(watermark_predictor, ReplaceSentences, dict(num_replaced_sentences=3, opposite_sentences_for_replacement=test_data_unmarked), marked_eval_data, label=\"watermarked\")"
   ]
  },
  {
   "cell_type": "markdown",
   "id": "12bfd404-4040-4091-acef-a2435544a4eb",
   "metadata": {
    "tags": []
   },
   "source": [
    "### Replace 5 sentences"
   ]
  },
  {
   "cell_type": "code",
   "execution_count": 59,
   "id": "11332526-5c23-4515-89e3-b6cd06266865",
   "metadata": {
    "tags": []
   },
   "outputs": [
    {
     "data": {
      "text/plain": [
       "0.15"
      ]
     },
     "execution_count": 59,
     "metadata": {},
     "output_type": "execute_result"
    }
   ],
   "source": [
    "AverageImpactOfAttack(watermark_predictor, ReplaceSentences, dict(num_replaced_sentences=5, opposite_sentences_for_replacement=test_data_unmarked), marked_eval_data, label=\"watermarked\")"
   ]
  },
  {
   "cell_type": "markdown",
   "id": "346af369-388c-4e9d-8f6d-a746d6463c4f",
   "metadata": {},
   "source": [
    "### Replace 7 sentences"
   ]
  },
  {
   "cell_type": "code",
   "execution_count": 60,
   "id": "a296be65-914f-4017-82f0-6a6fb5ef7aa7",
   "metadata": {
    "tags": []
   },
   "outputs": [
    {
     "data": {
      "text/plain": [
       "0.286"
      ]
     },
     "execution_count": 60,
     "metadata": {},
     "output_type": "execute_result"
    }
   ],
   "source": [
    "AverageImpactOfAttack(watermark_predictor, ReplaceSentences, dict(num_replaced_sentences=7, opposite_sentences_for_replacement=test_data_unmarked), marked_eval_data, label=\"watermarked\")"
   ]
  },
  {
   "cell_type": "markdown",
   "id": "5f05a3aa-33b0-4549-bf45-2db278fc5136",
   "metadata": {
    "tags": []
   },
   "source": [
    "# Unmarked - sentence replacement attack"
   ]
  },
  {
   "cell_type": "markdown",
   "id": "af817506-4e3b-4df0-8638-78d11b5faa26",
   "metadata": {
    "tags": []
   },
   "source": [
    "### Replace 1 sentence "
   ]
  },
  {
   "cell_type": "code",
   "execution_count": 61,
   "id": "24580063-2f5f-4bc2-b3e8-0b893d3d6275",
   "metadata": {
    "tags": []
   },
   "outputs": [
    {
     "data": {
      "text/plain": [
       "0.0"
      ]
     },
     "execution_count": 61,
     "metadata": {},
     "output_type": "execute_result"
    }
   ],
   "source": [
    "AverageImpactOfAttack(watermark_predictor, ReplaceSentences, dict(num_replaced_sentences=1, opposite_sentences_for_replacement=test_data_marked), unmarked_eval_data, label=\"unmarked\")"
   ]
  },
  {
   "cell_type": "markdown",
   "id": "2678913a-5430-4011-a651-622cb4dd1774",
   "metadata": {
    "tags": []
   },
   "source": [
    "### Replace 3 sentences"
   ]
  },
  {
   "cell_type": "code",
   "execution_count": 62,
   "id": "7cdbc84e-8aaf-4789-bf57-15ff5345987c",
   "metadata": {
    "tags": []
   },
   "outputs": [
    {
     "data": {
      "text/plain": [
       "0.004"
      ]
     },
     "execution_count": 62,
     "metadata": {},
     "output_type": "execute_result"
    }
   ],
   "source": [
    "AverageImpactOfAttack(watermark_predictor, ReplaceSentences, dict(num_replaced_sentences=3, opposite_sentences_for_replacement=test_data_marked), unmarked_eval_data, label=\"unmarked\")"
   ]
  },
  {
   "cell_type": "markdown",
   "id": "2a4b92ad-70bd-48b8-822b-1281948ecd7d",
   "metadata": {
    "tags": []
   },
   "source": [
    "### Replace 5 sentences"
   ]
  },
  {
   "cell_type": "code",
   "execution_count": 63,
   "id": "1ec78132-c0cc-47e5-a600-64e186f12864",
   "metadata": {
    "tags": []
   },
   "outputs": [
    {
     "data": {
      "text/plain": [
       "0.008"
      ]
     },
     "execution_count": 63,
     "metadata": {},
     "output_type": "execute_result"
    }
   ],
   "source": [
    "AverageImpactOfAttack(watermark_predictor, ReplaceSentences, dict(num_replaced_sentences=5, opposite_sentences_for_replacement=test_data_marked), unmarked_eval_data, label=\"unmarked\")"
   ]
  },
  {
   "cell_type": "markdown",
   "id": "821421ce-d60e-4eaa-b3e9-2e9a9c56cf4a",
   "metadata": {},
   "source": [
    "### Replace 7 sentences"
   ]
  },
  {
   "cell_type": "code",
   "execution_count": 64,
   "id": "7e4d623b-6cf2-474e-90f7-9271d4ac729c",
   "metadata": {
    "tags": []
   },
   "outputs": [
    {
     "data": {
      "text/plain": [
       "0.026"
      ]
     },
     "execution_count": 64,
     "metadata": {},
     "output_type": "execute_result"
    }
   ],
   "source": [
    "AverageImpactOfAttack(watermark_predictor, ReplaceSentences, dict(num_replaced_sentences=7, opposite_sentences_for_replacement=test_data_marked), unmarked_eval_data, label=\"unmarked\")"
   ]
  },
  {
   "cell_type": "markdown",
   "id": "cdea723e-7753-4274-9795-e08919ca5839",
   "metadata": {
    "tags": []
   },
   "source": [
    "# Watermarked - token removal attack"
   ]
  },
  {
   "cell_type": "code",
   "execution_count": 61,
   "id": "9463bf50-7005-4a12-a30d-5df1b61a5b4c",
   "metadata": {
    "tags": []
   },
   "outputs": [],
   "source": [
    "sentence_marked_eval_data = GetSentenceCollections(test_data_marked, num_collections, 1)"
   ]
  },
  {
   "cell_type": "code",
   "execution_count": 62,
   "id": "8e78c445-c29e-4923-8d3b-4ca67d7521e2",
   "metadata": {
    "tags": []
   },
   "outputs": [
    {
     "data": {
      "text/plain": [
       "[['it is to this same traditions that most of the creative figures in the last century and a half of american theology also belong.'],\n",
       " ['initial claims for jobless benefit were said to have dropped by 8,100 in the week ending march 4.'],\n",
       " ['then he slipped and went down on his hand and knees in the melting snow.'],\n",
       " ['\" and what was that saying about thou?\"'],\n",
       " ['27: 5 for in the time of trouble he shall hide me in his pavilion: in the secrets of his tabernacle shall he hide me; he shall set me up upon a rock.'],\n",
       " ['there were liberal provision for dispensation where documents or records were lacking.'],\n",
       " ['first priority will be given to the preparation of a meaningful state guide plan to serving as a background for all other planning activities in the state.'],\n",
       " ['he seems to me to be grown particularly gentle of early.'],\n",
       " ['as long as they have the bridegroom with them, they cannot quick.'],\n",
       " ['his eye want all that spirit, that fire, which at once announce virtue and intelligence.']]"
      ]
     },
     "execution_count": 62,
     "metadata": {},
     "output_type": "execute_result"
    }
   ],
   "source": [
    "sentence_marked_eval_data[0:10]"
   ]
  },
  {
   "cell_type": "markdown",
   "id": "a5e801f9-874e-46ef-bca1-06135bf1b8d2",
   "metadata": {
    "tags": []
   },
   "source": [
    "### Remove 1 token"
   ]
  },
  {
   "cell_type": "code",
   "execution_count": 63,
   "id": "bb45924e-c907-4692-a440-2762eefe87fe",
   "metadata": {
    "tags": []
   },
   "outputs": [
    {
     "data": {
      "text/plain": [
       "-0.004"
      ]
     },
     "execution_count": 63,
     "metadata": {},
     "output_type": "execute_result"
    }
   ],
   "source": [
    "AverageImpactOfAttack(watermark_predictor, RemoveTokens, dict(num_removed_tokens=1, tokenizer=TreebankWordTokenizer(), detokenizer=TreebankWordDetokenizer()), sentence_marked_eval_data, label=\"watermarked\")"
   ]
  },
  {
   "cell_type": "markdown",
   "id": "79427366-1b86-4849-b5be-4dbb79a6c9df",
   "metadata": {
    "tags": []
   },
   "source": [
    "### Remove 2 tokens"
   ]
  },
  {
   "cell_type": "code",
   "execution_count": 64,
   "id": "fda22b4c-7d2c-45e1-b6b3-fc22ca344db1",
   "metadata": {
    "tags": []
   },
   "outputs": [
    {
     "data": {
      "text/plain": [
       "-0.028"
      ]
     },
     "execution_count": 64,
     "metadata": {},
     "output_type": "execute_result"
    }
   ],
   "source": [
    "AverageImpactOfAttack(watermark_predictor, RemoveTokens, dict(num_removed_tokens=2, tokenizer=TreebankWordTokenizer(), detokenizer=TreebankWordDetokenizer()), sentence_marked_eval_data, label=\"watermarked\")"
   ]
  },
  {
   "cell_type": "markdown",
   "id": "6be7d33e-2c39-44e2-a216-1eedb779758d",
   "metadata": {
    "tags": []
   },
   "source": [
    "### Remove 3 tokens"
   ]
  },
  {
   "cell_type": "code",
   "execution_count": 65,
   "id": "6ee063af-9ec1-4d4e-9cba-3427a94999a1",
   "metadata": {
    "tags": []
   },
   "outputs": [
    {
     "data": {
      "text/plain": [
       "-0.022"
      ]
     },
     "execution_count": 65,
     "metadata": {},
     "output_type": "execute_result"
    }
   ],
   "source": [
    "AverageImpactOfAttack(watermark_predictor, RemoveTokens, dict(num_removed_tokens=3, tokenizer=TreebankWordTokenizer(), detokenizer=TreebankWordDetokenizer()), sentence_marked_eval_data, label=\"watermarked\")"
   ]
  },
  {
   "cell_type": "markdown",
   "id": "4283d925-3071-447b-b28f-4fa34f776464",
   "metadata": {
    "tags": []
   },
   "source": [
    "# Unmarked - token removal attack"
   ]
  },
  {
   "cell_type": "code",
   "execution_count": 66,
   "id": "f794c379-60d7-49a1-b7e5-43c56567567f",
   "metadata": {
    "tags": []
   },
   "outputs": [],
   "source": [
    "sentence_unmarked_eval_data = GetSentenceCollections(test_data_unmarked, num_collections, 1)"
   ]
  },
  {
   "cell_type": "code",
   "execution_count": 67,
   "id": "a5bf5269-0553-4d1f-80e7-c7650ac7a624",
   "metadata": {
    "tags": []
   },
   "outputs": [
    {
     "data": {
      "text/plain": [
       "[['a hydrostatic head correction has been neither necessary nor applicable in the determination of vapor pressures or temperatures for the bulk liquid helium.'],\n",
       " ['18: 30 and the king said unto him, turn aside, and stand here.'],\n",
       " [\"alas, to ann's consternation, his language while thus employed left much to be desired.\"],\n",
       " ['\" why, how do you mean?\"'],\n",
       " ['if it were not for judicial development of certain exceptions, this section would prohibit a suit for refund by an acquiring corporation for taxes paid by a transferor corporation, even though the reorganization meets the requirements of section 381(a).'],\n",
       " [\"32: 9 and i bought the field of hanameel my uncle' s son, that was in anathoth, and weighed him the money, even seventeen shekels of silver.\"],\n",
       " ['the colonial period has generally left people believing that government can, if it wishes, provide all manner of services for them--and that with independence free men do not have to work to realize the benefits of modern life.'],\n",
       " ['now, however, the windows in the houses began one by one to be lit up, giving a greater sense of habitation and humanity.'],\n",
       " ['artists simply do not talk to each other in that fashion;;'],\n",
       " ['7: 24 the children of hariph, an hundred and twelve.']]"
      ]
     },
     "execution_count": 67,
     "metadata": {},
     "output_type": "execute_result"
    }
   ],
   "source": [
    "sentence_unmarked_eval_data[0:10]"
   ]
  },
  {
   "cell_type": "markdown",
   "id": "ccc108b4-c251-4e87-b635-9091ce241899",
   "metadata": {
    "tags": []
   },
   "source": [
    "### Remove 1 token"
   ]
  },
  {
   "cell_type": "code",
   "execution_count": 68,
   "id": "1cdae17e-e851-4a25-ad7d-0ce98cb9e469",
   "metadata": {
    "tags": []
   },
   "outputs": [
    {
     "data": {
      "text/plain": [
       "0.123"
      ]
     },
     "execution_count": 68,
     "metadata": {},
     "output_type": "execute_result"
    }
   ],
   "source": [
    "AverageImpactOfAttack(watermark_predictor, RemoveTokens, dict(num_removed_tokens=1, tokenizer=TreebankWordTokenizer(), detokenizer=TreebankWordDetokenizer()), sentence_unmarked_eval_data, label=\"unmarked\")"
   ]
  },
  {
   "cell_type": "markdown",
   "id": "27060dca-8b13-41a2-99d1-0739dc759fc7",
   "metadata": {
    "tags": []
   },
   "source": [
    "### Remove 2 tokens"
   ]
  },
  {
   "cell_type": "code",
   "execution_count": 69,
   "id": "c533aa1e-f0d3-435e-861e-52114badd613",
   "metadata": {
    "tags": []
   },
   "outputs": [
    {
     "data": {
      "text/plain": [
       "0.231"
      ]
     },
     "execution_count": 69,
     "metadata": {},
     "output_type": "execute_result"
    }
   ],
   "source": [
    "AverageImpactOfAttack(watermark_predictor, RemoveTokens, dict(num_removed_tokens=2, tokenizer=TreebankWordTokenizer(), detokenizer=TreebankWordDetokenizer()), sentence_unmarked_eval_data, label=\"unmarked\")"
   ]
  },
  {
   "cell_type": "markdown",
   "id": "fb57742f-7a28-4570-b9b5-3c7077c6b3ef",
   "metadata": {
    "tags": []
   },
   "source": [
    "### Remove 3 tokens"
   ]
  },
  {
   "cell_type": "code",
   "execution_count": 70,
   "id": "86ce1346-8bd9-4dc3-b064-73701efee179",
   "metadata": {
    "tags": []
   },
   "outputs": [
    {
     "data": {
      "text/plain": [
       "0.284"
      ]
     },
     "execution_count": 70,
     "metadata": {},
     "output_type": "execute_result"
    }
   ],
   "source": [
    "AverageImpactOfAttack(watermark_predictor, RemoveTokens, dict(num_removed_tokens=3, tokenizer=TreebankWordTokenizer(), detokenizer=TreebankWordDetokenizer()), sentence_unmarked_eval_data, label=\"unmarked\")"
   ]
  },
  {
   "cell_type": "markdown",
   "id": "5b547a26-baec-4de4-8326-556e349ecf50",
   "metadata": {
    "tags": []
   },
   "source": [
    "# Watermarked - token addition attack"
   ]
  },
  {
   "cell_type": "markdown",
   "id": "40bffc99-b33c-43c5-bcf4-7b218554c91f",
   "metadata": {
    "tags": []
   },
   "source": [
    "### Add 1 token"
   ]
  },
  {
   "cell_type": "code",
   "execution_count": 71,
   "id": "184f80ec-a3e3-48b2-bf1d-52ca1c3dd63c",
   "metadata": {
    "tags": []
   },
   "outputs": [
    {
     "data": {
      "text/plain": [
       "-0.064"
      ]
     },
     "execution_count": 71,
     "metadata": {},
     "output_type": "execute_result"
    }
   ],
   "source": [
    "AverageImpactOfAttack(watermark_predictor, AddTokens, dict(num_added_tokens=1, tokenizer=TreebankWordTokenizer(), detokenizer=TreebankWordDetokenizer()), sentence_marked_eval_data, label=\"watermarked\")"
   ]
  },
  {
   "cell_type": "markdown",
   "id": "0b3e0250-377e-4d56-9bfc-9a6a0924c8b0",
   "metadata": {
    "tags": []
   },
   "source": [
    "### Add 2 tokens"
   ]
  },
  {
   "cell_type": "code",
   "execution_count": 72,
   "id": "373d1b83-44dc-45e3-afc1-9e3c8fe5ec25",
   "metadata": {
    "tags": []
   },
   "outputs": [
    {
     "data": {
      "text/plain": [
       "-0.093"
      ]
     },
     "execution_count": 72,
     "metadata": {},
     "output_type": "execute_result"
    }
   ],
   "source": [
    "AverageImpactOfAttack(watermark_predictor, AddTokens, dict(num_added_tokens=2, tokenizer=TreebankWordTokenizer(), detokenizer=TreebankWordDetokenizer()), sentence_marked_eval_data, label=\"watermarked\")"
   ]
  },
  {
   "cell_type": "markdown",
   "id": "77ac6633-6299-49a2-95eb-6e5a0ed6de0d",
   "metadata": {
    "tags": []
   },
   "source": [
    "### Add 3 tokens"
   ]
  },
  {
   "cell_type": "code",
   "execution_count": 73,
   "id": "8f34ae12-2a97-4fb7-8625-ab3a903aa388",
   "metadata": {
    "tags": []
   },
   "outputs": [
    {
     "data": {
      "text/plain": [
       "-0.084"
      ]
     },
     "execution_count": 73,
     "metadata": {},
     "output_type": "execute_result"
    }
   ],
   "source": [
    "AverageImpactOfAttack(watermark_predictor, AddTokens, dict(num_added_tokens=3, tokenizer=TreebankWordTokenizer(), detokenizer=TreebankWordDetokenizer()), sentence_marked_eval_data, label=\"watermarked\")"
   ]
  },
  {
   "cell_type": "markdown",
   "id": "e2a603e1-4faf-4be3-abc5-884d38769f8c",
   "metadata": {
    "tags": []
   },
   "source": [
    "# Unmarked - token addition attack"
   ]
  },
  {
   "cell_type": "markdown",
   "id": "5544898a-cd31-43f4-b17a-73256880c86e",
   "metadata": {
    "tags": []
   },
   "source": [
    "### Add 1 token"
   ]
  },
  {
   "cell_type": "code",
   "execution_count": 74,
   "id": "4f5a114a-058b-4f08-a8f2-df828f7dca9d",
   "metadata": {
    "tags": []
   },
   "outputs": [
    {
     "data": {
      "text/plain": [
       "0.14"
      ]
     },
     "execution_count": 74,
     "metadata": {},
     "output_type": "execute_result"
    }
   ],
   "source": [
    "AverageImpactOfAttack(watermark_predictor, AddTokens, dict(num_added_tokens=1, tokenizer=TreebankWordTokenizer(), detokenizer=TreebankWordDetokenizer()), sentence_unmarked_eval_data, label=\"unmarked\")"
   ]
  },
  {
   "cell_type": "markdown",
   "id": "cf7b326d-f82b-418e-b2a9-8be25c5b34ab",
   "metadata": {
    "tags": []
   },
   "source": [
    "### Add 2 tokens"
   ]
  },
  {
   "cell_type": "code",
   "execution_count": 75,
   "id": "6ed8ad7f-55b4-4563-bf3e-0ea15b38cbdb",
   "metadata": {
    "tags": []
   },
   "outputs": [
    {
     "data": {
      "text/plain": [
       "0.218"
      ]
     },
     "execution_count": 75,
     "metadata": {},
     "output_type": "execute_result"
    }
   ],
   "source": [
    "AverageImpactOfAttack(watermark_predictor, AddTokens, dict(num_added_tokens=2, tokenizer=TreebankWordTokenizer(), detokenizer=TreebankWordDetokenizer()), sentence_unmarked_eval_data, label=\"unmarked\")"
   ]
  },
  {
   "cell_type": "markdown",
   "id": "06f53734-dc3c-40fd-b6d7-aed8f9add3dc",
   "metadata": {
    "tags": []
   },
   "source": [
    "### Add 3 tokens"
   ]
  },
  {
   "cell_type": "code",
   "execution_count": 76,
   "id": "02c82971-662d-49c0-a19e-bbf2d5fb432b",
   "metadata": {
    "tags": []
   },
   "outputs": [
    {
     "data": {
      "text/plain": [
       "0.276"
      ]
     },
     "execution_count": 76,
     "metadata": {},
     "output_type": "execute_result"
    }
   ],
   "source": [
    "AverageImpactOfAttack(watermark_predictor, AddTokens, dict(num_added_tokens=3, tokenizer=TreebankWordTokenizer(), detokenizer=TreebankWordDetokenizer()), sentence_unmarked_eval_data, label=\"unmarked\")"
   ]
  },
  {
   "cell_type": "markdown",
   "id": "b73e5232-8315-4ffb-9a51-8f9c2d61adfa",
   "metadata": {
    "tags": []
   },
   "source": [
    "# Watermarked - token replacement attack"
   ]
  },
  {
   "cell_type": "markdown",
   "id": "d17cd380-16c2-4347-9c40-274bc83521b2",
   "metadata": {
    "tags": []
   },
   "source": [
    "### Replace 1 token"
   ]
  },
  {
   "cell_type": "code",
   "execution_count": 79,
   "id": "f11d8ef1-6dd2-423a-9c41-731acd3ce391",
   "metadata": {
    "tags": []
   },
   "outputs": [
    {
     "data": {
      "text/plain": [
       "-0.061"
      ]
     },
     "execution_count": 79,
     "metadata": {},
     "output_type": "execute_result"
    }
   ],
   "source": [
    "AverageImpactOfAttack(watermark_predictor, ReplaceTokens, dict(num_replaced_tokens=1, tokenizer=TreebankWordTokenizer(), detokenizer=TreebankWordDetokenizer()), sentence_marked_eval_data, label=\"watermarked\")"
   ]
  },
  {
   "cell_type": "markdown",
   "id": "60966b4a-cbac-4828-9524-7f99e972d675",
   "metadata": {
    "tags": []
   },
   "source": [
    "### Replace 2 tokens"
   ]
  },
  {
   "cell_type": "code",
   "execution_count": 80,
   "id": "b7df036a-f935-40e0-b315-2a105b48df5a",
   "metadata": {
    "tags": []
   },
   "outputs": [
    {
     "data": {
      "text/plain": [
       "-0.07"
      ]
     },
     "execution_count": 80,
     "metadata": {},
     "output_type": "execute_result"
    }
   ],
   "source": [
    "AverageImpactOfAttack(watermark_predictor, ReplaceTokens, dict(num_replaced_tokens=2, tokenizer=TreebankWordTokenizer(), detokenizer=TreebankWordDetokenizer()), sentence_marked_eval_data, label=\"watermarked\")"
   ]
  },
  {
   "cell_type": "markdown",
   "id": "54fa2d30-02d7-4a42-a577-7d4e9f3253f4",
   "metadata": {
    "tags": []
   },
   "source": [
    "### Replace 3 tokens"
   ]
  },
  {
   "cell_type": "code",
   "execution_count": 81,
   "id": "7c9265c5-3f56-436d-b001-14e73e1164ad",
   "metadata": {
    "tags": []
   },
   "outputs": [
    {
     "data": {
      "text/plain": [
       "-0.09"
      ]
     },
     "execution_count": 81,
     "metadata": {},
     "output_type": "execute_result"
    }
   ],
   "source": [
    "AverageImpactOfAttack(watermark_predictor, ReplaceTokens, dict(num_replaced_tokens=3, tokenizer=TreebankWordTokenizer(), detokenizer=TreebankWordDetokenizer()), sentence_marked_eval_data, label=\"watermarked\")"
   ]
  },
  {
   "cell_type": "markdown",
   "id": "374599da-5b91-4171-a5b2-438ceef7d009",
   "metadata": {
    "tags": []
   },
   "source": [
    "# Unmarked - token replacement attack"
   ]
  },
  {
   "cell_type": "markdown",
   "id": "2e9e3dca-a77f-4990-b08b-47f03cc3a54c",
   "metadata": {
    "tags": []
   },
   "source": [
    "### Replace 1 token"
   ]
  },
  {
   "cell_type": "code",
   "execution_count": 82,
   "id": "eb712f60-81a2-423c-af4b-f018f70ea47c",
   "metadata": {
    "tags": []
   },
   "outputs": [
    {
     "data": {
      "text/plain": [
       "0.206"
      ]
     },
     "execution_count": 82,
     "metadata": {},
     "output_type": "execute_result"
    }
   ],
   "source": [
    "AverageImpactOfAttack(watermark_predictor, ReplaceTokens, dict(num_replaced_tokens=1, tokenizer=TreebankWordTokenizer(), detokenizer=TreebankWordDetokenizer()), sentence_unmarked_eval_data, label=\"unmarked\")"
   ]
  },
  {
   "cell_type": "markdown",
   "id": "1c8e3530-fbd3-4218-a969-4d522fede8bd",
   "metadata": {
    "tags": []
   },
   "source": [
    "### Replace 2 tokens"
   ]
  },
  {
   "cell_type": "code",
   "execution_count": 83,
   "id": "f77ad10f-a06e-481c-b7b5-468cbf92a177",
   "metadata": {
    "tags": []
   },
   "outputs": [
    {
     "data": {
      "text/plain": [
       "0.326"
      ]
     },
     "execution_count": 83,
     "metadata": {},
     "output_type": "execute_result"
    }
   ],
   "source": [
    "AverageImpactOfAttack(watermark_predictor, ReplaceTokens, dict(num_replaced_tokens=2, tokenizer=TreebankWordTokenizer(), detokenizer=TreebankWordDetokenizer()), sentence_unmarked_eval_data, label=\"unmarked\")"
   ]
  },
  {
   "cell_type": "markdown",
   "id": "042545d1-e627-41b3-a931-decd54129315",
   "metadata": {
    "tags": []
   },
   "source": [
    "### Replace 3 tokens"
   ]
  },
  {
   "cell_type": "code",
   "execution_count": 84,
   "id": "0d0900f8-9b79-47c9-a752-5d10e865d497",
   "metadata": {
    "tags": []
   },
   "outputs": [
    {
     "data": {
      "text/plain": [
       "0.398"
      ]
     },
     "execution_count": 84,
     "metadata": {},
     "output_type": "execute_result"
    }
   ],
   "source": [
    "AverageImpactOfAttack(watermark_predictor, ReplaceTokens, dict(num_replaced_tokens=3, tokenizer=TreebankWordTokenizer(), detokenizer=TreebankWordDetokenizer()), sentence_unmarked_eval_data, label=\"unmarked\")"
   ]
  }
 ],
 "metadata": {
  "kernelspec": {
   "display_name": "Python 3 (ipykernel)",
   "language": "python",
   "name": "python3"
  },
  "language_info": {
   "codemirror_mode": {
    "name": "ipython",
    "version": 3
   },
   "file_extension": ".py",
   "mimetype": "text/x-python",
   "name": "python",
   "nbconvert_exporter": "python",
   "pygments_lexer": "ipython3",
   "version": "3.9.0"
  }
 },
 "nbformat": 4,
 "nbformat_minor": 5
}
