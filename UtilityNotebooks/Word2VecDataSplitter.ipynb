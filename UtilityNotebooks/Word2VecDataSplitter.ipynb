{
 "cells": [
  {
   "cell_type": "code",
   "execution_count": 5,
   "id": "32143d0d",
   "metadata": {},
   "outputs": [],
   "source": [
    "import pandas as pd\n",
    "import numpy as np\n",
    "import random\n",
    "import re\n",
    "import pickle\n",
    "import os\n",
    "from nltk.tokenize.treebank import TreebankWordDetokenizer"
   ]
  },
  {
   "cell_type": "code",
   "execution_count": 8,
   "id": "317b1a6c",
   "metadata": {},
   "outputs": [],
   "source": [
    "marked_data_folder = 'AllWord2VecV1Watermarked/'\n",
    "unmarked_data_folder = 'AllWord2VecV1Unmarked/'"
   ]
  },
  {
   "cell_type": "code",
   "execution_count": 19,
   "id": "7ddb7a74",
   "metadata": {},
   "outputs": [],
   "source": [
    "unmarked = []\n",
    "watermarked = []\n",
    "\n",
    "for file in sorted(os.listdir(marked_data_folder)):\n",
    "    if file.lower().endswith('.pkl'):\n",
    "        with open(marked_data_folder + file, 'rb') as fileobj:\n",
    "            watermarked.extend(pickle.load(fileobj))\n",
    "        \n",
    "for file in sorted(os.listdir(unmarked_data_folder)):\n",
    "    if file.lower().endswith('.pkl'):\n",
    "        with open(unmarked_data_folder + file, 'rb') as fileobj:\n",
    "            unmarked.extend(pickle.load(fileobj))"
   ]
  },
  {
   "cell_type": "code",
   "execution_count": 23,
   "id": "a72847d2",
   "metadata": {},
   "outputs": [
    {
     "name": "stdout",
     "output_type": "stream",
     "text": [
      "136008\n",
      "136008\n"
     ]
    }
   ],
   "source": [
    "if len(unmarked) != len(watermarked):\n",
    "    print(\"Size mismatch\")\n",
    "    \n",
    "print(len(watermarked))\n",
    "print(len(unmarked))"
   ]
  },
  {
   "cell_type": "code",
   "execution_count": 5,
   "id": "3e79a979",
   "metadata": {},
   "outputs": [],
   "source": [
    "zero_len = int(len(watermarked) / 2)\n",
    "labels = [0] * zero_len + [1] * (len(watermarked) - zero_len)\n",
    "random.shuffle(labels)"
   ]
  },
  {
   "cell_type": "code",
   "execution_count": 6,
   "id": "43908324",
   "metadata": {},
   "outputs": [
    {
     "data": {
      "text/plain": [
       "53713"
      ]
     },
     "execution_count": 6,
     "metadata": {},
     "output_type": "execute_result"
    }
   ],
   "source": [
    "len(labels)"
   ]
  },
  {
   "cell_type": "code",
   "execution_count": 7,
   "id": "a7324e53",
   "metadata": {},
   "outputs": [
    {
     "data": {
      "text/plain": [
       "53713"
      ]
     },
     "execution_count": 7,
     "metadata": {},
     "output_type": "execute_result"
    }
   ],
   "source": [
    "len(watermarked)"
   ]
  },
  {
   "cell_type": "code",
   "execution_count": 8,
   "id": "cffaaf49",
   "metadata": {},
   "outputs": [],
   "source": [
    "final_list = []\n",
    "\n",
    "for i in range(len(watermarked)):\n",
    "    if labels[i] == 1:\n",
    "        final_list.append(TreebankWordDetokenizer().detokenize(watermarked[i]))\n",
    "        \n",
    "    if labels[i] == 0:\n",
    "        final_list.append(TreebankWordDetokenizer().detokenize(unmarked[i]))\n",
    "        \n",
    "split_test_data_dict = full_dictionary = {\"text\": final_list, \"marked\": labels}\n",
    "split_test_data = pd.DataFrame.from_dict(split_test_data_dict)"
   ]
  },
  {
   "cell_type": "code",
   "execution_count": 9,
   "id": "8cb8dd8a",
   "metadata": {},
   "outputs": [
    {
     "data": {
      "text/html": [
       "<div>\n",
       "<style scoped>\n",
       "    .dataframe tbody tr th:only-of-type {\n",
       "        vertical-align: middle;\n",
       "    }\n",
       "\n",
       "    .dataframe tbody tr th {\n",
       "        vertical-align: top;\n",
       "    }\n",
       "\n",
       "    .dataframe thead th {\n",
       "        text-align: right;\n",
       "    }\n",
       "</style>\n",
       "<table border=\"1\" class=\"dataframe\">\n",
       "  <thead>\n",
       "    <tr style=\"text-align: right;\">\n",
       "      <th></th>\n",
       "      <th>text</th>\n",
       "      <th>marked</th>\n",
       "    </tr>\n",
       "  </thead>\n",
       "  <tbody>\n",
       "    <tr>\n",
       "      <th>0</th>\n",
       "      <td>the fulton county grand jury said friday an in...</td>\n",
       "      <td>1</td>\n",
       "    </tr>\n",
       "    <tr>\n",
       "      <th>1</th>\n",
       "      <td>the jury further said in term-end presentments...</td>\n",
       "      <td>1</td>\n",
       "    </tr>\n",
       "    <tr>\n",
       "      <th>2</th>\n",
       "      <td>the september-october term jury had been charg...</td>\n",
       "      <td>0</td>\n",
       "    </tr>\n",
       "    <tr>\n",
       "      <th>3</th>\n",
       "      <td>\"only a relative handful of such reports was r...</td>\n",
       "      <td>0</td>\n",
       "    </tr>\n",
       "    <tr>\n",
       "      <th>4</th>\n",
       "      <td>the jury said it did find that many of georgia...</td>\n",
       "      <td>1</td>\n",
       "    </tr>\n",
       "    <tr>\n",
       "      <th>...</th>\n",
       "      <td>...</td>\n",
       "      <td>...</td>\n",
       "    </tr>\n",
       "    <tr>\n",
       "      <th>53708</th>\n",
       "      <td>my advice, if you live long enough to continue...</td>\n",
       "      <td>1</td>\n",
       "    </tr>\n",
       "    <tr>\n",
       "      <th>53709</th>\n",
       "      <td>as you can counting on me to do the same.</td>\n",
       "      <td>1</td>\n",
       "    </tr>\n",
       "    <tr>\n",
       "      <th>53710</th>\n",
       "      <td>the doors of the d train slid shut, and as i d...</td>\n",
       "      <td>1</td>\n",
       "    </tr>\n",
       "    <tr>\n",
       "      <th>53711</th>\n",
       "      <td>she was a living dolls and no mistake--the blu...</td>\n",
       "      <td>1</td>\n",
       "    </tr>\n",
       "    <tr>\n",
       "      <th>53712</th>\n",
       "      <td>from what i was able to gauge in a swift, gree...</td>\n",
       "      <td>0</td>\n",
       "    </tr>\n",
       "  </tbody>\n",
       "</table>\n",
       "<p>53713 rows × 2 columns</p>\n",
       "</div>"
      ],
      "text/plain": [
       "                                                    text  marked\n",
       "0      the fulton county grand jury said friday an in...       1\n",
       "1      the jury further said in term-end presentments...       1\n",
       "2      the september-october term jury had been charg...       0\n",
       "3      \"only a relative handful of such reports was r...       0\n",
       "4      the jury said it did find that many of georgia...       1\n",
       "...                                                  ...     ...\n",
       "53708  my advice, if you live long enough to continue...       1\n",
       "53709          as you can counting on me to do the same.       1\n",
       "53710  the doors of the d train slid shut, and as i d...       1\n",
       "53711  she was a living dolls and no mistake--the blu...       1\n",
       "53712  from what i was able to gauge in a swift, gree...       0\n",
       "\n",
       "[53713 rows x 2 columns]"
      ]
     },
     "execution_count": 9,
     "metadata": {},
     "output_type": "execute_result"
    }
   ],
   "source": [
    "split_test_data"
   ]
  },
  {
   "cell_type": "code",
   "execution_count": 15,
   "id": "209e4af0",
   "metadata": {},
   "outputs": [],
   "source": [
    "split_test_data.to_csv('SplitWord2VecDataV2.csv')"
   ]
  }
 ],
 "metadata": {
  "kernelspec": {
   "display_name": "Python 3 (ipykernel)",
   "language": "python",
   "name": "python3"
  },
  "language_info": {
   "codemirror_mode": {
    "name": "ipython",
    "version": 3
   },
   "file_extension": ".py",
   "mimetype": "text/x-python",
   "name": "python",
   "nbconvert_exporter": "python",
   "pygments_lexer": "ipython3",
   "version": "3.9.0"
  }
 },
 "nbformat": 4,
 "nbformat_minor": 5
}
